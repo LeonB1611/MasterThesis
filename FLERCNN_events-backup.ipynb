{
 "cells": [
  {
   "cell_type": "code",
   "execution_count": 3,
   "id": "6357db1b",
   "metadata": {},
   "outputs": [],
   "source": [
    "from pisa.core.distribution_maker import DistributionMaker\n"
   ]
  },
  {
   "cell_type": "code",
   "execution_count": null,
   "id": "10d6c234",
   "metadata": {},
   "outputs": [],
   "source": [
    "path = \"/afs/ifh.de/user/b/buchholl/scratch/software/fridge/analysis/\"\n",
    "neutrino_pipeline = \"oscNext_flercnn_sterile/settings/pipeline/pipeline_oscNext_neutrinos_std_osc_nh.cfg\"\n",
    "muon_pipeline = \"oscNext_flercnn_sterile/settings/pipeline/pipeline_oscNext_muons.cfg\"\n",
    "template_pipeline_file = [neutrino_pipeline, muon_pipeline]\n",
    "\n",
    "# Create a template distribution maker using the pipeline cfg file.\n",
    "template_maker = DistributionMaker(template_pipeline_file)"
   ]
  },
  {
   "cell_type": "code",
   "execution_count": null,
   "id": "1ec6a605",
   "metadata": {},
   "outputs": [],
   "source": [
    "template_maker.params.free"
   ]
  },
  {
   "cell_type": "code",
   "execution_count": null,
   "id": "2e525ab0",
   "metadata": {
    "scrolled": true
   },
   "outputs": [],
   "source": [
    "template = template_maker.get_outputs(return_sum=True)"
   ]
  },
  {
   "cell_type": "code",
   "execution_count": null,
   "id": "81c353d5",
   "metadata": {},
   "outputs": [],
   "source": [
    "template[0].plot()"
   ]
  },
  {
   "cell_type": "code",
   "execution_count": null,
   "id": "f8b512e4",
   "metadata": {},
   "outputs": [],
   "source": []
  }
 ],
 "metadata": {
  "kernelspec": {
   "display_name": "Python 3 (ipykernel)",
   "language": "python",
   "name": "python3"
  },
  "language_info": {
   "codemirror_mode": {
    "name": "ipython",
    "version": 3
   },
   "file_extension": ".py",
   "mimetype": "text/x-python",
   "name": "python",
   "nbconvert_exporter": "python",
   "pygments_lexer": "ipython3",
   "version": "3.10.2"
  }
 },
 "nbformat": 4,
 "nbformat_minor": 5
}
