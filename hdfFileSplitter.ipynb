{
 "cells": [
  {
   "cell_type": "code",
   "execution_count": 1,
   "id": "8d99d989",
   "metadata": {},
   "outputs": [],
   "source": [
    "%matplotlib inline\n",
    "import matplotlib as mpl\n",
    "import nuSQUIDSpy as nsq\n",
    "import matplotlib.pyplot as plt\n",
    "\n",
    "import nuSQUIDSTools\n",
    "import numpy as np\n",
    "import time as t\n",
    "import h5py as hdf"
   ]
  },
  {
   "cell_type": "code",
   "execution_count": 2,
   "id": "d45a7e6c",
   "metadata": {},
   "outputs": [],
   "source": [
    "units = nsq.Const()"
   ]
  },
  {
   "cell_type": "code",
   "execution_count": 3,
   "id": "7b4c5c1b",
   "metadata": {},
   "outputs": [],
   "source": [
    "inelast_filenames ={'e':'FLERCNN_plus_121151.h5'\n",
    "            ,'mu':'FLERCNN_plus_141154.h5'\n",
    "            ,'tau':'FLERCNN_plus_161151.h5'}"
   ]
  },
  {
   "cell_type": "code",
   "execution_count": 4,
   "id": "6cccbdee",
   "metadata": {},
   "outputs": [],
   "source": [
    "folder = '/afs/ifh.de/user/a/akumar/lustre/data/oscNext/flercnn_sample_inelasticity/'\n",
    "hdf_inel_mu = hdf.File(folder+inelast_filenames['mu'],'r')\n",
    "hdf_inel_tau = hdf.File(folder+inelast_filenames['tau'],'r')\n",
    "hdf_inel_e = hdf.File(folder+inelast_filenames['e'],'r')"
   ]
  },
  {
   "cell_type": "code",
   "execution_count": 5,
   "id": "ea3f9f0e",
   "metadata": {},
   "outputs": [],
   "source": [
    "isnumu=hdf_inel_mu['pdg_code'][1:]>0\n",
    "isnumubar=hdf_inel_mu['pdg_code'][1:]<0\n",
    "isnue=hdf_inel_e['pdg_code'][1:]>0\n",
    "isnuebar=hdf_inel_e['pdg_code'][1:]<0\n",
    "isnutau=hdf_inel_tau['pdg_code'][1:]>0\n",
    "isnutaubar=hdf_inel_tau['pdg_code'][1:]<0"
   ]
  },
  {
   "cell_type": "code",
   "execution_count": 6,
   "id": "ecb97630",
   "metadata": {},
   "outputs": [],
   "source": [
    "nue_yisnegative=hdf_inel_mu['bjorken_y'][1:]>0\n",
    "nutau_yisnegative=hdf_inel_mu['bjorken_y'][1:]>0\n",
    "numu_yisnegative=hdf_inel_mu['bjorken_y'][1:]>0"
   ]
  },
  {
   "cell_type": "markdown",
   "id": "a7aec9c9",
   "metadata": {},
   "source": [
    "## File Splitter"
   ]
  },
  {
   "cell_type": "code",
   "execution_count": 7,
   "id": "0998e1f5",
   "metadata": {},
   "outputs": [],
   "source": [
    "filesplit = False"
   ]
  },
  {
   "cell_type": "code",
   "execution_count": 8,
   "id": "743f84d1",
   "metadata": {},
   "outputs": [
    {
     "ename": "IndentationError",
     "evalue": "expected an indented block after 'if' statement on line 1 (1946333854.py, line 2)",
     "output_type": "error",
     "traceback": [
      "\u001b[0;36m  Input \u001b[0;32mIn [8]\u001b[0;36m\u001b[0m\n\u001b[0;31m    \u001b[0m\n\u001b[0m    ^\u001b[0m\n\u001b[0;31mIndentationError\u001b[0m\u001b[0;31m:\u001b[0m expected an indented block after 'if' statement on line 1\n"
     ]
    }
   ],
   "source": [
    "if filesplit==True:\n",
    "    "
   ]
  }
 ],
 "metadata": {
  "kernelspec": {
   "display_name": "Python 3 (ipykernel)",
   "language": "python",
   "name": "python3"
  },
  "language_info": {
   "codemirror_mode": {
    "name": "ipython",
    "version": 3
   },
   "file_extension": ".py",
   "mimetype": "text/x-python",
   "name": "python",
   "nbconvert_exporter": "python",
   "pygments_lexer": "ipython3",
   "version": "3.10.2"
  }
 },
 "nbformat": 4,
 "nbformat_minor": 5
}
