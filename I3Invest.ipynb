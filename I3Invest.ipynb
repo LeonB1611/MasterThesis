{
 "cells": [
  {
   "cell_type": "code",
   "execution_count": 2,
   "id": "c314c872",
   "metadata": {},
   "outputs": [
    {
     "ename": "ModuleNotFoundError",
     "evalue": "No module named 'icecube'",
     "output_type": "error",
     "traceback": [
      "\u001b[0;31m---------------------------------------------------------------------------\u001b[0m",
      "\u001b[0;31mModuleNotFoundError\u001b[0m                       Traceback (most recent call last)",
      "Cell \u001b[0;32mIn[2], line 1\u001b[0m\n\u001b[0;32m----> 1\u001b[0m \u001b[38;5;28;01mfrom\u001b[39;00m \u001b[38;5;21;01micecube\u001b[39;00m \u001b[38;5;28;01mimport\u001b[39;00m icetray,dataio,dataclasses\n\u001b[1;32m      2\u001b[0m \u001b[38;5;28;01mimport\u001b[39;00m \u001b[38;5;21;01mos\u001b[39;00m\u001b[38;5;241m,\u001b[39m\u001b[38;5;21;01msys\u001b[39;00m\n\u001b[1;32m      3\u001b[0m \u001b[38;5;28;01mimport\u001b[39;00m \u001b[38;5;21;01mnumpy\u001b[39;00m \u001b[38;5;28;01mas\u001b[39;00m \u001b[38;5;21;01mnp\u001b[39;00m\n",
      "\u001b[0;31mModuleNotFoundError\u001b[0m: No module named 'icecube'"
     ]
    }
   ],
   "source": [
    "from icecube import icetray,dataio,dataclasses\n",
    "import os,sys\n",
    "import numpy as np\n",
    "import math as m"
   ]
  },
  {
   "cell_type": "code",
   "execution_count": null,
   "id": "e3a8a0e0",
   "metadata": {},
   "outputs": [],
   "source": [
    "i3folder = \"/afs/ifh.de/user/a/akumar/lustre/data/oscNext/flercnn_sample_inelasticity/i3files_level9_flercnn_plus/141154\"\n",
    "i3filename=\"oscNext_genie_level9_flercnn-plus_pass2.141154.000000.i3.zst\""
   ]
  },
  {
   "cell_type": "code",
   "execution_count": null,
   "id": "24ad7249",
   "metadata": {},
   "outputs": [],
   "source": [
    "os.path.join(i3folder,i3filename)"
   ]
  },
  {
   "cell_type": "code",
   "execution_count": null,
   "id": "162046dc",
   "metadata": {},
   "outputs": [],
   "source": [
    "files_141154=[]\n",
    "for name in sorted(os.listdir(\"/afs/ifh.de/user/a/akumar/lustre/data/oscNext/flercnn_sample_inelasticity/i3files_level9_flercnn_plus/141154\")):\n",
    "    files_141154.append(name)"
   ]
  },
  {
   "cell_type": "code",
   "execution_count": null,
   "id": "d31d69c6",
   "metadata": {},
   "outputs": [],
   "source": [
    "tray=icetray.I3Tray()\n",
    "tray.Add(\"I3Reader\",filename=\"oscNext_genie_level9_flercnn-plus_pass2.141154.001549.i3.zst\")\n",
    "tray.Execute()\n",
    "tray.Finish()"
   ]
  },
  {
   "cell_type": "code",
   "execution_count": null,
   "id": "9423c843",
   "metadata": {},
   "outputs": [],
   "source": [
    "frame=icetray.I3Frame()\n",
    "frame['mytree']=dataclasses.I3MCTree()\n",
    "frame['my_particle']=dataclasses.I3Particle()\n",
    "frame['my_launch_series_map']=dataclasses.I3DOMLaunchSeriesMap()"
   ]
  },
  {
   "cell_type": "code",
   "execution_count": null,
   "id": "ecb99f05",
   "metadata": {},
   "outputs": [],
   "source": [
    "print(frame)"
   ]
  },
  {
   "cell_type": "code",
   "execution_count": null,
   "id": "e98967d4",
   "metadata": {},
   "outputs": [],
   "source": [
    "def show_tree(frame,name='I3MCTree'):        \n",
    "    print('I3MCTree: \\n',frame[name],'\\n')\n",
    "    ''\n",
    "def show_PID(frame,name='CNN2D_reco_PID'):\n",
    "    print('Reco PID: \\n',frame[name],'\\n')\n",
    "    \n",
    "def show_yreco(frame,name='CNN2D_reco_y'):\n",
    "    print('Reco y: \\n',frame[name],'\\n')\n",
    "    \n",
    "def get_tree(frame,name='I3MCTree'):        \n",
    "    return(frame[name])"
   ]
  },
  {
   "cell_type": "code",
   "execution_count": null,
   "id": "3787e60a",
   "metadata": {},
   "outputs": [],
   "source": [
    "def y_observable(names,Es):\n",
    "    '''\n",
    "    calculates inelasticity from observable (EM visible) particles\n",
    "    y_obs=Evis_casc/Evis_tot\n",
    "    '''\n",
    "    names_casc = names[1:]\n",
    "    casc_names=['Minus','Plus','Pi0','Gamma','O16Nucleus']\n",
    "    \n",
    "    visible=np.zeros_like(names_casc,dtype=bool)\n",
    "    \n",
    "    for typ in casc_names:\n",
    "        visible+=np.array([typ in pname for pname in names_casc],dtype=bool)\n",
    "        \n",
    "    Evis_trk=Es[1]\n",
    "    Evis_casc=np.sum(visible[1:]*np.array(Es[2:]))\n",
    "    \n",
    "    return Evis_casc/(Evis_casc+Evis_trk)"
   ]
  },
  {
   "cell_type": "code",
   "execution_count": null,
   "id": "083b0970",
   "metadata": {},
   "outputs": [],
   "source": [
    "import time as t\n",
    "from icecube import simclasses"
   ]
  },
  {
   "cell_type": "code",
   "execution_count": null,
   "id": "6021f670",
   "metadata": {},
   "outputs": [],
   "source": [
    "files=sorted(os.listdir(i3folder))"
   ]
  },
  {
   "cell_type": "code",
   "execution_count": null,
   "id": "447f8268",
   "metadata": {},
   "outputs": [],
   "source": [
    "len(files)"
   ]
  },
  {
   "cell_type": "code",
   "execution_count": null,
   "id": "3921e7d3",
   "metadata": {},
   "outputs": [],
   "source": [
    "ExtractArraysfromI3=False\n",
    "\n",
    "if ExtractArraysfromI3:\n",
    "    \n",
    "    MCTree_Farm=[]\n",
    "    Es=[]\n",
    "    ls=[]\n",
    "    cc=[]\n",
    "    ptypes=[]\n",
    "    ys_lvl6_5=[]\n",
    "    ys_lvl6_30=[]\n",
    "    reco_PIDS=[]\n",
    "\n",
    "    #Only appends alternating QPQPQP... structure until end of QPQPQP.... chain\n",
    "\n",
    "    Q = True\n",
    "    P = False\n",
    "    \n",
    "    for num,filename in enumerate(files):\n",
    "        t0=t.time()\n",
    "        framefile = filename\n",
    "        for frame in dataio.I3File(os.path.join(i3folder,framefile),'r'):\n",
    "            if frame.Stop==frame.DAQ:\n",
    "                if P:\n",
    "                    continue        \n",
    "                if Q:\n",
    "                    P = True\n",
    "                    Q = False\n",
    "\n",
    "                Elist=[]\n",
    "                ptypelist=[]\n",
    "                \n",
    "                cc.append(frame['I3GENIEResultDict'].get('cc'))\n",
    "                current_frame=frame['I3MCTree']\n",
    "\n",
    "                for i in range(len(current_frame)):\n",
    "                    Elist.append(current_frame[i].energy)\n",
    "                    ptypelist.append(current_frame[i].type_string)\n",
    "                        \n",
    "                if not np.isnan(current_frame[1].length):\n",
    "                    ls.append(current_frame[1].length)\n",
    "                else:\n",
    "                    ls.append(float('Nan'))\n",
    "\n",
    "                MCTree_Farm.append(current_frame)\n",
    "                Es.append(Elist)\n",
    "                ptypes.append(ptypelist)\n",
    "\n",
    "            if frame.Stop==frame.Physics:\n",
    "                if Q:\n",
    "                    continue        \n",
    "                if P:\n",
    "                    Q = True\n",
    "                    P = False\n",
    "\n",
    "                ys_lvl6_5.append(frame['CNN2D_reco_y'].get('CNN2D_y_lvl6_5gev_200rho36'))\n",
    "                ys_lvl6_30.append(frame['CNN2D_reco_y'].get('CNN2D_y_lvl6_30gev_200rho36'))\n",
    "                reco_PIDS.append(frame['FLERCNN_prob_track'].value)\n",
    "\n",
    "        t1=t.time()\n",
    "        print(\"Current File:\",t1-t0,\"s. Current File No.:\",num)"
   ]
  },
  {
   "cell_type": "code",
   "execution_count": null,
   "id": "f12b9c95",
   "metadata": {},
   "outputs": [],
   "source": [
    "import h5py as hdf\n",
    "import matplotlib.pyplot as plt\n",
    "import json"
   ]
  },
  {
   "cell_type": "code",
   "execution_count": null,
   "id": "57844cb5",
   "metadata": {},
   "outputs": [],
   "source": [
    "createhdf=False\n",
    "createjson=False\n",
    "\n",
    "if createhdf:\n",
    "    hf = hdf.File('I3Arrays.h5', 'w')\n",
    "    hf.create_dataset('track_length', data=ls)\n",
    "    hf.create_dataset('CNN2D_y_lvl6_5gev_200rho36', data=ys_lvl6_5)\n",
    "    hf.create_dataset('CNN2D_y_lvl6_30gev_200rho36', data=ys_lvl6_30)\n",
    "    hf.create_dataset('reco_PID', data=reco_PIDS)\n",
    "    hf.create_dataset('cc', data=cc)\n",
    "    hf.close()\n",
    "if createjson:\n",
    "    #Save particle types and energies per event\n",
    "    with open(\"eventfile.txt\", 'w') as ef:\n",
    "        evlist=list([Es,ptypes])\n",
    "        json.dump(evlist, ef) "
   ]
  },
  {
   "cell_type": "code",
   "execution_count": null,
   "id": "47822937",
   "metadata": {},
   "outputs": [],
   "source": [
    "with open(\"eventfile.txt\") as fp:\n",
    "    Es,ptypes = json.load(fp)"
   ]
  },
  {
   "cell_type": "code",
   "execution_count": null,
   "id": "0b5f2c67",
   "metadata": {},
   "outputs": [],
   "source": [
    "true_E=[]\n",
    "for i in range(len(Es)):\n",
    "    true_E.append(Es[i][0])\n",
    "true_E=np.array(true_E)"
   ]
  },
  {
   "cell_type": "code",
   "execution_count": null,
   "id": "0f24c8ed",
   "metadata": {},
   "outputs": [],
   "source": [
    "plt.hist(true_E)\n",
    "plt.yscale('log')\n",
    "plt.xlabel('True Energy')\n",
    "plt.ylabel('Raw Event Count')"
   ]
  },
  {
   "cell_type": "code",
   "execution_count": null,
   "id": "357a4727",
   "metadata": {},
   "outputs": [],
   "source": [
    "hf = hdf.File('I3Arrays.h5','r')"
   ]
  },
  {
   "cell_type": "code",
   "execution_count": null,
   "id": "7150ea45",
   "metadata": {},
   "outputs": [],
   "source": [
    "lengths = hf['track_length'][:]\n",
    "y6_5 = hf['CNN2D_y_lvl6_5gev_200rho36'][:]\n",
    "y6_30 = hf['CNN2D_y_lvl6_30gev_200rho36'][:]\n",
    "PIDs = hf['reco_PID'][:]\n",
    "is_cc = hf['cc'][:]"
   ]
  },
  {
   "cell_type": "code",
   "execution_count": null,
   "id": "0084c74c",
   "metadata": {},
   "outputs": [],
   "source": [
    "is_cc = np.array(list(is_cc),dtype=bool)"
   ]
  },
  {
   "cell_type": "code",
   "execution_count": null,
   "id": "f559f2f2",
   "metadata": {
    "scrolled": true
   },
   "outputs": [],
   "source": [
    "plt.hist(PIDs,histtype='step',bins=21,label='Wrong PID')\n",
    "plt.xlabel('CNN2D_PID_prob_t')\n",
    "plt.ylabel('Raw no. of Events')\n",
    "plt.title('I3 Verification Testplot')\n",
    "plt.savefig('I3_CNN2D_PID_testplot.png')"
   ]
  },
  {
   "cell_type": "code",
   "execution_count": null,
   "id": "293d5db5",
   "metadata": {},
   "outputs": [],
   "source": [
    "lowPID = PIDs <= 0.15\n",
    "mixedPID = (PIDs > 0.15) & (PIDs < 0.85)\n",
    "highPID = PIDs >= 0.85\n",
    "\n",
    "lowY = y6_30 <= 0.33\n",
    "medY = (y6_30 > 0.33) & (y6_30 < 0.66)\n",
    "highY = y6_30 >= 0.66\n",
    "\n",
    "zones = {'low_low':(lowPID & lowY),\n",
    "         'low_med':(lowPID & medY),\n",
    "         'low_high':(lowPID & highY),\n",
    "         'med_low':(mixedPID & lowY),\n",
    "         'med_med':(mixedPID & medY),\n",
    "         'med_high':(mixedPID & highY),\n",
    "         'high_low':(highPID & lowY),\n",
    "         'high_med':(highPID & medY),\n",
    "         'high_high':(highPID & highY),\n",
    "}\n",
    "\n",
    "zonelabels = {'low_low':'PID$_{reco} \\leq$ 0.15, y$_{reco} \\leq$ 0.33',\n",
    "         'low_med':'PID$_{reco} \\leq$ 0.15, 0.33 < y$_{reco}$ < 0.66',\n",
    "         'low_high':'PID$_{reco} \\leq$ 0.15, 0.66 $\\leq$ y$_{reco}$',\n",
    "         'med_low':'0.15 < PID$_{reco}$ < 0.85, y$_{reco} \\leq$ 0.33',\n",
    "         'med_med':'0.15 < PID$_{reco}$ < 0.85, 0.33 < y$_{reco}$ < 0.66',\n",
    "         'med_high':'0.15 < PID$_{reco}$ < 0.85, 0.66 $\\leq$ y$_{reco}$',\n",
    "         'high_low':'0.85 $\\leq$ PID$_{reco}$, y$_{reco} \\leq$ 0.33',\n",
    "         'high_med':'0.85 $\\leq$ PID$_{reco}$, 0.33 < y$_{reco}$ < 0.66',\n",
    "         'high_high':'0.85 $\\leq$ PID$_{reco}$, 0.66 $\\leq$ y$_{reco}$',\n",
    "}"
   ]
  },
  {
   "cell_type": "code",
   "execution_count": null,
   "id": "4b972c00",
   "metadata": {},
   "outputs": [],
   "source": [
    "t0=t.time()\n",
    "yobs = np.zeros_like(PIDs)\n",
    "for i in range(yobs.size):\n",
    "    yobs[i]=y_observable(ptypes[i],Es[i])\n",
    "t1=t.time()\n",
    "print('Calculation took: %0.3f s' %(t1-t0))"
   ]
  },
  {
   "cell_type": "code",
   "execution_count": null,
   "id": "c5f7ac77",
   "metadata": {},
   "outputs": [],
   "source": [
    "E_med = (true_E <= 100) & (true_E >= 30)\n",
    "E_high = (true_E <= 300) & (true_E >= 100)\n",
    "E_in_range = (true_E <= 300) & (true_E >= 30)"
   ]
  },
  {
   "cell_type": "code",
   "execution_count": null,
   "id": "4aa8116b",
   "metadata": {},
   "outputs": [],
   "source": [
    "yrange=np.linspace(0,1,21)\n",
    "\n",
    "plt.hist(np.array(yobs),histtype='step',label='y_visible',bins=yrange)\n",
    "plt.hist(y6_30,histtype='step',label='y_reco (lvl6_30gev_200rho36)',bins=yrange)\n",
    "plt.xlabel('Inelasticity')\n",
    "plt.ylabel('Raw No. of Events')\n",
    "plt.legend()"
   ]
  },
  {
   "cell_type": "code",
   "execution_count": null,
   "id": "5f77ecdf",
   "metadata": {
    "scrolled": true
   },
   "outputs": [],
   "source": [
    "yrange=np.linspace(0,1,21)\n",
    "for key in list(zones.keys()):\n",
    "    zone = np.array(zones[key])\n",
    "    plt.hist(np.array(yobs)[zone & E_in_range],histtype='step',label='y_visible',bins=yrange)\n",
    "    plt.xlabel('Inelasticity')\n",
    "    plt.ylabel('Raw No. of Events')\n",
    "    plt.title(zonelabels[key]+r', true_E $\\in$ [30,300] GeV')\n",
    "    plt.legend()\n",
    "    plt.savefig('Inelast_Plots/I3Zones/%s_pid_y.png' %key)\n",
    "    plt.show()"
   ]
  },
  {
   "cell_type": "code",
   "execution_count": null,
   "id": "8baefeb9",
   "metadata": {},
   "outputs": [],
   "source": [
    "distinct_ps=[]\n",
    "for ps in ptypes:\n",
    "    for pname in ps:\n",
    "        if pname not in distinct_ps:\n",
    "            distinct_ps.append(pname)"
   ]
  },
  {
   "cell_type": "code",
   "execution_count": null,
   "id": "2df2c2db",
   "metadata": {},
   "outputs": [],
   "source": [
    "distinct_ps"
   ]
  },
  {
   "cell_type": "code",
   "execution_count": null,
   "id": "78bb04f0",
   "metadata": {},
   "outputs": [],
   "source": [
    "visible=np.zeros_like(distinct_ps,dtype=bool)\n",
    "\n",
    "casc_names=['Minus','Plus','Pi0','Gamma','O16Nucleus']\n",
    "\n",
    "for typ in casc_names:\n",
    "    visible+=np.array([typ in pname for pname in distinct_ps],dtype=bool)\n",
    "plt.figure(figsize=(14, 7))\n",
    "plt.bar(distinct_ps,visible)\n",
    "plt.ylabel('Visibility',fontsize=14)\n",
    "plt.xticks(rotation=90,fontsize=12);"
   ]
  },
  {
   "cell_type": "code",
   "execution_count": null,
   "id": "42c95190",
   "metadata": {},
   "outputs": [],
   "source": [
    "distinct_p_index = {distinct_ps[i]: i for i in range(0, len(distinct_ps))}\n",
    "p_multiplicity = np.zeros_like(distinct_ps,dtype=float)\n",
    "for ps in ptypes:\n",
    "    for pname in ps:\n",
    "        index = distinct_p_index[pname]\n",
    "        p_multiplicity[index]+=1"
   ]
  },
  {
   "cell_type": "code",
   "execution_count": null,
   "id": "b6148075",
   "metadata": {
    "scrolled": true
   },
   "outputs": [],
   "source": [
    "plt.figure(figsize=(14, 7))\n",
    "plt.bar(distinct_ps,p_multiplicity)\n",
    "plt.ylabel('Total summed particle multiplicity',fontsize=14)\n",
    "plt.xticks(rotation=90,fontsize=12);\n",
    "plt.yscale('log')"
   ]
  },
  {
   "cell_type": "code",
   "execution_count": null,
   "id": "5c877d20",
   "metadata": {},
   "outputs": [],
   "source": [
    "p_event_likelihood = np.zeros_like(distinct_ps,dtype=float)\n",
    "for ps in ptypes:\n",
    "    for pname in list(set(ps)):\n",
    "        index = distinct_p_index[pname]\n",
    "        p_event_likelihood[index]+=1\n",
    "p_event_likelihood/=len(ptypes)"
   ]
  },
  {
   "cell_type": "code",
   "execution_count": null,
   "id": "33317c0d",
   "metadata": {
    "scrolled": true
   },
   "outputs": [],
   "source": [
    "plt.figure(figsize=(14, 7))\n",
    "plt.bar(distinct_ps,p_event_likelihood)\n",
    "plt.ylabel('Fraction of events w/ at least one of particle type',fontsize=14)\n",
    "plt.xticks(rotation=90,fontsize=12);\n",
    "plt.show()\n",
    "\n",
    "plt.figure(figsize=(14, 7))\n",
    "plt.bar(distinct_ps,p_event_likelihood)\n",
    "plt.ylabel('Fraction of events w/ at least one of particle type',fontsize=14)\n",
    "plt.xticks(rotation=90,fontsize=12);\n",
    "plt.yscale('log')\n",
    "plt.show()"
   ]
  },
  {
   "cell_type": "code",
   "execution_count": null,
   "id": "983b6c43",
   "metadata": {},
   "outputs": [],
   "source": [
    "def findO16(ptypes):\n",
    "    o16_is=[]\n",
    "    for i,p in enumerate(ptypes):\n",
    "        for name in p:\n",
    "            if name=='O16Nucleus':\n",
    "                o16_is+=[i]\n",
    "    return o16_is"
   ]
  },
  {
   "cell_type": "code",
   "execution_count": null,
   "id": "4fdcbae5",
   "metadata": {},
   "outputs": [],
   "source": [
    "o16_i=findO16(ptypes)"
   ]
  },
  {
   "cell_type": "code",
   "execution_count": null,
   "id": "4699c6b0",
   "metadata": {},
   "outputs": [],
   "source": [
    "for i in o16_i[0:0]:\n",
    "    print(ptypes[i])"
   ]
  },
  {
   "cell_type": "code",
   "execution_count": null,
   "id": "e1f15e51",
   "metadata": {},
   "outputs": [],
   "source": [
    "ptype_multiplicity = np.zeros((len(distinct_ps),21),dtype=float)\n",
    "\n",
    "for ps in ptypes:\n",
    "    p_mult = np.zeros_like(distinct_ps,dtype=int)\n",
    "    for pname in ps:\n",
    "        index = distinct_p_index[pname]\n",
    "        p_mult[index]+=1\n",
    "    for i in range(len(distinct_p_index)):\n",
    "        ptype_multiplicity[i][p_mult[i]]+=1\n",
    "\n",
    "ptype_multiplicity_fraction=ptype_multiplicity/len(ptypes)"
   ]
  },
  {
   "cell_type": "code",
   "execution_count": null,
   "id": "fbf64cf2",
   "metadata": {
    "scrolled": true
   },
   "outputs": [],
   "source": [
    "plt.figure(figsize=(14, 7))\n",
    "plt.bar(distinct_ps,p_event_likelihood)\n",
    "plt.ylabel('Fraction of events w/ at least one of particle type',fontsize=14)\n",
    "plt.xticks(rotation=90,fontsize=12);\n",
    "plt.show()"
   ]
  },
  {
   "cell_type": "code",
   "execution_count": null,
   "id": "91b7e4b3",
   "metadata": {},
   "outputs": [],
   "source": [
    "ptm = np.zeros((len(distinct_ps),21),dtype=float) #stores multiplicity for each event\n",
    "\n",
    "t0=t.time()\n",
    "for ps in ptypes:\n",
    "    p_mult = np.zeros_like(distinct_ps,dtype=int) #stores multiplicity for \n",
    "    for p in ps:\n",
    "        index = distinct_p_index[p]\n",
    "        p_mult[index]+=1\n",
    "    for i,pm in enumerate(p_mult):\n",
    "        ptm[i][p_mult[i]]+=1\n",
    "print('Calculation Time = %0.3f' %(t.time()-t0))"
   ]
  },
  {
   "cell_type": "code",
   "execution_count": null,
   "id": "c74b115e",
   "metadata": {},
   "outputs": [],
   "source": [
    "maxim = 0\n",
    "for i in range(len(ptm)):\n",
    "    maxt=np.argmin(ptm[i])-1\n",
    "    maxim=max(maxt,maxim)\n",
    "print('Highest Multiplicity = %d' %maxim)"
   ]
  },
  {
   "cell_type": "code",
   "execution_count": null,
   "id": "8a0ec84b",
   "metadata": {},
   "outputs": [],
   "source": [
    "cum=0\n",
    "for i in range(len(ptm[0])):\n",
    "    cum+=ptm[:,i]\n",
    "cum"
   ]
  },
  {
   "cell_type": "code",
   "execution_count": null,
   "id": "b1e76376",
   "metadata": {
    "scrolled": true
   },
   "outputs": [],
   "source": [
    "plt.figure(figsize=(14, 7))\n",
    "\n",
    "null = np.zeros_like(ptm[:,0])\n",
    "plt.bar(distinct_ps,null)\n",
    "cum=np.zeros_like(ptm[:,0])\n",
    "for i in range(1,len(ptm[0])):\n",
    "    plt.bar(distinct_ps,ptm[:,i],bottom=cum,label='Multiplicity = %d' % i)\n",
    "    cum+=ptm[:,i]\n",
    "plt.ylabel('Events per particle multiplicity',fontsize=14)\n",
    "plt.xticks(rotation=90,fontsize=12);\n",
    "plt.legend()\n",
    "plt.show()"
   ]
  },
  {
   "cell_type": "code",
   "execution_count": null,
   "id": "ad3c6d37",
   "metadata": {
    "scrolled": true
   },
   "outputs": [],
   "source": [
    "plt.figure(figsize=(14, 7))\n",
    "\n",
    "plt.bar(distinct_ps,null,label='Multiplicity = %d' % 0)\n",
    "cum=np.array(list(null))\n",
    "for i in range(1,len(ptm[0])):\n",
    "    plt.bar(distinct_ps,ptm[:,i],bottom=cum,label='Multiplicity = %d' % i)\n",
    "    cum+=ptm[:,i]\n",
    "plt.ylabel('Events per particle multiplicity',fontsize=14)\n",
    "plt.xticks(rotation=90,fontsize=12);\n",
    "plt.legend()\n",
    "plt.yscale('log')\n",
    "plt.show()"
   ]
  },
  {
   "cell_type": "code",
   "execution_count": null,
   "id": "f27bb87d",
   "metadata": {
    "scrolled": true
   },
   "outputs": [],
   "source": [
    "plt.figure(figsize=(14, 7))\n",
    "\n",
    "plt.bar(distinct_ps,ptm[:,0]/cum[0],label='Multiplicity = %d' % 0)\n",
    "cumr=np.array(list(ptm[:,0]/cum[0]))\n",
    "for i in range(1,len(ptm[0])):\n",
    "    plt.bar(distinct_ps,ptm[:,i]/cum[0],bottom=cumr,label='Multiplicity = %d' % i)\n",
    "    cumr+=ptm[:,i]/cum[0]\n",
    "plt.ylabel('Fraction of events per particle multiplicity',fontsize=14)\n",
    "plt.xticks(rotation=90,fontsize=12);\n",
    "plt.ylim(0,1)\n",
    "plt.legend()\n",
    "plt.show()"
   ]
  },
  {
   "cell_type": "code",
   "execution_count": null,
   "id": "9e848067",
   "metadata": {},
   "outputs": [],
   "source": [
    "def slicelist(lst,slc):\n",
    "    stor=[]\n",
    "    for i in range(len(lst)):\n",
    "        if slc[i]:\n",
    "            stor.append(lst[i])\n",
    "    return stor"
   ]
  },
  {
   "cell_type": "code",
   "execution_count": null,
   "id": "df639d05",
   "metadata": {
    "scrolled": true
   },
   "outputs": [],
   "source": [
    "for z in zones:\n",
    "    ptmz = np.zeros((len(distinct_ps),21),dtype=float) #stores multiplicity for each event\n",
    "    t0=t.time()\n",
    "    \n",
    "    for ps in slicelist(ptypes,zones[z] & E_in_range):\n",
    "        p_mult = np.zeros_like(distinct_ps,dtype=int) #stores multiplicity for \n",
    "        for p in ps:\n",
    "            index = distinct_p_index[p]\n",
    "            p_mult[index]+=1\n",
    "        for i,pm in enumerate(p_mult):\n",
    "            ptmz[i][p_mult[i]]+=1\n",
    "            \n",
    "    cumz=0        \n",
    "    for i in range(len(ptmz[0])):\n",
    "        cumz+=ptmz[:,i]\n",
    "    ptmz/=cumz[0]\n",
    "    \n",
    "    print('Calculation Time = %0.3f' %(t.time()-t0))\n",
    "\n",
    "    plt.figure(figsize=(14, 7))\n",
    "    cumz=np.zeros_like(ptmz[:,0])\n",
    "    \n",
    "    for i in range(1,len(ptmz[0])):\n",
    "        plt.bar(distinct_ps,ptmz[:,i],bottom=cumz,label='Multiplicity = %d' % i)\n",
    "        cumz+=ptmz[:,i]\n",
    "        \n",
    "    plt.ylabel('Events per particle multiplicity',fontsize=14)\n",
    "    plt.xticks(rotation=90,fontsize=12);\n",
    "    plt.title(zonelabels[z]+r', E$_{true} \\in$ [30,300] GeV')\n",
    "    plt.legend()\n",
    "    plt.ylim(0,1)\n",
    "    plt.savefig('Inelast_Plots/I3Zones/%s_pid_y_event_multiplicities.png' %z)\n",
    "    plt.show()"
   ]
  },
  {
   "cell_type": "code",
   "execution_count": null,
   "id": "b620ba90",
   "metadata": {},
   "outputs": [],
   "source": [
    "zones[z]"
   ]
  },
  {
   "cell_type": "code",
   "execution_count": null,
   "id": "802d6f61",
   "metadata": {
    "scrolled": true
   },
   "outputs": [],
   "source": [
    "templ1=[]\n",
    "templ2=[]\n",
    "tempy=[]\n",
    "tempe=[]\n",
    "temppid=[]\n",
    "Q=True\n",
    "P=False\n",
    "\n",
    "for num,filename in enumerate(files):\n",
    "    t0=t.time()\n",
    "    framefile = filename\n",
    "    \n",
    "    if num>199:\n",
    "        break\n",
    "        \n",
    "    for frame in dataio.I3File(os.path.join(i3folder,framefile),'r'):\n",
    "        if frame.Stop==frame.Physics:\n",
    "            if Q:\n",
    "                continue        \n",
    "            if P:\n",
    "                Q = True\n",
    "                P = False\n",
    "\n",
    "            templ1.append(frame['MCExtraTruthInfo'].get('track_length'))\n",
    "            tempy.append(frame['CNN2D_reco_y'].get('CNN2D_y_lvl6_30gev_200rho36'))\n",
    "            temppid.append(frame['FLERCNN_prob_track'].value)\n",
    "        if frame.Stop==frame.DAQ:\n",
    "            if P:\n",
    "                continue        \n",
    "            if Q:\n",
    "                P = True\n",
    "                Q = False\n",
    "\n",
    "                \n",
    "            current_frame=frame['I3MCTree']\n",
    "            tempe.append(current_frame[0].energy)\n",
    "            if not np.isnan(current_frame[1].length):\n",
    "                templ2.append(current_frame[1].length)\n",
    "            else:\n",
    "                templ2.append(float('Nan'))\n",
    "    t1=t.time()\n",
    "    print(\"Current File:\",t1-t0,\"s. Current File No.:\",num)\n",
    "\n",
    "templ1=np.array(templ1)\n",
    "templ2=np.array(templ2)\n",
    "tempy=np.array(tempy)\n",
    "temppid=np.array(temppid)"
   ]
  },
  {
   "cell_type": "code",
   "execution_count": null,
   "id": "5da5f6a6",
   "metadata": {},
   "outputs": [],
   "source": [
    "pidbins=[0.,0.15,0.85,1.]\n",
    "ybins=[0.,0.33,0.66,1.]\n",
    "\n",
    "zonenums = {}\n",
    "\n",
    "for i,x in enumerate(pidbins[:-1]):\n",
    "    for j,y in enumerate(ybins[:-1]):\n",
    "        zonenums.update({i+3*j:(float(x+pidbins[i+1])/2,float(y+ybins[j+1])/2)})\n",
    "\n",
    "plt.plot([])\n",
    "for i in zonenums:\n",
    "    plt.text(zonenums[i][0],zonenums[i][1],'%s' %i)\n",
    "plt.xlim(0,1)\n",
    "plt.ylim(0,1)\n",
    "plt.xlabel('reco_PID')\n",
    "plt.ylabel('reco_y')\n",
    "plt.axvline(x=pidbins[1],ymin=0,ymax=1,color='red')\n",
    "plt.axvline(x=pidbins[2],ymin=0,ymax=1,color='red')\n",
    "plt.axhline(y=ybins[1],xmin=0,xmax=1,color='red')\n",
    "plt.axhline(y=ybins[2],xmin=0,xmax=1,color='red')"
   ]
  },
  {
   "cell_type": "code",
   "execution_count": null,
   "id": "28499c79",
   "metadata": {},
   "outputs": [],
   "source": [
    "tempz_casc = (pidbins[0] <= temppid) & (temppid < pidbins[1]) & (ybins[-2] < tempy) & (tempy <= ybins[-1])\n",
    "tempz_mix = (pidbins[1] < temppid) & (temppid <= pidbins[2]) & (ybins[-3] < tempy) & (tempy <= ybins[-2])\n",
    "tempz_track = (pidbins[2] < temppid) & (temppid <= pidbins[3]) & (ybins[-4] <= tempy) & (tempy <= ybins[-3])\n",
    "\n",
    "temp_zones={'casc':tempz_casc,\n",
    "           'mix':tempz_mix,\n",
    "           'track':tempz_track}"
   ]
  },
  {
   "cell_type": "code",
   "execution_count": null,
   "id": "ea198012",
   "metadata": {},
   "outputs": [],
   "source": [
    "tempzone_label={'casc':'(zone 6)','mix':'(zone 4)','track':'(zone 2)'}\n",
    "\n",
    "tempe_region = (np.array(tempe) <=300)  & (np.array(tempe) > 30)\n",
    "templ2_nonan = ~np.isnan(templ2)\n",
    "for z in temp_zones:\n",
    "    plt.hist(templ1[templ2_nonan & temp_zones[z]],histtype='step',bins=np.geomspace(1e-3,1e4,41),\n",
    "             weights=np.ones_like(templ1[templ2_nonan & temp_zones[z]])/len(templ1[templ2_nonan & temp_zones[z]]),\n",
    "             label=z+' '+tempzone_label[z]);\n",
    "    plt.xlabel('Track Length [m]')\n",
    "    plt.ylabel('Normalized Fraction of Events')\n",
    "    plt.xlim(1e-3,1e4)\n",
    "    plt.loglog()\n",
    "    plt.legend()"
   ]
  },
  {
   "cell_type": "code",
   "execution_count": null,
   "id": "cbada228",
   "metadata": {},
   "outputs": [],
   "source": [
    "np.sum(a[0])"
   ]
  },
  {
   "cell_type": "code",
   "execution_count": null,
   "id": "2999edd7",
   "metadata": {},
   "outputs": [],
   "source": []
  }
 ],
 "metadata": {
  "kernelspec": {
   "display_name": "Python 3 (ipykernel)",
   "language": "python",
   "name": "python3"
  },
  "language_info": {
   "codemirror_mode": {
    "name": "ipython",
    "version": 3
   },
   "file_extension": ".py",
   "mimetype": "text/x-python",
   "name": "python",
   "nbconvert_exporter": "python",
   "pygments_lexer": "ipython3",
   "version": "3.10.2"
  }
 },
 "nbformat": 4,
 "nbformat_minor": 5
}
