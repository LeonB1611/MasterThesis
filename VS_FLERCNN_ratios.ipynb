{
 "cells": [
  {
   "cell_type": "code",
   "execution_count": 1,
   "id": "3768bc50-90ce-4513-ae82-044165af9823",
   "metadata": {},
   "outputs": [
    {
     "name": "stderr",
     "output_type": "stream",
     "text": [
      "<< PISA is running in double precision (FP64) mode; numba is running on CPU (single core) >>\n"
     ]
    }
   ],
   "source": [
    "import os,sys\n",
    "import numpy as np\n",
    "import matplotlib.pyplot as plt\n",
    "import math as m\n",
    "import nuSQUIDSpy as nsq\n",
    "import pisa\n",
    "import h5py as hdf"
   ]
  },
  {
   "cell_type": "code",
   "execution_count": 2,
   "id": "a503b259-533e-4521-bb17-015d7f4eb0ba",
   "metadata": {},
   "outputs": [],
   "source": [
    "FLERCNN_vars = {'reco_coszen':'FLERCNN_coszen',\n",
    "                'reco_energy':'FLERCNN_energy',\n",
    "                'BDT_PID':'FLERCNN_plus_bdt_PID',\n",
    "                'PID':'FLERCNN_prob_track',\n",
    "                'weighted_aeff':'weighted_aeff',\n",
    "                'livetime':'data_livetime',\n",
    "                'ReferenceWeight':'ReferenceWeight',\n",
    "                'true_energy':'MCInIcePrimary.energy',\n",
    "                'pdg_code':'MCInIcePrimary.pdg_encoding',\n",
    "                'BDT_y':'FLERCNN_plus_bdt_y',\n",
    "                'bjorken_y':'I3GENIEResultDict.y',\n",
    "                'true_rho36':'MCExtraTruthInfo.vertex_rho36',\n",
    "                'true_coszen':'MCInIcePrimary.dir.coszen',\n",
    "                'is_cc':'I3GENIEResultDict.cc',\n",
    "                'is_nc':'I3GENIEResultDict.nc',\n",
    "                'dis':'I3GENIEResultDict.dis',\n",
    "                'interaction':'I3MCWeightDict.InteractionType',\n",
    "}\n",
    "\n",
    "CNN2D_vars = {'CNN2D_PID':'CNN2D_reco_PID.CNN2D_PID_prob_t',\n",
    "              'new_lvl3_30gev_100rho':'CNN2D_reco_y.CNN2D_beta_lvl3_30gev_100rho36',\n",
    "              'new_lvl3_5gev_100rho':'CNN2D_reco_y.CNN2D_beta_lvl3_5gev_100rho36',\n",
    "              'old_lvl3_30gev_100rho':'CNN2D_reco_y.CNN2D_y_lvl3_30gev_100rho36',\n",
    "              'old_lvl6_30gev_200rho':'CNN2D_reco_y.CNN2D_y_lvl6_30gev_200rho36',\n",
    "              'old_lvl3_5gev_100rho':'CNN2D_reco_y.CNN2D_y_lvl3_5gev_100rho36',\n",
    "              'old_lvl6_5gev_200rho':'CNN2D_reco_y.CNN2D_y_lvl6_5gev_200rho36',\n",
    "}\n",
    "\n",
    "Cuts_vars = {\n",
    "    'reco_z':'FLERCNN_vertex_z',\n",
    "    'reco_rho':'FLERCNN_vertex_rho36',\n",
    "    'L7_CoincidentMuon_Variables.n_top15':'L7_CoincidentMuon_Variables.n_top15',\n",
    "    'L7_CoincidentMuon_Variables.n_outer':'L7_CoincidentMuon_Variables.n_outer',\n",
    "    'L5_SANTA_DirectPulsesHitMultiplicity.n_hit_doms':'L5_SANTA_DirectPulsesHitMultiplicity.n_hit_doms',\n",
    "    'nDOM':'FLERCNN_nDOM',\n",
    "    'l7_muon_classifier_prob_nu':'FLERCNN_BDT_ProbNu',\n",
    "}\n",
    "\n",
    "def GetCuts(group):\n",
    "    z = group[Cuts_vars['reco_z']][:]\n",
    "    rho = group[Cuts_vars['reco_rho']][:]\n",
    "    ntop15 = group[Cuts_vars['L7_CoincidentMuon_Variables.n_top15']][:]\n",
    "    nouter = group[Cuts_vars['L7_CoincidentMuon_Variables.n_outer']][:]\n",
    "    nhitdoms = group[Cuts_vars['L5_SANTA_DirectPulsesHitMultiplicity.n_hit_doms']][:]\n",
    "    ndom = group[Cuts_vars['nDOM']][:]\n",
    "    probnu = group[Cuts_vars['l7_muon_classifier_prob_nu']][:]\n",
    "    \n",
    "    return ((z > -495.) & (z < -225.) &  (rho < 200) & (ntop15 < 0.5) & \n",
    "            (nouter < 7.5) & (nhitdoms > 2.5) & (ndom >= 7) & (probnu >= 0.8))"
   ]
  },
  {
   "cell_type": "code",
   "execution_count": 3,
   "id": "3ea47bc9-3c24-4a19-a521-b661ba4df613",
   "metadata": {},
   "outputs": [],
   "source": [
    "folder = '/afs/ifh.de/user/a/akumar/lustre/data/oscNext/flercnn_sample_inelasticity/'\n",
    "\n",
    "pisahdf_filenames ={'0000':'oscNext_pisa_genie_0000_flercnn_plus.hdf5',\n",
    "                    '1122':'oscNext_pisa_genie_1122_flercnn_plus.hdf5',\n",
    "                    '1151':'oscNext_pisa_genie_1151_flercnn_plus.hdf5',\n",
    "                    '1154':'oscNext_pisa_genie_1154_flercnn_plus.hdf5',\n",
    "                    '121151':'FLERCNN_plus_121151.h5',\n",
    "                    '141154':'FLERCNN_plus_141154.h5',\n",
    "                    '161151':'FLERCNN_plus_161151.h5'\n",
    "                   }\n",
    "\n",
    "#1151 contains muons neutrinos\n",
    "#1154 muon neutrinos + GEANT4\n",
    "#FLERCNN_plus = old\n",
    "#oscNext_pisa_genie = new"
   ]
  },
  {
   "cell_type": "code",
   "execution_count": 14,
   "id": "6745545f-c9c4-45cd-8664-474adb9d8351",
   "metadata": {},
   "outputs": [],
   "source": [
    "neu_flercnn = hdf.File(folder+pisahdf_filenames['1122'],'r')"
   ]
  },
  {
   "cell_type": "code",
   "execution_count": 15,
   "id": "4ca981b3-8648-4075-88a4-96866a917c77",
   "metadata": {},
   "outputs": [],
   "source": [
    "true_E_flercnn_numu_cc = neu_flercnn['numu_cc'][FLERCNN_vars['true_energy']][:]\n",
    "reco_E_flercnn_numu_cc = neu_flercnn['numu_cc'][FLERCNN_vars['reco_energy']][:]\n",
    "\n",
    "true_E_flercnn_numubar_cc = neu_flercnn['numubar_cc'][FLERCNN_vars['true_energy']][:]\n",
    "reco_E_flercnn_numubar_cc = neu_flercnn['numubar_cc'][FLERCNN_vars['reco_energy']][:]\n",
    "\n",
    "true_E_flercnn_numu_nc = neu_flercnn['numu_nc'][FLERCNN_vars['true_energy']][:]\n",
    "reco_E_flercnn_numu_nc = neu_flercnn['numu_nc'][FLERCNN_vars['reco_energy']][:]\n",
    "\n",
    "true_E_flercnn_numubar_nc = neu_flercnn['numubar_nc'][FLERCNN_vars['true_energy']][:]\n",
    "reco_E_flercnn_numubar_nc = neu_flercnn['numubar_nc'][FLERCNN_vars['reco_energy']][:]"
   ]
  },
  {
   "cell_type": "code",
   "execution_count": 154,
   "id": "e4d8114b-81c8-4849-8e19-36d0349f2ceb",
   "metadata": {},
   "outputs": [],
   "source": [
    "true_E_flercnn_nue_cc = neu_flercnn['nue_cc'][FLERCNN_vars['true_energy']][:]\n",
    "reco_E_flercnn_nue_cc = neu_flercnn['nue_cc'][FLERCNN_vars['reco_energy']][:]\n",
    "\n",
    "true_E_flercnn_nuebar_cc = neu_flercnn['nuebar_cc'][FLERCNN_vars['true_energy']][:]\n",
    "reco_E_flercnn_nuebar_cc = neu_flercnn['nuebar_cc'][FLERCNN_vars['reco_energy']][:]\n",
    "\n",
    "true_E_flercnn_nue_nc = neu_flercnn['nue_nc'][FLERCNN_vars['true_energy']][:]\n",
    "reco_E_flercnn_nue_nc = neu_flercnn['nue_nc'][FLERCNN_vars['reco_energy']][:]\n",
    "\n",
    "true_E_flercnn_nuebar_nc = neu_flercnn['nuebar_nc'][FLERCNN_vars['true_energy']][:]\n",
    "reco_E_flercnn_nuebar_nc = neu_flercnn['nuebar_nc'][FLERCNN_vars['reco_energy']][:]"
   ]
  },
  {
   "cell_type": "code",
   "execution_count": 160,
   "id": "e6febec0-f3b3-453e-b021-d5675f515c56",
   "metadata": {},
   "outputs": [],
   "source": [
    "res_E_flercnn_numu_cc = reco_E_flercnn_numu_cc - true_E_flercnn_numu_cc\n",
    "res_E_flercnn_numu_nc = reco_E_flercnn_numu_nc - true_E_flercnn_numu_nc\n",
    "res_E_flercnn_nue_cc = reco_E_flercnn_nue_cc - true_E_flercnn_nue_cc"
   ]
  },
  {
   "cell_type": "code",
   "execution_count": 162,
   "id": "639b733e-6f20-4955-b2c7-80f24bc9fccb",
   "metadata": {},
   "outputs": [
    {
     "data": {
      "text/plain": [
       "Text(0.5, 1.0, 'numu-cc normalized by column')"
      ]
     },
     "execution_count": 162,
     "metadata": {},
     "output_type": "execute_result"
    },
    {
     "data": {
      "image/png": "[encoded data removed]",
      "text/plain": [
       "<Figure size 640x480 with 2 Axes>"
      ]
     },
     "metadata": {},
     "output_type": "display_data"
    }
   ],
   "source": [
    "normweights = np.zeros_like(true_E_flercnn_numu_cc)\n",
    "for i,en in enumerate(np.geomspace(1,1e4,14)[:-1]):\n",
    "    valid_inds = ((en < true_E_flercnn_numu_cc)) & (true_E_flercnn_numu_cc < np.geomspace(1,1e4,14)[i+1])\n",
    "    normweights[valid_inds] = 1/np.sum(valid_inds)\n",
    "\n",
    "    \n",
    "A=plt.hist2d(true_E_flercnn_numu_cc,res_E_flercnn_numu_cc,bins=(np.geomspace(1,1e3,25),np.append(-np.geomspace(1e3,1,15),np.geomspace(1,1e3,15)))\n",
    "             ,weights = normweights);\n",
    "plt.xscale('log')\n",
    "plt.colorbar(label='weighted event rate [1/s]')\n",
    "plt.xlabel('True Energy')\n",
    "plt.ylabel('Reco - True Energy')\n",
    "plt.title('numu-cc normalized by column')"
   ]
  },
  {
   "cell_type": "code",
   "execution_count": 19,
   "id": "c59b66f2-da90-410d-8f2b-a9de3c79abc1",
   "metadata": {},
   "outputs": [],
   "source": [
    "weight_file = hdf.File('FluxOscWeights/fluxoscweights.h5','r')"
   ]
  },
  {
   "cell_type": "code",
   "execution_count": 20,
   "id": "ebaf51e5-05c1-48ab-9d3f-04b54e8f30b1",
   "metadata": {},
   "outputs": [],
   "source": [
    "proper_flux_osc_weights_nue_cc = weight_file['nue_cc_osc_flux_weights'][:]\n",
    "proper_flux_osc_weights_nuebar_cc = weight_file['nuebar_cc_osc_flux_weights'][:]\n",
    "proper_flux_osc_weights_nue_nc = weight_file['nue_nc_osc_flux_weights'][:]\n",
    "proper_flux_osc_weights_nuebar_nc = weight_file['nuebar_nc_osc_flux_weights'][:]\n",
    "\n",
    "proper_flux_osc_weights_numu_cc = weight_file['numu_cc_osc_flux_weights'][:]\n",
    "proper_flux_osc_weights_numubar_cc = weight_file['numubar_cc_osc_flux_weights'][:]\n",
    "proper_flux_osc_weights_numu_nc = weight_file['numu_nc_osc_flux_weights'][:]\n",
    "proper_flux_osc_weights_numubar_nc = weight_file['numubar_nc_osc_flux_weights'][:]\n",
    "\n",
    "proper_flux_osc_weights_nutau_cc = weight_file['nutau_cc_osc_flux_weights'][:]\n",
    "proper_flux_osc_weights_nutaubar_cc = weight_file['nutaubar_cc_osc_flux_weights'][:]\n",
    "proper_flux_osc_weights_nutau_nc = weight_file['nutau_nc_osc_flux_weights'][:]\n",
    "proper_flux_osc_weights_nutaubar_nc = weight_file['nutaubar_nc_osc_flux_weights'][:]"
   ]
  },
  {
   "cell_type": "code",
   "execution_count": 24,
   "id": "8084c5d4-04d0-4102-b060-5a09f0f8ba6d",
   "metadata": {},
   "outputs": [],
   "source": [
    "def weighted_quantile(\n",
    "    values,\n",
    "    quantiles,\n",
    "    sample_weight=None,\n",
    "    values_sorted=False,\n",
    "):\n",
    "    \"\"\"\n",
    "    Very close to numpy.percentile, but supports weights. Qantiles should be in [0, 1]!\n",
    "    \n",
    "    Parameters\n",
    "    ----------\n",
    "    values : array of floats\n",
    "        Input data.\n",
    "    quantiles : array of floats\n",
    "        Quantile values to compute.\n",
    "    sample_weight : array of floats\n",
    "        Weights of the input data.\n",
    "    values_sorted : bool\n",
    "        Are the input values sorted, or not.\n",
    "\n",
    "    Returns\n",
    "    -------\n",
    "    quantiles : array of floats\n",
    "        Computed quantiles.\n",
    "    \"\"\"\n",
    "\n",
    "    import numpy as np\n",
    "\n",
    "    values = np.array(values)\n",
    "    quantiles = np.array(quantiles)\n",
    "\n",
    "    if values.size == 0: return(np.nan)\n",
    "\n",
    "    if sample_weight is None:\n",
    "        sample_weight = np.ones(len(values))\n",
    "\n",
    "    sample_weight = np.array(sample_weight)\n",
    "\n",
    "    assert np.all(quantiles >= 0) and np.all(quantiles <= 1), 'quantiles should be in [0, 1]'   \n",
    "\n",
    "    if not values_sorted:\n",
    "        sorter = np.argsort(values)\n",
    "        values = values[sorter]\n",
    "        sample_weight = sample_weight[sorter]\n",
    "\n",
    "    weighted_quantiles = np.cumsum(sample_weight) - 0.5 * sample_weight\n",
    "    weighted_quantiles /= np.sum(sample_weight)\n",
    "\n",
    "    return np.interp(quantiles, weighted_quantiles, values)"
   ]
  },
  {
   "cell_type": "code",
   "execution_count": 31,
   "id": "9691b5d5-9827-48fd-a4c2-aa84b4eee03c",
   "metadata": {},
   "outputs": [
    {
     "data": {
      "text/plain": [
       "<matplotlib.legend.Legend at 0x7fec51edd750>"
      ]
     },
     "execution_count": 31,
     "metadata": {},
     "output_type": "execute_result"
    },
    {
     "data": {
      "image/png": "[encoded data removed]",
      "text/plain": [
       "<Figure size 640x480 with 1 Axes>"
      ]
     },
     "metadata": {},
     "output_type": "display_data"
    }
   ],
   "source": [
    "plt.hist(res_E_flercnn_numu_cc[true_E_flercnn_numu_cc>100],histtype='step',bins=np.linspace(-500,500,29),\n",
    "        weights=proper_flux_osc_weights_numu_cc[true_E_flercnn_numu_cc>100])\n",
    "quantiles = weighted_quantile(res_E_flercnn_numu_cc[true_E_flercnn_numu_cc>100],[0.16,0.5,0.84],\n",
    "                              proper_flux_osc_weights_numu_cc[true_E_flercnn_numu_cc>100])\n",
    "plt.axvline(x=quantiles[1],label='median',ls='dashed',color='black')\n",
    "plt.axvline(x=quantiles[0],label='68% boundaries',ls='dashed',color='purple')\n",
    "plt.axvline(x=quantiles[2],ls='dashed',color='purple')\n",
    "plt.xlabel('Reco - True Energy')\n",
    "plt.title('Weighted numu-cc event rate, E > 100 GeV')\n",
    "plt.legend()"
   ]
  },
  {
   "cell_type": "code",
   "execution_count": 30,
   "id": "f48fb4b3-3a73-4866-8760-8e04b2369987",
   "metadata": {},
   "outputs": [],
   "source": [
    "from pisa.core.distribution_maker import DistributionMaker\n",
    "import os"
   ]
  },
  {
   "cell_type": "code",
   "execution_count": 117,
   "id": "60f6cfbd-3c96-4bfb-9939-8d96f1ea0f15",
   "metadata": {},
   "outputs": [],
   "source": [
    "VS_FRIDGE_SETTINGS_DIR = (\n",
    "    '/afs/ifh.de/user/b/buchholl/scratch/software/fridge/analysis/oscnext_sterile/settings'\n",
    ")\n",
    "\n",
    "NEW_FRIDGE_SETTINGS_PATH = (\n",
    "    '/afs/ifh.de/user/b/buchholl/scratch/software/fridge/analysis/oscNext_flercnn_sterile/settings'\n",
    ")\n",
    "\n",
    "path = \"/afs/ifh.de/user/b/buchholl/scratch/software/fridge/analysis/\"\n",
    "\n",
    "flercnn_muon_pipeline = os.path.join(NEW_FRIDGE_SETTINGS_PATH, \"pipeline\", \"pipeline_oscNext_muons_PIDbins.cfg\")\n",
    "flercnn_neu_pipeline = os.path.join(NEW_FRIDGE_SETTINGS_PATH, \"pipeline\", \"pipeline_oscNext_neutrinos_sterile_nh_flercnn_PIDbins.cfg\")\n",
    "flercnn_pipeline = [flercnn_neu_pipeline,flercnn_muon_pipeline]\n",
    "\n",
    "flercnn_old_neu_pipeline = os.path.join(NEW_FRIDGE_SETTINGS_PATH, \"pipeline\", \"pipeline_oscNext_neutrinos_sterile_nh_flercnn_old_PIDbins.cfg\")\n",
    "flercnn_old_pipeline = [flercnn_old_neu_pipeline,flercnn_muon_pipeline]\n",
    "\n",
    "vs_muon_pipeline = os.path.join(VS_FRIDGE_SETTINGS_DIR, \"pipeline\", \"muons_kde_vs.cfg\")\n",
    "vs_neu_pipeline = os.path.join(VS_FRIDGE_SETTINGS_DIR, \"pipeline\", \"neutrinos_mixing_angles_ultrasurfaces_vs.cfg\")\n",
    "vs_pipeline = [vs_neu_pipeline,vs_muon_pipeline]"
   ]
  },
  {
   "cell_type": "code",
   "execution_count": 118,
   "id": "0de31c34-9943-467f-b65a-e23c05186bb1",
   "metadata": {},
   "outputs": [],
   "source": [
    "template_maker_flercnn = DistributionMaker(flercnn_pipeline)\n",
    "template_maker_old_flercnn = DistributionMaker(flercnn_old_pipeline)\n",
    "template_maker_vs = DistributionMaker(vs_pipeline)"
   ]
  },
  {
   "cell_type": "code",
   "execution_count": 119,
   "id": "55039b2a-04da-46f7-8c76-eb57e3cddd87",
   "metadata": {},
   "outputs": [
    {
     "name": "stdout",
     "output_type": "stream",
     "text": [
      "[ WARNING] /afs/ifh.de/group/amanda/scratch/buchholl/software/snuvenv/lib/python3.10/site-packages/numpy/lib/function_base.py:2385: UnitStrippedWarning: The unit of the quantity is stripped when downcasting to ndarray.\n",
      "  inputs = [asanyarray(a, dtype=object) for a in args]\n",
      "\n"
     ]
    }
   ],
   "source": [
    "flercnn_template = template_maker_flercnn.get_outputs(return_sum=False)\n",
    "old_flercnn_template = template_maker_old_flercnn.get_outputs(return_sum=False)\n",
    "vs_template = template_maker_vs.get_outputs(return_sum=False)"
   ]
  },
  {
   "cell_type": "code",
   "execution_count": 120,
   "id": "f2cecaac-022e-4404-990e-3e494937f0b5",
   "metadata": {},
   "outputs": [],
   "source": [
    "mixed_neu_numbers_per_channel_vs = {}\n",
    "tracks_neu_number_per_channel_vs = {}\n",
    "muon_number_vs = {}\n",
    "\n",
    "mixed_neu_numbers_per_channel_flercnn = {}\n",
    "tracks_neu_number_per_channel_flercnn = {}\n",
    "muon_number_flercnn = {}\n",
    "\n",
    "mixed_neu_numbers_per_channel_old_flercnn = {}\n",
    "tracks_neu_number_per_channel_old_flercnn = {}\n",
    "muon_number_old_flercnn = {}"
   ]
  },
  {
   "cell_type": "code",
   "execution_count": 132,
   "id": "6d669759-603e-4ac5-9531-d248d26d1a96",
   "metadata": {},
   "outputs": [],
   "source": [
    "for name in vs_template[0].names:\n",
    "    mixed_neu_numbers_per_channel_vs.update({name:\n",
    "                                             vs_template[0][name].split('pid')[name+'_pid_mixed'].hist.sum().nominal_value})\n",
    "    tracks_neu_number_per_channel_vs.update({name:\n",
    "                                             vs_template[0][name].split('pid')[name+'_pid_tracks'].hist.sum().nominal_value})\n",
    "for name in vs_template[1].names:\n",
    "    muon_number_vs.update({name:vs_template[1][name].hist.sum().nominal_value})\n",
    "\n",
    "for name in flercnn_template[0].names:\n",
    "    mixed_neu_numbers_per_channel_flercnn.update({name:\n",
    "                                             flercnn_template[0][name].split('pid')[name+'_pid_mixed'].hist.sum().nominal_value})\n",
    "    tracks_neu_number_per_channel_flercnn.update({name:\n",
    "                                             flercnn_template[0][name].split('pid')[name+'_pid_tracks'].hist.sum().nominal_value})\n",
    "for name in flercnn_template[1].names:\n",
    "    muon_number_flercnn.update({name:flercnn_template[1][name].hist.sum().nominal_value})\n",
    "\n",
    "for name in old_flercnn_template[0].names:\n",
    "    mixed_neu_numbers_per_channel_old_flercnn.update({name:\n",
    "                                             old_flercnn_template[0][name].split('pid')[name+'_pid_mixed'].hist.sum().nominal_value})\n",
    "    tracks_neu_number_per_channel_old_flercnn.update({name:\n",
    "                                             old_flercnn_template[0][name].split('pid')[name+'_pid_tracks'].hist.sum().nominal_value})\n",
    "for name in old_flercnn_template[1].names:\n",
    "    muon_number_old_flercnn.update({name:old_flercnn_template[1][name].hist.sum().nominal_value})"
   ]
  },
  {
   "cell_type": "code",
   "execution_count": 153,
   "id": "8125bb14-f953-4c62-8b97-5eff2d44b8f1",
   "metadata": {},
   "outputs": [
    {
     "data": {
      "text/plain": [
       "(21.913055826838214,\n",
       " 3.542962190107303,\n",
       " 107.00755752766825,\n",
       " 8.10311748683052,\n",
       " 107.1633437832708,\n",
       " 8.17819377022037)"
      ]
     },
     "execution_count": 153,
     "metadata": {},
     "output_type": "execute_result"
    }
   ],
   "source": [
    "name = 'nutaubar_nc'\n",
    "mixed_neu_numbers_per_channel_vs[name],tracks_neu_number_per_channel_vs[name],mixed_neu_numbers_per_channel_old_flercnn[name],tracks_neu_number_per_channel_old_flercnn[name],mixed_neu_numbers_per_channel_flercnn[name],tracks_neu_number_per_channel_flercnn[name]"
   ]
  },
  {
   "cell_type": "code",
   "execution_count": null,
   "id": "04e51918-6b42-4e44-accf-fe1c5dc86a46",
   "metadata": {},
   "outputs": [],
   "source": []
  }
 ],
 "metadata": {
  "kernelspec": {
   "display_name": "Python 3 (ipykernel)",
   "language": "python",
   "name": "python3"
  },
  "language_info": {
   "codemirror_mode": {
    "name": "ipython",
    "version": 3
   },
   "file_extension": ".py",
   "mimetype": "text/x-python",
   "name": "python",
   "nbconvert_exporter": "python",
   "pygments_lexer": "ipython3",
   "version": "3.10.2"
  }
 },
 "nbformat": 4,
 "nbformat_minor": 5
}
