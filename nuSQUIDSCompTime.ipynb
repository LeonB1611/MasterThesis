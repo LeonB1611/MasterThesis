{
 "cells": [
  {
   "cell_type": "code",
   "execution_count": 1,
   "id": "fcc64d41",
   "metadata": {},
   "outputs": [],
   "source": [
    "%matplotlib inline\n",
    "import matplotlib as mpl\n",
    "import nuSQUIDSpy as nsq\n",
    "import matplotlib.pyplot as plt\n",
    "\n",
    "import nuSQUIDSTools\n",
    "import numpy as np\n",
    "import time as t"
   ]
  },
  {
   "cell_type": "code",
   "execution_count": 2,
   "id": "d8fea57f",
   "metadata": {},
   "outputs": [],
   "source": [
    "units = nsq.Const()"
   ]
  },
  {
   "cell_type": "markdown",
   "id": "eb51bc64",
   "metadata": {},
   "source": [
    "# Precision iteration, 3+0"
   ]
  },
  {
   "cell_type": "code",
   "execution_count": 3,
   "id": "ecffd09f",
   "metadata": {},
   "outputs": [],
   "source": [
    "interactions = True\n",
    "\n",
    "E_min = 10.0*units.GeV\n",
    "E_max = 1.0*units.PeV\n",
    "E_nodes = 100\n",
    "energy_nodes = nsq.logspace(E_min,E_max,E_nodes)\n",
    "\n",
    "cth_min = -1.0\n",
    "cth_max = 0.1\n",
    "cth_nodes = 20\n",
    "cth_nodes = nsq.linspace(cth_min,cth_max,cth_nodes) #from zenith incident to coming slightly cutting the surface \n",
    "\n",
    "neutrino_flavors = 3\n",
    "\n",
    "nsq_atm = nuSQUIDSTools.ExtNuSQUIDSAtm(cth_nodes,energy_nodes,neutrino_flavors,nsq.NeutrinoType.both,interactions) #changed object nsq.nuSQAtm to nuSQUIDSTools.ExtnuSQdAtm"
   ]
  },
  {
   "cell_type": "code",
   "execution_count": 4,
   "id": "ba3af414",
   "metadata": {},
   "outputs": [],
   "source": [
    "N0 = 1.0e18; Power = -1.0\n",
    "Eflux = lambda E: N0*E**Power\n",
    "\n",
    "AtmInitialFlux = np.zeros((len(cth_nodes),len(energy_nodes),2,neutrino_flavors))\n",
    "for ic,cth in enumerate(nsq_atm.GetCosthRange()):\n",
    "    for ie,E in enumerate(nsq_atm.GetERange()):\n",
    "        AtmInitialFlux[ic][ie][0][0] = 0.0 # nue\n",
    "        AtmInitialFlux[ic][ie][1][0] = 0.0 # bar nue\n",
    "        AtmInitialFlux[ic][ie][0][1] = Eflux(E) # nu mu\n",
    "        AtmInitialFlux[ic][ie][1][1] = Eflux(E) # bar nu mu\n",
    "        AtmInitialFlux[ic][ie][0][2] = Eflux(E) # nu tau\n",
    "        AtmInitialFlux[ic][ie][1][2] = Eflux(E) # bar nu tau"
   ]
  },
  {
   "cell_type": "code",
   "execution_count": 5,
   "id": "7346dc5e",
   "metadata": {},
   "outputs": [],
   "source": [
    "prec_range=np.logspace(-12,-1,15)\n",
    "prec_time=[]\n",
    "for err in prec_range:\n",
    "    t0=t.time()\n",
    "    nsq_atm.Set_initial_state(AtmInitialFlux,nsq.Basis.flavor)\n",
    "    nsq_atm.Set_rel_error(err)\n",
    "    nsq_atm.Set_abs_error(err)\n",
    "    nsq_atm.EvolveState()\n",
    "    t1=t.time()\n",
    "    prec_time.append(t1-t0)"
   ]
  },
  {
   "cell_type": "markdown",
   "id": "c3c88c05",
   "metadata": {},
   "source": [
    "# Precision iteration 3+1"
   ]
  },
  {
   "cell_type": "code",
   "execution_count": 6,
   "id": "ec996154",
   "metadata": {},
   "outputs": [],
   "source": [
    "interactions = True\n",
    "\n",
    "E_min = 10.0*units.GeV\n",
    "E_max = 1.0*units.PeV\n",
    "E_nodes = 100\n",
    "energy_nodes = nsq.logspace(E_min,E_max,E_nodes)\n",
    "\n",
    "cth_min = -1.0\n",
    "cth_max = 0.1\n",
    "cth_nodes = 20\n",
    "cth_nodes = nsq.linspace(cth_min,cth_max,cth_nodes) #from zenith incident to coming slightly cutting the surface \n",
    "\n",
    "neutrino_flavors = 4\n",
    "\n",
    "nsq_atm = nuSQUIDSTools.ExtNuSQUIDSAtm(cth_nodes,energy_nodes,neutrino_flavors,nsq.NeutrinoType.both,interactions) #changed object nsq.nuSQAtm to nuSQUIDSTools.ExtnuSQdAtm"
   ]
  },
  {
   "cell_type": "code",
   "execution_count": 7,
   "id": "3f01c812",
   "metadata": {},
   "outputs": [],
   "source": [
    "nsq_atm.Set_MixingParametersToDefault()\n",
    "nsq_atm.Set_SquareMassDifference(3,1.)\n",
    "nsq_atm.Set_MixingAngle(1,3,0.6)"
   ]
  },
  {
   "cell_type": "code",
   "execution_count": 8,
   "id": "7d88f4c3",
   "metadata": {},
   "outputs": [],
   "source": [
    "N0 = 1.0e18; Power = -1.0\n",
    "Eflux = lambda E: N0*E**Power\n",
    "\n",
    "AtmInitialFlux = np.zeros((len(cth_nodes),len(energy_nodes),2,neutrino_flavors))\n",
    "for ic,cth in enumerate(nsq_atm.GetCosthRange()):\n",
    "    for ie,E in enumerate(nsq_atm.GetERange()):\n",
    "        AtmInitialFlux[ic][ie][0][0] = 0.0 # nue\n",
    "        AtmInitialFlux[ic][ie][1][0] = 0.0 # bar nue\n",
    "        AtmInitialFlux[ic][ie][0][1] = Eflux(E) # nu mu\n",
    "        AtmInitialFlux[ic][ie][1][1] = Eflux(E) # bar nu mu\n",
    "        AtmInitialFlux[ic][ie][0][2] = Eflux(E) # nu tau\n",
    "        AtmInitialFlux[ic][ie][1][2] = Eflux(E) # bar nu tau\n",
    "        AtmInitialFlux[ic][ie][0][3] = 0.0 # nu 4\n",
    "        AtmInitialFlux[ic][ie][1][3] = 0.0 # bar nu 4"
   ]
  },
  {
   "cell_type": "code",
   "execution_count": 9,
   "id": "969fd951",
   "metadata": {},
   "outputs": [],
   "source": [
    "prec_range1=np.logspace(-7,-1,7)\n",
    "prec_time1=[]\n",
    "for err in prec_range1:\n",
    "    t0=t.time()\n",
    "    nsq_atm.Set_initial_state(AtmInitialFlux,nsq.Basis.flavor)\n",
    "    nsq_atm.Set_rel_error(err)\n",
    "    nsq_atm.Set_abs_error(err)\n",
    "    nsq_atm.EvolveState()\n",
    "    t1=t.time()\n",
    "    prec_time1.append(t1-t0)"
   ]
  },
  {
   "cell_type": "code",
   "execution_count": 10,
   "id": "ac30f8dc",
   "metadata": {},
   "outputs": [
    {
     "data": {
      "text/plain": [
       "233.67495036125183"
      ]
     },
     "execution_count": 10,
     "metadata": {},
     "output_type": "execute_result"
    }
   ],
   "source": [
    "sum(prec_time1)"
   ]
  },
  {
   "cell_type": "code",
   "execution_count": 11,
   "id": "19dbffe5",
   "metadata": {},
   "outputs": [
    {
     "data": {
      "image/png": "[encoded data removed]",
      "text/plain": [
       "<Figure size 640x480 with 1 Axes>"
      ]
     },
     "metadata": {},
     "output_type": "display_data"
    }
   ],
   "source": [
    "plt.plot(prec_range,prec_time,lw=2,label='3+0',ls=':',color='blue')\n",
    "plt.plot(prec_range1,prec_time1,lw=2,label='3+1',ls=':',color='red')\n",
    "\n",
    "plt.xlabel('rel/abs precision')\n",
    "plt.ylabel('computational time')\n",
    "plt.legend()\n",
    "plt.xscale('log')\n",
    "plt.title(r\"10-1000 GeV\")\n",
    "plt.savefig(\"comp_time_relabs_err\")"
   ]
  },
  {
   "cell_type": "markdown",
   "id": "ce9aa7d0",
   "metadata": {},
   "source": [
    "# Energy node iteration, 3+0"
   ]
  },
  {
   "cell_type": "markdown",
   "id": "f7c62679",
   "metadata": {},
   "source": [
    "# Energy node iteration, 3+1"
   ]
  },
  {
   "cell_type": "code",
   "execution_count": null,
   "id": "c320da78",
   "metadata": {},
   "outputs": [],
   "source": []
  }
 ],
 "metadata": {
  "kernelspec": {
   "display_name": "Python 3 (ipykernel)",
   "language": "python",
   "name": "python3"
  },
  "language_info": {
   "codemirror_mode": {
    "name": "ipython",
    "version": 3
   },
   "file_extension": ".py",
   "mimetype": "text/x-python",
   "name": "python",
   "nbconvert_exporter": "python",
   "pygments_lexer": "ipython3",
   "version": "3.10.2"
  }
 },
 "nbformat": 4,
 "nbformat_minor": 5
}
