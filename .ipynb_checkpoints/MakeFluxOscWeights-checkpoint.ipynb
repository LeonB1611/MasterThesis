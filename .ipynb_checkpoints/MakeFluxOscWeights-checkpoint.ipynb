{
 "cells": [
  {
   "cell_type": "code",
   "execution_count": null,
   "id": "dfb35483-7b5c-4fa3-b66e-ae782edaa121",
   "metadata": {},
   "outputs": [],
   "source": [
    "import h5py as hdf"
   ]
  },
  {
   "cell_type": "code",
   "execution_count": null,
   "id": "8104e58c-d6e6-408f-9257-797928d2a8f2",
   "metadata": {},
   "outputs": [],
   "source": [
    "FLERCNN_vars = {'reco_coszen':'FLERCNN_coszen',\n",
    "                'reco_energy':'FLERCNN_energy',\n",
    "                'BDT_PID':'FLERCNN_plus_bdt_PID',\n",
    "                'PID':'FLERCNN_prob_track',\n",
    "                'weighted_aeff':'weighted_aeff',\n",
    "                'livetime':'data_livetime',\n",
    "                'ReferenceWeight':'ReferenceWeight',\n",
    "                'true_energy':'MCInIcePrimary.energy',\n",
    "                'pdg_code':'MCInIcePrimary.pdg_encoding',\n",
    "                'BDT_y':'FLERCNN_plus_bdt_y',\n",
    "                'bjorken_y':'I3GENIEResultDict.y',\n",
    "                'true_rho36':'MCExtraTruthInfo.vertex_rho36',\n",
    "                'true_coszen':'MCInIcePrimary.dir.coszen',\n",
    "                'is_cc':'I3GENIEResultDict.cc',\n",
    "                'is_nc':'I3GENIEResultDict.nc',\n",
    "                'dis':'I3GENIEResultDict.dis',\n",
    "                'interaction':'I3MCWeightDict.InteractionType',\n",
    "}"
   ]
  },
  {
   "cell_type": "code",
   "execution_count": null,
   "id": "d51bb3eb-f454-4c69-a24e-b2126c450a40",
   "metadata": {},
   "outputs": [],
   "source": [
    "folder = '/afs/ifh.de/user/a/akumar/lustre/data/oscNext/flercnn_sample_inelasticity/'"
   ]
  },
  {
   "cell_type": "code",
   "execution_count": null,
   "id": "25393617-c0de-4e97-a2b0-d43a388bc3f5",
   "metadata": {},
   "outputs": [],
   "source": [
    "pisahdf_filenames ={'0000':'oscNext_pisa_genie_0000_flercnn_plus.hdf5',\n",
    "                    '1122':'oscNext_pisa_genie_1122_flercnn_plus.hdf5',\n",
    "                    '1151':'oscNext_pisa_genie_1151_flercnn_plus.hdf5',\n",
    "                    '1154':'oscNext_pisa_genie_1154_flercnn_plus.hdf5',\n",
    "                    '121151':'FLERCNN_plus_121151.h5',\n",
    "                    '141154':'FLERCNN_plus_141154.h5',\n",
    "                    '161151':'FLERCNN_plus_161151.h5'\n",
    "                   }\n",
    "\n",
    "#1151 contains muons neutrinos\n",
    "#1154 muon neutrinos + GEANT4\n",
    "#FLERCNN_plus = old\n",
    "#oscNext_pisa_genie = new"
   ]
  },
  {
   "cell_type": "code",
   "execution_count": null,
   "id": "4875fb19-80b3-4056-9b46-920f1805a34a",
   "metadata": {},
   "outputs": [],
   "source": [
    "filename = '1122'"
   ]
  },
  {
   "cell_type": "code",
   "execution_count": null,
   "id": "aca5c2f1-a886-4767-876f-bdf64ab9417e",
   "metadata": {},
   "outputs": [],
   "source": [
    "file = hdf.File(folder+pisahdf_filenames[filename],'r')"
   ]
  },
  {
   "cell_type": "code",
   "execution_count": null,
   "id": "af61cf5a-5224-4717-996e-2a6b6bc6f934",
   "metadata": {},
   "outputs": [],
   "source": [
    "from neutrino_weighter_new_PISA import GENIENeutrinoWeighter_Backup"
   ]
  },
  {
   "cell_type": "code",
   "execution_count": null,
   "id": "49f7a3b1-ef56-4bfe-8a74-99af95182ae7",
   "metadata": {},
   "outputs": [],
   "source": [
    "nutypes = {}\n",
    "for flavor in file.keys():\n",
    "    if 'bar' in flavor:\n",
    "        nutypes.update({flavor:0})\n",
    "    else:\n",
    "        nutypes.update({flavor:1})\n",
    "\n",
    "flavinds = {}\n",
    "for flavor in file.keys():\n",
    "    if 'mu' in flavor:\n",
    "        flavinds.update({flavor:1})\n",
    "    elif 'tau' in flavor:\n",
    "        flavinds.update({flavor:2})\n",
    "    else:\n",
    "        flavinds.update({flavor:0})"
   ]
  },
  {
   "cell_type": "code",
   "execution_count": null,
   "id": "890eb6c5-3d3d-4a46-9233-c9e257bccd15",
   "metadata": {},
   "outputs": [],
   "source": [
    "hf = hdf.File('FluxOscWeights/fluxoscweights.h5', 'w')\n",
    "\n",
    "for flavor in file.keys():\n",
    "    print('Calculating: '+flavor+' osc.+flux weights')\n",
    "    fluxweights = GENIENeutrinoWeighter_Backup()\n",
    "    \n",
    "    en = file[flavor][FLERCNN_vars['true_energy']][:]\n",
    "    cos = file[flavor][FLERCNN_vars['true_coszen']][:]\n",
    "    ws = file[flavor][FLERCNN_vars['weighted_aeff']][:]\n",
    "    \n",
    "    flav_weights = fluxweights(en,cos,flavinds[flavor],nutypes[flavor],ws)\n",
    "    \n",
    "    hf.create_dataset(flavor+'_osc_flux_weights', data = flav_weights)"
   ]
  },
  {
   "cell_type": "code",
   "execution_count": null,
   "id": "f78d4f84-a3cf-4449-b005-deb26cffc3af",
   "metadata": {},
   "outputs": [],
   "source": [
    "hf.close()"
   ]
  },
  {
   "cell_type": "code",
   "execution_count": null,
   "id": "f761492e-fe01-4c4d-b738-fdbd81d30f1a",
   "metadata": {},
   "outputs": [],
   "source": []
  }
 ],
 "metadata": {
  "kernelspec": {
   "display_name": "Python 3 (ipykernel)",
   "language": "python",
   "name": "python3"
  },
  "language_info": {
   "codemirror_mode": {
    "name": "ipython",
    "version": 3
   },
   "file_extension": ".py",
   "mimetype": "text/x-python",
   "name": "python",
   "nbconvert_exporter": "python",
   "pygments_lexer": "ipython3",
   "version": "3.10.2"
  }
 },
 "nbformat": 4,
 "nbformat_minor": 5
}
