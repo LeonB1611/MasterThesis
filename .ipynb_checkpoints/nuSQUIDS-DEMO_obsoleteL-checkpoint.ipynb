{
 "cells": [
  {
   "cell_type": "markdown",
   "metadata": {},
   "source": [
    "# $\\nu$-SQuIDS Demo: Welcome!"
   ]
  },
  {
   "cell_type": "code",
   "execution_count": 3,
   "metadata": {},
   "outputs": [],
   "source": [
    "#import sys\n",
    "#print(sys.path)\n",
    "\n",
    "#%%sh\n",
    "#cat /afs/ifh.de/group/amanda/scratch/buchholl/software/env.sh \n",
    "#/afs/ifh.de/group/amanda/scratch/buchholl/software/env.sh"
   ]
  },
  {
   "cell_type": "code",
   "execution_count": 4,
   "metadata": {},
   "outputs": [],
   "source": [
    "%matplotlib inline\n",
    "import matplotlib as mpl\n",
    "import matplotlib.pyplot as plt\n",
    "import nuSQUIDSpy as nsq\n",
    "import numpy as np"
   ]
  },
  {
   "cell_type": "markdown",
   "metadata": {},
   "source": [
    "Welcome to the $\\nu$-SQuIDS demo. In \n",
    "this notebook we will demostrate some of the functionalities of the $\\nu$-SQuIDS' python bindings. All of the calculations performed here can also be done in the C++ interface. Enjoy :)! Carlos, Jordi & Chris."
   ]
  },
  {
   "cell_type": "markdown",
   "metadata": {},
   "source": [
    "# The Basics: single energy mode"
   ]
  },
  {
   "cell_type": "markdown",
   "metadata": {},
   "source": [
    "#### Basic definitions"
   ]
  },
  {
   "cell_type": "markdown",
   "metadata": {},
   "source": [
    "To start, like in the C++ case, we need to create a $\\nu$-SQuIDS object. To begin this demonstration we will create a simple single energy three flavor neutrino oscillation calculator. Thus we just need to specify the number of neutrinos (3) and if we are dealing with neutrinos or antineutrinos."
   ]
  },
  {
   "cell_type": "code",
   "execution_count": 5,
   "metadata": {},
   "outputs": [],
   "source": [
    "nuSQ = nsq.nuSQUIDS(3,nsq.NeutrinoType.neutrino)"
   ]
  },
  {
   "cell_type": "markdown",
   "metadata": {},
   "source": [
    "nuSQuIDS inputs should be given in natural units. In order to make this convenient we have define a units class called *Const*. We can instanciate it as follows"
   ]
  },
  {
   "cell_type": "code",
   "execution_count": 6,
   "metadata": {},
   "outputs": [],
   "source": [
    "units = nsq.Const()"
   ]
  },
  {
   "cell_type": "markdown",
   "metadata": {},
   "source": [
    "As in the C++ $\\nu$-SQuIDS interface one can propagate the neutrinos in various environments (see the documentation for further details), and the user can create and include their own environments. To start a simple case, lets consider oscillactions in <strong> Vacuum </strong>"
   ]
  },
  {
   "cell_type": "code",
   "execution_count": 7,
   "metadata": {},
   "outputs": [],
   "source": [
    "nuSQ.Set_Body(nsq.Vacuum())"
   ]
  },
  {
   "cell_type": "markdown",
   "metadata": {},
   "source": [
    "Since we have specify that we are considering vacuum propagation, we must construct - as in the C++ interface - a *trayectory* inside that object. This can be done using the `Track` property of the given `Body`. Each `Body` will have its on `Track` subclass and its constructors. We can set and construct a <strong>vacuum trayectory</strong> in the following way:"
   ]
  },
  {
   "cell_type": "code",
   "execution_count": 8,
   "metadata": {},
   "outputs": [],
   "source": [
    "nuSQ.Set_Track(nsq.Vacuum.Track(100.0*units.km))"
   ]
  },
  {
   "cell_type": "markdown",
   "metadata": {},
   "source": [
    "Next we have to set the <strong>neutrino energy</strong>, which can be done as follows"
   ]
  },
  {
   "cell_type": "code",
   "execution_count": 9,
   "metadata": {},
   "outputs": [],
   "source": [
    "nuSQ.Set_E(1.0*units.GeV)"
   ]
  },
  {
   "cell_type": "markdown",
   "metadata": {},
   "source": [
    "Now we have to tell $\\nu$-SQuIDS what is the **initial neutrino state** and if such state is given in the **flavor or mass basis**. We can do this using the `Set_initial_state` function and providing it with a *list* and a *string*. If the string is *flavor* then list must contain [$\\phi_e$,$\\phi_\\mu$,$\\phi_\\tau$], similarly if the string is *mass* it the list must specify $\\phi_i$. Lets set the initial state to $\\nu_\\mu$."
   ]
  },
  {
   "cell_type": "code",
   "execution_count": 10,
   "metadata": {},
   "outputs": [],
   "source": [
    "nuSQ.Set_initial_state(np.array([0.,1.,0.]),nsq.Basis.flavor)"
   ]
  },
  {
   "cell_type": "markdown",
   "metadata": {},
   "source": [
    "Finally we can tell $\\nu$-SQuIDS to perform the calculation. In case one (or all) of the above parameters is not set $\\nu$-SQuIDS will throw an exception and tell you to fix it, but if you have defined everything then it will evolve the given state."
   ]
  },
  {
   "cell_type": "code",
   "execution_count": 11,
   "metadata": {},
   "outputs": [
    {
     "name": "stdout",
     "output_type": "stream",
     "text": [
      "CPU times: user 4 µs, sys: 0 ns, total: 4 µs\n",
      "Wall time: 7.15 µs\n"
     ]
    }
   ],
   "source": [
    "%time\n",
    "nuSQ.EvolveState()"
   ]
  },
  {
   "cell_type": "markdown",
   "metadata": {},
   "source": [
    "After this runs $\\nu$-SQuIDS has evolved the state and store it in memory. Now there are lots of things you can ask $\\nu$-SQuIDS to do. What is the flavor composition now?"
   ]
  },
  {
   "cell_type": "code",
   "execution_count": 12,
   "metadata": {},
   "outputs": [
    {
     "data": {
      "text/plain": [
       "[0.004675502573140013, 0.9022064087866011, 0.09311808864025879]"
      ]
     },
     "execution_count": 12,
     "metadata": {},
     "output_type": "execute_result"
    }
   ],
   "source": [
    "[nuSQ.EvalFlavor(i) for i in range(3)]"
   ]
  },
  {
   "cell_type": "markdown",
   "metadata": {},
   "source": [
    "#### Writing and Reading the state"
   ]
  },
  {
   "cell_type": "markdown",
   "metadata": {},
   "source": [
    "$\\nu$-SQuIDS knows everything about the neutrino state at the current moment, it also knows what we did with it so far, where it went, what mixing parameters were used, etc. It would be convenient to store this information. One way of doing this is to **save the $\\nu$-SQuIDS status**, we can do this in the following way"
   ]
  },
  {
   "cell_type": "code",
   "execution_count": 13,
   "metadata": {},
   "outputs": [],
   "source": [
    "nuSQ.WriteStateHDF5(\"current_state.hdf5\")"
   ]
  },
  {
   "cell_type": "markdown",
   "metadata": {},
   "source": [
    "Everything that is in the $\\nu$-SQuIDS object is now in that file. We can use that file to create a new $\\nu$-SQuIDS object and do another calculation, we can stop the calculation midway and use it to restart, we can explore that file with other analysis tools, etc. In particular, the `ReadStateHDF5` will return us to the given configuration."
   ]
  },
  {
   "cell_type": "code",
   "execution_count": 14,
   "metadata": {},
   "outputs": [],
   "source": [
    "nuSQ.ReadStateHDF5(\"current_state.hdf5\")"
   ]
  },
  {
   "cell_type": "markdown",
   "metadata": {},
   "source": [
    "#### Simple Plot"
   ]
  },
  {
   "cell_type": "markdown",
   "metadata": {},
   "source": [
    "Lets use the current tool to try to calculate $P(\\nu_\\mu \\to \\nu_e)$ as a function of energy. We can do the following"
   ]
  },
  {
   "cell_type": "code",
   "execution_count": 15,
   "metadata": {},
   "outputs": [],
   "source": [
    "energy_values = np.linspace(1,10,40)\n",
    "nu_mu_to_nu_e = []\n",
    "for Enu in energy_values:\n",
    "    nuSQ.Set_E(Enu*units.GeV)\n",
    "    nuSQ.Set_initial_state(np.array([0.,1.,0.]),nsq.Basis.flavor)\n",
    "    nuSQ.EvolveState()\n",
    "    nu_mu_to_nu_e.append(nuSQ.EvalFlavor(0))"
   ]
  },
  {
   "cell_type": "code",
   "execution_count": 16,
   "metadata": {},
   "outputs": [
    {
     "data": {
      "text/plain": [
       "[<matplotlib.lines.Line2D at 0x7f159a19c2b0>]"
      ]
     },
     "execution_count": 16,
     "metadata": {},
     "output_type": "execute_result"
    },
    {
     "data": {
      "image/png": "[encoded data removed]",
      "text/plain": [
       "<Figure size 800x600 with 1 Axes>"
      ]
     },
     "metadata": {},
     "output_type": "display_data"
    }
   ],
   "source": [
    "plt.figure(figsize = (8,6))\n",
    "plt.xlabel(r\"$E_\\nu [{\\rm GeV}]$\")\n",
    "plt.ylabel(r\"$P(\\nu_\\mu \\to \\nu_e)$\")\n",
    "plt.plot(energy_values,nu_mu_to_nu_e, lw = 2, color = 'blue')"
   ]
  },
  {
   "cell_type": "markdown",
   "metadata": {},
   "source": [
    "#### Changing the oscillation parameters"
   ]
  },
  {
   "cell_type": "markdown",
   "metadata": {},
   "source": [
    "This is a nice plot. But we do not see an *oscillation* like curve. The reason for this is that the oscillation parameters do not produce an oscillation pattern in this $L/E$ scale. **$\\nu$-SQuIDs has some predefined oscillation mixing angles ($\\theta_{ij}$) and mass splittings ($\\Delta m^2_{ij}$)**, which we have taken from the most recents fits. Perhaps you want to change this parameter to investigate what happens, this can be done easily using the `Set` function."
   ]
  },
  {
   "cell_type": "code",
   "execution_count": 17,
   "metadata": {},
   "outputs": [],
   "source": [
    "nuSQ.Set_SquareMassDifference(1,2.0e-1) # sets dm^2_{21} in eV^2."
   ]
  },
  {
   "cell_type": "markdown",
   "metadata": {},
   "source": [
    "We can then, again, do a plot with this simple script"
   ]
  },
  {
   "cell_type": "code",
   "execution_count": 18,
   "metadata": {},
   "outputs": [],
   "source": [
    "energy_values = np.linspace(1,10,100)\n",
    "nu_mu_to_nu_e = []\n",
    "for Enu in energy_values:\n",
    "    nuSQ.Set_E(Enu*units.GeV)\n",
    "    nuSQ.Set_initial_state(np.array([0.,1.,0.]),nsq.Basis.flavor)\n",
    "    nuSQ.EvolveState()\n",
    "    nu_mu_to_nu_e.append(nuSQ.EvalFlavor(0))"
   ]
  },
  {
   "cell_type": "code",
   "execution_count": 19,
   "metadata": {},
   "outputs": [
    {
     "data": {
      "text/plain": [
       "[<matplotlib.lines.Line2D at 0x7f159a35c190>]"
      ]
     },
     "execution_count": 19,
     "metadata": {},
     "output_type": "execute_result"
    },
    {
     "data": {
      "image/png": "[encoded data removed]",
      "text/plain": [
       "<Figure size 800x600 with 1 Axes>"
      ]
     },
     "metadata": {},
     "output_type": "display_data"
    }
   ],
   "source": [
    "plt.figure(figsize = (8,6))\n",
    "plt.xlabel(r\"$E_\\nu [{\\rm GeV}]$\")\n",
    "plt.ylabel(r\"$P(\\nu_\\mu \\to \\nu_e)$\")\n",
    "plt.plot(energy_values,nu_mu_to_nu_e, lw = 2, color = 'blue')"
   ]
  },
  {
   "cell_type": "markdown",
   "metadata": {},
   "source": [
    "We can also try to modify the mixing angles (see how to do this in detail in the documentation), for example"
   ]
  },
  {
   "cell_type": "code",
   "execution_count": null,
   "metadata": {},
   "outputs": [],
   "source": [
    "nuSQ.Set_MixingAngle(0,1,1.2) # sets \\theta_{12} in radians.\n",
    "nuSQ.Set_MixingAngle(0,2,0.3) # sets \\theta_{23}} in radians.\n",
    "nuSQ.Set_MixingAngle(1,2,0.4) # sets \\theta_{23}} in radians."
   ]
  },
  {
   "cell_type": "code",
   "execution_count": null,
   "metadata": {},
   "outputs": [],
   "source": [
    "energy_values = np.linspace(1,10,100)\n",
    "nu_mu_to_nu_e = []\n",
    "for Enu in energy_values:\n",
    "    nuSQ.Set_E(Enu*units.GeV)\n",
    "    nuSQ.Set_initial_state(np.array([0.,1.,0.]),nsq.Basis.flavor)\n",
    "    nuSQ.EvolveState()\n",
    "    nu_mu_to_nu_e.append(nuSQ.EvalFlavor(0))\n",
    "\n",
    "plt.figure(figsize = (8,6))\n",
    "plt.xlabel(r\"$E_\\nu [GeV]$\")\n",
    "plt.ylabel(r\"$P(\\nu_\\mu \\to \\nu_e)$\")\n",
    "plt.plot(energy_values,nu_mu_to_nu_e, lw = 2, color = 'blue')"
   ]
  },
  {
   "cell_type": "markdown",
   "metadata": {},
   "source": [
    "We can now go back to the defaults, which are the values given by Gonzalez-Garcia et al. (arXiv:1409.5439)"
   ]
  },
  {
   "cell_type": "code",
   "execution_count": null,
   "metadata": {},
   "outputs": [],
   "source": [
    "nuSQ.Set_MixingParametersToDefault()"
   ]
  },
  {
   "cell_type": "markdown",
   "metadata": {},
   "source": [
    "#### Changing where the neutrino propagation takes place"
   ]
  },
  {
   "cell_type": "markdown",
   "metadata": {},
   "source": [
    "As in the C++ implementation we can change the `Body` by means of the `Set_Body` function and in similar way we can change the `Track`. Lets do an atmospheric oscillation example =)."
   ]
  },
  {
   "cell_type": "code",
   "execution_count": null,
   "metadata": {},
   "outputs": [],
   "source": [
    "nuSQ = nsq.nuSQUIDS(3,nsq.NeutrinoType.neutrino)\n",
    "earth = nsq.EarthAtm()\n",
    "nuSQ.Set_Body(earth)\n",
    "nuSQ.Set_Track(earth.MakeTrackWithCosine(-1))\n",
    "nuSQ.Set_rel_error(1.0e-17)\n",
    "nuSQ.Set_abs_error(1.0e-17)"
   ]
  },
  {
   "cell_type": "code",
   "execution_count": null,
   "metadata": {},
   "outputs": [],
   "source": [
    "energy_values = np.logspace(0,2,120)\n",
    "nu_mu_to_nu_e = []\n",
    "nu_mu_to_nu_mu = []\n",
    "nu_mu_to_nu_tau = []\n",
    "for Enu in energy_values:\n",
    "    nuSQ.Set_E(Enu*units.GeV)\n",
    "    nuSQ.Set_initial_state(np.array([0.,1.,0.]),nsq.Basis.flavor)\n",
    "    nuSQ.EvolveState()\n",
    "    nu_mu_to_nu_e.append(nuSQ.EvalFlavor(0))\n",
    "    nu_mu_to_nu_mu.append(nuSQ.EvalFlavor(1))\n",
    "    nu_mu_to_nu_tau.append(nuSQ.EvalFlavor(2))\n",
    "\n",
    "plt.figure(figsize = (8,6))\n",
    "plt.xlabel(r\"$E_\\nu [{\\rm GeV}]$\")\n",
    "plt.ylabel(r\"Oscillation Probability\")\n",
    "plt.plot(energy_values,nu_mu_to_nu_e, lw = 2, color = 'red', label = r\"$\\nu_e$\")\n",
    "plt.plot(energy_values,nu_mu_to_nu_mu, lw = 2, color = 'blue',label = r\"$\\nu_\\mu$\")\n",
    "plt.plot(energy_values,nu_mu_to_nu_tau, lw = 2, color = 'green', label = r\"$\\nu_\\tau$\")\n",
    "plt.legend(fancybox = True, fontsize = 15, loc = 7)\n",
    "plt.semilogx()\n",
    "plt.ylim(0.,1.)"
   ]
  },
  {
   "cell_type": "markdown",
   "metadata": {},
   "source": [
    "#### A 750 km baseline experiment in Earth ####"
   ]
  },
  {
   "cell_type": "code",
   "execution_count": null,
   "metadata": {},
   "outputs": [],
   "source": [
    "nuSQ = nsq.nuSQUIDS(3,nsq.NeutrinoType.neutrino)\n",
    "nuSQ.Set_Body(nsq.Earth())\n",
    "nuSQ.Set_Track(nsq.Earth.Track(750.0*units.km))"
   ]
  },
  {
   "cell_type": "code",
   "execution_count": null,
   "metadata": {},
   "outputs": [],
   "source": [
    "nuSQ.Set_rel_error(1.0e-15)\n",
    "nuSQ.Set_abs_error(1.0e-17)"
   ]
  },
  {
   "cell_type": "code",
   "execution_count": null,
   "metadata": {},
   "outputs": [],
   "source": [
    "energy_values = np.linspace(1,10,70)\n",
    "nu_mu_to_nu_e = []\n",
    "for Enu in energy_values:\n",
    "    nuSQ.Set_E(Enu*units.GeV)\n",
    "    nuSQ.Set_initial_state(np.array([0.,1.,0.]),nsq.Basis.flavor)\n",
    "    nuSQ.EvolveState()\n",
    "    nu_mu_to_nu_e.append(nuSQ.EvalFlavor(1))\n",
    "\n",
    "plt.figure(figsize = (8,6))\n",
    "plt.xlabel(r\"$E_\\nu [{\\rm GeV}]$\")\n",
    "plt.ylabel(r\"$P(\\nu_\\mu \\to \\nu_\\mu)$\")\n",
    "plt.plot(energy_values,nu_mu_to_nu_e, lw = 2, color = 'blue')"
   ]
  },
  {
   "cell_type": "markdown",
   "metadata": {},
   "source": [
    "#### Propagating in a constant density slab ####"
   ]
  },
  {
   "cell_type": "code",
   "execution_count": null,
   "metadata": {},
   "outputs": [],
   "source": [
    "nuSQ = nsq.nuSQUIDS(3,nsq.NeutrinoType.neutrino)\n",
    "nuSQ.Set_Body(nsq.ConstantDensity(13.0,0.5))\n",
    "nuSQ.Set_Track(nsq.ConstantDensity.Track(1000.0*units.km))"
   ]
  },
  {
   "cell_type": "code",
   "execution_count": null,
   "metadata": {},
   "outputs": [],
   "source": [
    "energy_values = np.logspace(-2,2,500)\n",
    "nu_mu_to_nu_e = []\n",
    "for Enu in energy_values:\n",
    "    nuSQ.Set_E(Enu*units.GeV)\n",
    "    nuSQ.Set_initial_state(np.array([0.,1.,0.]),nsq.Basis.flavor)\n",
    "    nuSQ.EvolveState()\n",
    "    nu_mu_to_nu_e.append(nuSQ.EvalFlavor(0))\n",
    "\n",
    "plt.figure(figsize = (8,6))\n",
    "plt.xlabel(r\"$E_\\nu [{\\rm GeV}]$\")\n",
    "plt.ylabel(r\"$P(\\nu_\\mu \\to \\nu_e)$\")\n",
    "plt.plot(energy_values,nu_mu_to_nu_e, lw = 2, color = 'blue')\n",
    "plt.semilogx()"
   ]
  },
  {
   "cell_type": "markdown",
   "metadata": {},
   "source": [
    "# Advanced: multiple energy mode"
   ]
  },
  {
   "cell_type": "markdown",
   "metadata": {},
   "source": [
    "So far we have been able to calculate the oscillation probability in a given `Body` and `Track`. We have also been able to change the oscillation parameters (mixing angles and square mass differences), as well as changing the neutrino energy. This is what solving the **Schödinger evolution equation** does and it is a good approximation for most cases, but $\\nu$-SQuIDS does **more**: it can solve a **quantum Boltzmann equation**. This means that it can solve a system of the following form"
   ]
  },
  {
   "cell_type": "markdown",
   "metadata": {},
   "source": [
    "$$\\frac{\\partial\\hat{\\rho}_i}{\\partial x} = i [H,\\hat{\\rho}_i] + \\{A,\\hat{\\rho}_i\\} + O(\\hat{\\rho}_i,\\hat{\\rho}_j)$$"
   ]
  },
  {
   "cell_type": "markdown",
   "metadata": {},
   "source": [
    "where $\\hat{\\rho_i}$ represents the neutrino state at $E_\\nu = E_i$, $H$ is the Hamiltonian, $A$ is a non unitary operator, and $O$ is an operator that contains the interactions between neutrino states of energies $E_i$ and $E_j$. The **SQuIDS package was designed to solve this kind of equations** (and *more*), in particular **$\\nu$-SQuIDS implements this equation for neutrino propagation** in matter including the effects of neutral and charge current interactions, as well as the associated neutral and tau regeneration. For further details refer to [Gonzalez-Garcia et al.](#CHM)"
   ]
  },
  {
   "cell_type": "markdown",
   "metadata": {},
   "source": [
    "To begin we have to specify the $\\{E_i\\}$ grid where the equation will be solve. The energy nodes can be an arbitrary ordered list of energy in eV. The most common choices is to have linearly spaced nodes or logarithmically spaced nodes. For constructing numpy array of linear and logarithmic scales nuSQuIDS provides two convenient functions called linspace and logspace respectively."
   ]
  },
  {
   "cell_type": "markdown",
   "metadata": {},
   "source": [
    "# Multiple Energy Mode without Interactions"
   ]
  },
  {
   "cell_type": "code",
   "execution_count": null,
   "metadata": {},
   "outputs": [],
   "source": [
    "interactions = False\n",
    "\n",
    "E_min = 1.0*units.GeV\n",
    "E_max = 10.0*units.GeV\n",
    "E_nodes = 101\n",
    "\n",
    "energy_nodes = nsq.logspace(E_min,E_max,E_nodes)\n",
    "\n",
    "neutrino_flavors = 3\n",
    "\n",
    "nuSQ = nsq.nuSQUIDS(energy_nodes,neutrino_flavors,nsq.NeutrinoType.neutrino,interactions)"
   ]
  },
  {
   "cell_type": "markdown",
   "metadata": {},
   "source": [
    "We can see the nodes energies $\\{E_i\\}$, which is (in [eV])"
   ]
  },
  {
   "cell_type": "code",
   "execution_count": null,
   "metadata": {},
   "outputs": [],
   "source": [
    "nuSQ.GetERange()"
   ]
  },
  {
   "cell_type": "markdown",
   "metadata": {},
   "source": [
    "Lets propage this neutrino through the Earth in an atmospheric neutrino telescope setting. We can do that by setting the following `Body` and `Track`:"
   ]
  },
  {
   "cell_type": "code",
   "execution_count": null,
   "metadata": {},
   "outputs": [],
   "source": [
    "earth = nsq.EarthAtm()\n",
    "nuSQ.Set_Body(earth)\n",
    "nuSQ.Set_Track(earth.MakeTrackWithCosine(-1))"
   ]
  },
  {
   "cell_type": "markdown",
   "metadata": {},
   "source": [
    "Lets assume that $\\phi_\\nu = N_0 E^{-2}$, with flavor composition $\\phi_e:\\phi_\\mu:\\phi_\\tau$ = $0:1:0$. $\\nu$-SQuIDS input flux is a `numpy.ndarray` formatted in the following way : \n",
    "\n",
    "$$InputState \\doteq [[\\phi^1_e,\\phi^1_\\mu,\\phi^1_\\tau],...,[\\phi^i_e,\\phi^i_\\mu,\\phi^i_\\tau],...,[\\phi^n_e,\\phi^n_\\mu,\\phi^n_\\tau]]$$ where i = 1 to n and n is the number of energy nodes. We can implement this in the following way"
   ]
  },
  {
   "cell_type": "code",
   "execution_count": null,
   "metadata": {},
   "outputs": [],
   "source": [
    "N0 = 1.0e18\n",
    "Eflux = lambda E: N0*E**-2\n",
    "Einitial = (Eflux(nuSQ.GetERange()).reshape((101,1)))*(np.array([0.,1.,0.]).reshape(1,3))"
   ]
  },
  {
   "cell_type": "markdown",
   "metadata": {},
   "source": [
    "We can plot the initial flux:"
   ]
  },
  {
   "cell_type": "code",
   "execution_count": null,
   "metadata": {},
   "outputs": [],
   "source": [
    "plt.xlabel(r\"$E_\\nu [{\\rm GeV}]$\")\n",
    "plt.ylabel(r\"$\\phi_{ini}$\")\n",
    "plt.plot(np.array(nuSQ.GetERange())/units.GeV,np.array(Einitial)[:,1], lw = 2)\n",
    "plt.loglog()"
   ]
  },
  {
   "cell_type": "markdown",
   "metadata": {},
   "source": [
    "Lets set this initial state"
   ]
  },
  {
   "cell_type": "code",
   "execution_count": null,
   "metadata": {},
   "outputs": [],
   "source": [
    "nuSQ.Set_initial_state(Einitial,nsq.Basis.flavor)"
   ]
  },
  {
   "cell_type": "markdown",
   "metadata": {},
   "source": [
    "Lets **propage** this flux through the **Earth**"
   ]
  },
  {
   "cell_type": "code",
   "execution_count": null,
   "metadata": {},
   "outputs": [],
   "source": [
    "nuSQ.Set_rel_error(1.0e-17)\n",
    "nuSQ.Set_abs_error(1.0e-17)\n",
    "nuSQ.Set_h_max(500.0*units.km)"
   ]
  },
  {
   "cell_type": "code",
   "execution_count": null,
   "metadata": {},
   "outputs": [],
   "source": [
    "nuSQ.EvolveState()"
   ]
  },
  {
   "cell_type": "markdown",
   "metadata": {},
   "source": [
    "That' it. Now `nuSQ` contains the evolved object. Lets get the information from it."
   ]
  },
  {
   "cell_type": "markdown",
   "metadata": {},
   "source": [
    "We can now calculate all of the flavor contributions at this current time. Notice that we can even increase the energy resolution in this multiple energy mode. The reason for this is that $\\nu$-SQuIDS stores the neutrino states (${\\rho_i}$) in the interaction basis, thus it can interpolate between states and then proyect into flavor. In symbols, for a given neutrino energy $E_\\nu$ and flavor $\\alpha$,\n",
    "\n",
    "$$\\texttt{EvalFlavor}(E_\\nu,\\alpha) = {\\rm Tr}\\left[\\Pi_\\alpha (E_\\nu) * \\rho(E_\\nu)\\right]$$\n",
    "\n",
    "where $\\Pi_\\alpha (E_\\nu) = e^{-i\\hat{H_0}}\\Pi_\\alpha e^{i\\hat{H_0}}$, with $H_0$ the base hamiltonian evaluated at $E_\\nu$, and $\\rho(E_\\nu)$ is a linear interpolation of the $\\rho_i$ states in the energy (node) axis."
   ]
  },
  {
   "cell_type": "code",
   "execution_count": null,
   "metadata": {},
   "outputs": [],
   "source": [
    "e_range = np.linspace(1.0,10.0,200)\n",
    "\n",
    "nu_e = np.array([nuSQ.EvalFlavor(0,EE*units.GeV,0) \n",
    "                           for EE in e_range])\n",
    "nu_mu = np.array([nuSQ.EvalFlavor(1,EE*units.GeV,0) \n",
    "                           for EE in e_range])\n",
    "nu_tau = np.array([nuSQ.EvalFlavor(2,EE*units.GeV,0) \n",
    "                           for EE in e_range])\n",
    "\n",
    "total = nu_e + nu_mu + nu_tau"
   ]
  },
  {
   "cell_type": "code",
   "execution_count": null,
   "metadata": {},
   "outputs": [],
   "source": [
    "plt.figure(figsize = (8,6))\n",
    "\n",
    "plt.xlabel(r\"$E_\\nu [{\\rm GeV}]$\")\n",
    "plt.ylabel(r\"$\\phi_\\alpha$\")\n",
    "\n",
    "plt.plot(e_range,nu_e, lw = 2, color = 'red', label = r\"$\\nu_e$\")\n",
    "plt.plot(e_range,nu_mu, lw = 2, color = 'blue', label = r\"$\\nu_\\mu$\")\n",
    "plt.plot(e_range,nu_tau, lw = 2, color = 'green', label = r\"$\\nu_\\tau$\")\n",
    "plt.plot(e_range,total, lw = 2, color = 'black', label = r\"Total\")\n",
    "plt.legend(fancybox = True, fontsize = 10)\n",
    "plt.semilogy()"
   ]
  },
  {
   "cell_type": "markdown",
   "metadata": {},
   "source": [
    "We can now try to reproduce the plot that we did in the single energy case: $P(\\nu_\\mu \\to \\nu_e)$. If you compare with the single energy plot you will notice that they are in agrement and, furthermore, the multiple energy mode **was able to reproduce the *fast* oscillation behaviour** at low energies eventhough it has **less energy nodes**"
   ]
  },
  {
   "cell_type": "code",
   "execution_count": null,
   "metadata": {},
   "outputs": [],
   "source": [
    "plt.figure(figsize = (8,6))\n",
    "plt.xlabel(r\"$E_\\nu [{\\rm GeV}]$\")\n",
    "plt.ylabel(r\"Oscillation Probability\")\n",
    "\n",
    "nu_mu_to_nu_mu = nu_mu/Eflux(e_range*units.GeV)\n",
    "nu_mu_to_nu_tau = nu_tau/Eflux(e_range*units.GeV)\n",
    "nu_mu_to_nu_e = nu_e/Eflux(e_range*units.GeV)\n",
    "\n",
    "plt.plot(e_range,nu_mu_to_nu_mu, lw = 2, color = 'blue',label = r\"$\\nu_\\mu$\")\n",
    "plt.plot(e_range,nu_mu_to_nu_e, lw = 2, color = 'green',label = r\"$\\nu_e$\")\n",
    "plt.plot(e_range,nu_mu_to_nu_tau, lw = 2, color = 'red',label = r\"$\\nu_\\tau$\")\n",
    "plt.legend(fancybox = True, fontsize = 15, loc = 'upper right')\n",
    "plt.ylim(0.,1.)"
   ]
  },
  {
   "cell_type": "markdown",
   "metadata": {},
   "source": [
    "# Multiple Energy Mode with Interactions"
   ]
  },
  {
   "cell_type": "markdown",
   "metadata": {},
   "source": [
    "The multiple energy mode solves the quantum differential equactions in an energy grid (${E_i}$), this enables to include interactions between nodes at positions $i$ and $j$. We will now exemplify this."
   ]
  },
  {
   "cell_type": "code",
   "execution_count": null,
   "metadata": {},
   "outputs": [],
   "source": [
    "interactions = True\n",
    "\n",
    "E_min = 1.0e2*units.GeV\n",
    "E_max = 1.0e8*units.GeV\n",
    "E_nodes = 200\n",
    "energy_nodes = nsq.logspace(E_min,E_max,E_nodes)\n",
    "\n",
    "neutrino_flavors = 3\n",
    "\n",
    "nuSQ = nsq.nuSQUIDS(energy_nodes,neutrino_flavors,nsq.NeutrinoType.neutrino,interactions)"
   ]
  },
  {
   "cell_type": "code",
   "execution_count": null,
   "metadata": {},
   "outputs": [],
   "source": [
    "N0 = 1.0e18; Power = -1.0\n",
    "Eflux = lambda E: N0*E**Power\n",
    "InitialFlux = (Eflux(nuSQ.GetERange()).reshape(E_nodes,1))*(np.array([0.,1.,0.]).reshape(1,3))"
   ]
  },
  {
   "cell_type": "code",
   "execution_count": null,
   "metadata": {},
   "outputs": [],
   "source": [
    "nuSQ.Set_rel_error(1.0e-10)\n",
    "nuSQ.Set_abs_error(1.0e-10)\n",
    "nuSQ.Set_h_max(500.0*units.km)\n",
    "nuSQ.Set_MixingParametersToDefault()"
   ]
  },
  {
   "cell_type": "code",
   "execution_count": null,
   "metadata": {},
   "outputs": [],
   "source": [
    "earth = nsq.EarthAtm()\n",
    "nuSQ.Set_Body(earth)\n",
    "nuSQ.Set_Track(earth.MakeTrackWithCosine(-1.0))\n",
    "nuSQ.Set_initial_state(InitialFlux,nsq.Basis.flavor)"
   ]
  },
  {
   "cell_type": "code",
   "execution_count": null,
   "metadata": {},
   "outputs": [],
   "source": [
    "%time nuSQ.EvolveState()"
   ]
  },
  {
   "cell_type": "code",
   "execution_count": null,
   "metadata": {},
   "outputs": [],
   "source": [
    "nu_e = np.array([nuSQ.EvalFlavorAtNode(0,ie,0) \n",
    "                           for ie in range(E_nodes)])\n",
    "nu_mu = np.array([nuSQ.EvalFlavorAtNode(1,ie,0) \n",
    "                           for ie in range(E_nodes)])\n",
    "nu_tau = np.array([nuSQ.EvalFlavorAtNode(2,ie,0) \n",
    "                           for ie in range(E_nodes)])\n",
    "\n",
    "E_range = np.array(nuSQ.GetERange())/units.GeV\n",
    "\n",
    "total = nu_e + nu_mu + nu_tau"
   ]
  },
  {
   "cell_type": "code",
   "execution_count": null,
   "metadata": {},
   "outputs": [],
   "source": [
    "plt.figure(figsize = (8,6))\n",
    "\n",
    "plt.xlabel(r\"$E_\\nu [GeV]$\")\n",
    "plt.ylabel(r\"$\\phi_\\nu$\")\n",
    "\n",
    "plt.plot(E_range,nu_e, lw = 2, color = 'red', label = r\"$\\nu_e$\")\n",
    "plt.plot(E_range,nu_mu, lw = 2, color = 'blue', label = r\"$\\nu_\\mu$\")\n",
    "plt.plot(E_range,nu_tau, lw = 2, color = 'green', label = r\"$\\nu_\\tau$\")\n",
    "plt.plot(E_range,total, lw = 2, color = 'black', label = r\"Total\")\n",
    "plt.legend(fancybox = True, loc = 'lower left', fontsize = 15)\n",
    "plt.loglog()"
   ]
  },
  {
   "cell_type": "markdown",
   "metadata": {},
   "source": [
    "We can compare this calculation with Figure 4 of [Gonzalez-Garcia et al.](#CHM) and find them in excellent agreement. Just note that the small kink at $10^2$ is the result of neutrino oscillations and the difference at high energy attenuation amplitud is due to different cross section."
   ]
  },
  {
   "cell_type": "code",
   "execution_count": null,
   "metadata": {},
   "outputs": [],
   "source": [
    "plt.figure(figsize = (8,6))\n",
    "plt.xlabel(r\"$E_\\nu [GeV]$\")\n",
    "plt.ylabel(r\"$(d\\phi^{\\rm final}/dE)/(d\\phi^{\\rm final}/dE)$\")\n",
    "\n",
    "nu_mu_to_nu_mu = nu_mu/Eflux(E_range*units.GeV)\n",
    "plt.plot(E_range,nu_mu_to_nu_mu, lw = 2, color = 'blue')\n",
    "plt.title(r\"Muon Neutrino\", fontsize = 25)\n",
    "plt.text(5.0e4,3.0,r\"$d\\phi/dE \\sim E^{-1}$\", fontsize = 25)\n",
    "plt.axhline (1.0, color = \"k\", lw = 3)\n",
    "plt.ylim(1.0e-3,1.0e1)\n",
    "plt.xlim(1.0e2,2.0e6)\n",
    "plt.grid()\n",
    "plt.loglog()"
   ]
  },
  {
   "cell_type": "markdown",
   "metadata": {},
   "source": [
    "# Handeling neutrinos and antineutrinos with tau regeneration"
   ]
  },
  {
   "cell_type": "markdown",
   "metadata": {},
   "source": [
    "To include $\\tau$ regeneration we have to work on the multi energy mode and set the neutrino type to \"both\". We can initialize the $\\nu$-SQuIDS object in the following way"
   ]
  },
  {
   "cell_type": "code",
   "execution_count": null,
   "metadata": {},
   "outputs": [],
   "source": [
    "interactions = True\n",
    "\n",
    "E_min = 1.0e2*units.GeV\n",
    "E_max = 1.0e8*units.GeV\n",
    "E_nodes = 200\n",
    "energy_nodes = nsq.logspace(E_min,E_max,E_nodes)\n",
    "\n",
    "neutrino_flavors = 3\n",
    "\n",
    "nuSQ = nsq.nuSQUIDS(energy_nodes,neutrino_flavors,nsq.NeutrinoType.both,interactions)"
   ]
  },
  {
   "cell_type": "markdown",
   "metadata": {},
   "source": [
    "In this case we need to specify the neutrino and antineutrino initial fluxes. Those have the following format:\n",
    "\n",
    "$$InputState \\doteq [[[\\phi^1_e,\\phi^1_\\mu,\\phi^1_\\tau],[\\bar{\\phi}^1_e,\\bar{\\phi}^1_\\mu,\\bar{\\phi}^1_\\tau]],...,[[\\phi^i_e,\\phi^i_\\mu,\\phi^i_\\tau],[\\bar{\\phi}^i_e,\\bar{\\phi}^i_\\mu,\\bar{\\phi}^i_\\tau]],...,[[\\phi^n_e,\\phi^n_\\mu,\\phi^n_\\tau],[\\bar{\\phi}^n_e,\\bar{\\phi}^n_\\mu,\\bar{\\phi}^n_\\tau]]]$$\n",
    "\n",
    "where i = 1 to n and n is the number of energy nodes and $\\phi$ ($\\bar{\\phi}$) is the neutrino (antineutrino) flux."
   ]
  },
  {
   "cell_type": "code",
   "execution_count": null,
   "metadata": {},
   "outputs": [],
   "source": [
    "N0 = 1.0e18; Power = -1.0\n",
    "Eflux = lambda E: N0*E**Power\n",
    "\n",
    "InitialFlux = np.zeros((200,2,3))\n",
    "for i,E in enumerate(nuSQ.GetERange()):\n",
    "    InitialFlux[i][0][0] = 0.0\n",
    "    InitialFlux[i][1][0] = 0.0\n",
    "    InitialFlux[i][0][1] = Eflux(E)\n",
    "    InitialFlux[i][1][1] = Eflux(E)\n",
    "    InitialFlux[i][0][2] = Eflux(E)\n",
    "    InitialFlux[i][1][2] = Eflux(E)"
   ]
  },
  {
   "cell_type": "code",
   "execution_count": null,
   "metadata": {},
   "outputs": [],
   "source": [
    "nuSQ.Set_rel_error(1.0e-7)\n",
    "nuSQ.Set_abs_error(1.0e-7)\n",
    "nuSQ.Set_h_max(500.0*units.km)\n",
    "nuSQ.Set_MixingParametersToDefault()"
   ]
  },
  {
   "cell_type": "code",
   "execution_count": null,
   "metadata": {},
   "outputs": [],
   "source": [
    "earth = nsq.EarthAtm()nuSQ.Set_Body(earth)\n",
    "nuSQ.Set_Track(earth.MakeTrackWithCosine(-1.0))\n",
    "nuSQ.Set_initial_state(InitialFlux,nsq.Basis.flavor)\n",
    "nuSQ.Set_TauRegeneration(True)"
   ]
  },
  {
   "cell_type": "code",
   "execution_count": null,
   "metadata": {},
   "outputs": [],
   "source": [
    "%time nuSQ.EvolveState()"
   ]
  },
  {
   "cell_type": "code",
   "execution_count": null,
   "metadata": {},
   "outputs": [],
   "source": [
    "nu_tau = np.array([ nuSQ.EvalFlavorAtNode(2,ie,0) for ie,EE in enumerate(nuSQ.GetERange())])\n",
    "nu_tau_bar = np.array([ nuSQ.EvalFlavorAtNode(2,ie,1) for ie,EE in enumerate(nuSQ.GetERange())])\n",
    "\n",
    "nu_mu = np.array([ nuSQ.EvalFlavorAtNode(1,ie,0) for ie,EE in enumerate(nuSQ.GetERange())])\n",
    "nu_mu_bar = np.array([ nuSQ.EvalFlavorAtNode(1,ie,1) for ie,EE in enumerate(nuSQ.GetERange())])\n",
    "\n",
    "E_range = nuSQ.GetERange()/units.GeV"
   ]
  },
  {
   "cell_type": "code",
   "execution_count": null,
   "metadata": {},
   "outputs": [],
   "source": [
    "plt.figure(figsize = (6,6))\n",
    "plt.xlabel(r\"$E_\\nu [GeV]$\")\n",
    "plt.ylabel(r\"$\\phi_{\\nu_\\mu} (E_\\nu)$\")\n",
    "\n",
    "plt.plot(E_range,nu_mu+nu_mu_bar, lw = 3, color = 'blue')\n",
    "plt.plot(E_range,nu_tau+nu_tau_bar, lw = 3, color = 'red')\n",
    "plt.loglog()"
   ]
  },
  {
   "cell_type": "code",
   "execution_count": null,
   "metadata": {},
   "outputs": [],
   "source": [
    "plt.figure(figsize = (6,6))\n",
    "plt.xlabel(r\"$E_\\nu [{\\rm GeV}]$\")\n",
    "plt.ylabel(r\"${\\rm E_\\nu} \\times \\phi_\\nu (E_\\nu)$\")\n",
    "e_range = nuSQ.GetERange()/units.GeV\n",
    "plt.plot(e_range,0.5*(nu_tau+nu_tau_bar)*(e_range*units.GeV)/N0, lw = 3, label =r\"$\\nu_\\tau + \\bar{\\nu}_\\tau$\", color = \"blue\")\n",
    "plt.plot(e_range,0.5*(nu_mu+nu_mu_bar)*(e_range*units.GeV)/N0, lw = 3, label =r\"$\\nu_\\mu + \\bar{\\nu}_\\mu$\", color = \"red\")\n",
    "plt.axhline (1.0, color = \"k\", lw = 3)\n",
    "plt.xlim(1.0e2,1.0e6)\n",
    "plt.ylim(1.0e-2,1.0e1)\n",
    "plt.grid()\n",
    "plt.loglog()\n",
    "plt.legend(loc = \"upper right\", fancybox = True, fontsize = 15)\n",
    "plt.savefig(\"nusquids_python_with_interactions_both.pdf\",bbox_inches='tight')"
   ]
  },
  {
   "cell_type": "markdown",
   "metadata": {},
   "source": [
    "# Neutrino Oscillation in a (3+1) model"
   ]
  },
  {
   "cell_type": "code",
   "execution_count": null,
   "metadata": {},
   "outputs": [],
   "source": [
    "interactions = False\n",
    "\n",
    "E_min = 1.0*units.GeV\n",
    "E_max = 100.0*units.GeV\n",
    "E_nodes = 201\n",
    "\n",
    "energy_nodes = nsq.logspace(E_min,E_max,E_nodes)\n",
    "neutrino_flavors = 4\n",
    "\n",
    "nuSQ = nsq.nuSQUIDS(energy_nodes,neutrino_flavors,nsq.NeutrinoType.antineutrino,interactions)"
   ]
  },
  {
   "cell_type": "code",
   "execution_count": null,
   "metadata": {},
   "outputs": [],
   "source": [
    "earth = nsq.EarthAtm()\n",
    "nuSQ.Set_Body(earth)\n",
    "nuSQ.Set_Track(earth.MakeTrackWithCosine(-1))"
   ]
  },
  {
   "cell_type": "code",
   "execution_count": null,
   "metadata": {},
   "outputs": [],
   "source": [
    "nuSQ.Set_MixingParametersToDefault()\n",
    "nuSQ.Set_SquareMassDifference(3,1.)\n",
    "nuSQ.Set_MixingAngle(1,3,0.6)"
   ]
  },
  {
   "cell_type": "code",
   "execution_count": null,
   "metadata": {},
   "outputs": [],
   "source": [
    "N0 = 1.0e18\n",
    "Eflux = lambda E: N0*E**-2\n",
    "Einitial = (Eflux(np.array(nuSQ.GetERange())).reshape(E_nodes,1))*(np.array([0.,1.,0.,0.]).reshape(1,4))"
   ]
  },
  {
   "cell_type": "code",
   "execution_count": null,
   "metadata": {},
   "outputs": [],
   "source": [
    "nuSQ.Set_initial_state(Einitial,nsq.Basis.flavor)"
   ]
  },
  {
   "cell_type": "code",
   "execution_count": null,
   "metadata": {},
   "outputs": [],
   "source": [
    "nuSQ.Set_rel_error(1.0e-7)\n",
    "nuSQ.Set_abs_error(1.0e-7)"
   ]
  },
  {
   "cell_type": "code",
   "execution_count": null,
   "metadata": {},
   "outputs": [],
   "source": [
    "nuSQ.EvolveState()"
   ]
  },
  {
   "cell_type": "code",
   "execution_count": null,
   "metadata": {},
   "outputs": [],
   "source": [
    "e_range = np.logspace(0,2,400)\n",
    "\n",
    "nu_e = np.array([nuSQ.EvalFlavor(0,EE*units.GeV,0)\n",
    "                           for EE in e_range])\n",
    "nu_mu = np.array([nuSQ.EvalFlavor(1,EE*units.GeV,0)\n",
    "                           for EE in e_range])\n",
    "nu_tau = np.array([nuSQ.EvalFlavor(2,EE*units.GeV,0)\n",
    "                           for EE in e_range])\n",
    "\n",
    "total = nu_e + nu_mu + nu_tau"
   ]
  },
  {
   "cell_type": "code",
   "execution_count": null,
   "metadata": {},
   "outputs": [],
   "source": [
    "plt.figure(figsize = (8,6))\n",
    "\n",
    "plt.xlabel(r\"$E_\\nu [GeV]$\")\n",
    "plt.ylabel(r\"$\\phi_\\nu$\")\n",
    "\n",
    "plt.plot(e_range,nu_e, lw = 2, color = 'red', label = r\"$\\nu_e$\")\n",
    "plt.plot(e_range,nu_mu, lw = 2, color = 'blue', label = r\"$\\nu_\\mu$\")\n",
    "plt.plot(e_range,nu_tau, lw = 2, color = 'green', label = r\"$\\nu_\\tau$\")\n",
    "plt.plot(e_range,total, lw = 2, color = 'black', label = r\"Total\")\n",
    "plt.legend(fancybox = True, fontsize = 14)\n",
    "\n",
    "plt.ylim(1.0e-6,1.0)\n",
    "\n",
    "plt.loglog()"
   ]
  },
  {
   "cell_type": "markdown",
   "metadata": {},
   "source": [
    "# nuSQUIDS: Atmospheric Mode"
   ]
  },
  {
   "cell_type": "markdown",
   "metadata": {},
   "source": [
    "For the atmospheric mode we can use the same construction as the normal nusquids constructor, but add the list of cosine of zenith angles as the first argument. In this case we do not need to set the object, as the Earth is implicity, but we do need to set the initial flux."
   ]
  },
  {
   "cell_type": "code",
   "execution_count": null,
   "metadata": {},
   "outputs": [],
   "source": [
    "interactions = True\n",
    "\n",
    "E_min = 500.0*units.GeV\n",
    "E_max = 1.0*units.PeV\n",
    "E_nodes = 100\n",
    "energy_nodes = nsq.logspace(E_min,E_max,E_nodes)\n",
    "\n",
    "cth_min = -1.0\n",
    "cth_max = 0.1\n",
    "cth_nodes = 20\n",
    "cth_nodes = nsq.linspace(cth_min,cth_max,cth_nodes)\n",
    "\n",
    "neutrino_flavors = 3\n",
    "\n",
    "nsq_atm = nsq.nuSQUIDSAtm(cth_nodes,energy_nodes,neutrino_flavors,nsq.NeutrinoType.both,interactions)"
   ]
  },
  {
   "cell_type": "code",
   "execution_count": null,
   "metadata": {},
   "outputs": [],
   "source": [
    "N0 = 1.0e18; Power = -1.0\n",
    "Eflux = lambda E: N0*E**Power\n",
    "\n",
    "AtmInitialFlux = np.zeros((len(cth_nodes),len(energy_nodes),2,neutrino_flavors))\n",
    "for ic,cth in enumerate(nsq_atm.GetCosthRange()):\n",
    "    for ie,E in enumerate(nsq_atm.GetERange()):\n",
    "        AtmInitialFlux[ic][ie][0][0] = 0.0 # nue\n",
    "        AtmInitialFlux[ic][ie][1][0] = 0.0 # bar nue\n",
    "        AtmInitialFlux[ic][ie][0][1] = Eflux(E) # nu mu\n",
    "        AtmInitialFlux[ic][ie][1][1] = Eflux(E) # bar nu mu\n",
    "        AtmInitialFlux[ic][ie][0][2] = Eflux(E) # nu tau\n",
    "        AtmInitialFlux[ic][ie][1][2] = Eflux(E) # bar nu tau"
   ]
  },
  {
   "cell_type": "code",
   "execution_count": null,
   "metadata": {},
   "outputs": [],
   "source": [
    "nsq_atm.Set_initial_state(AtmInitialFlux,nsq.Basis.flavor)"
   ]
  },
  {
   "cell_type": "code",
   "execution_count": null,
   "metadata": {},
   "outputs": [],
   "source": [
    "nsq_atm.Set_ProgressBar(True) # progress bar will be printed on terminal"
   ]
  },
  {
   "cell_type": "code",
   "execution_count": null,
   "metadata": {},
   "outputs": [],
   "source": [
    "nsq_atm.Set_rel_error(1.0e-15)\n",
    "nsq_atm.Set_abs_error(1.0e-15)\n",
    "nsq_atm.EvolveState()"
   ]
  },
  {
   "cell_type": "code",
   "execution_count": null,
   "metadata": {},
   "outputs": [],
   "source": [
    "erange = nsq_atm.GetERange()\n",
    "neutype = 1\n",
    "phi_e = [nsq_atm.EvalFlavor(0,-0.5,EE,neutype) for EE in erange]\n",
    "phi_mu = [nsq_atm.EvalFlavor(1,-0.5,EE,neutype) for EE in erange]\n",
    "phi_tau = [nsq_atm.EvalFlavor(2,-0.5,EE,neutype) for EE in erange]"
   ]
  },
  {
   "cell_type": "code",
   "execution_count": null,
   "metadata": {},
   "outputs": [],
   "source": [
    "plt.figure(figsize = (6,6))\n",
    "\n",
    "plt.plot(erange,phi_e, lw = 2.5, color = \"blue\", label = r\"$\\nu_e$\")\n",
    "plt.plot(erange,phi_mu, lw = 2.5, color = \"red\", label = r\"$\\nu_\\mu$\")\n",
    "plt.plot(erange,phi_tau, lw = 2.5, color = \"green\", label = r\"$\\nu_\\tau$\")\n",
    "\n",
    "plt.loglog()\n",
    "\n",
    "plt.xlim(erange[0],erange[-1])\n",
    "plt.xlabel(r\"$E_\\nu [{\\rm GeV}]$\")\n",
    "plt.ylabel(r\"$\\phi^{atm}_\\nu (E_\\nu)$\")\n",
    "\n",
    "plt.grid()\n",
    "\n",
    "plt.legend(bbox_to_anchor=(1.05, 1), loc=2, fontsize = 14, fancybox = True)"
   ]
  },
  {
   "cell_type": "markdown",
   "metadata": {},
   "source": [
    "# References\n",
    "\n",
    "- <a id=\"CHM\">[1]</a> *M.C. Gonzalez-Garcia, F. Halzen, and M. Maltoni*, **Physics Reach of High-Energy and High-Statistics IceCube Atmospheric Neutrino Data**, Phys.Rev. D71 (2005) 093010. http://arxiv.org/abs/hep-ph/0502223\n",
    "- *C.A. Argüelles-Delgado, J. Salvado, and C. N. Weaver*, **SQuIDS: A Simple Quantum Integro Differential equation Solve.** On preparation.\n",
    "- *C.A. Argüelles-Delgado, J. Salvado, and C. N. Weaver*, **$\\nu$-SQuIDS: A tool box for neutrino oscillation experiments.** On preparation.\n",
    "- M. Galassi et al, GNU Scientific Library Reference Manual (3rd Ed.), ISBN 0954612078. http://www.gnu.org/software/gsl/"
   ]
  },
  {
   "cell_type": "code",
   "execution_count": null,
   "metadata": {},
   "outputs": [],
   "source": []
  },
  {
   "cell_type": "code",
   "execution_count": null,
   "metadata": {},
   "outputs": [],
   "source": []
  }
 ],
 "metadata": {
  "kernel_info": {
   "name": "python2"
  },
  "kernelspec": {
   "display_name": "Python 3 (ipykernel)",
   "language": "python",
   "name": "python3"
  },
  "language_info": {
   "codemirror_mode": {
    "name": "ipython",
    "version": 3
   },
   "file_extension": ".py",
   "mimetype": "text/x-python",
   "name": "python",
   "nbconvert_exporter": "python",
   "pygments_lexer": "ipython3",
   "version": "3.10.2"
  },
  "nteract": {
   "version": "0.2.0"
  }
 },
 "nbformat": 4,
 "nbformat_minor": 4
}
