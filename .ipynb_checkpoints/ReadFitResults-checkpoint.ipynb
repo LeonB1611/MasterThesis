{
 "cells": [
  {
   "cell_type": "markdown",
   "id": "77c2ebf0-63d3-467f-bf86-c7224f923731",
   "metadata": {},
   "source": [
    "\"\"\"Plot the nuisance parameter pulls of a given fit.\n",
    "\n",
    "This corresponds to step 2 of the blind fit plan.\n",
    "\"\"\"\n",
    "\n",
    "import numpy as np\n",
    "import matplotlib.pyplot as plt\n",
    "from matplotlib.backends.backend_pdf import PdfPages\n",
    "\n",
    "from analysis.oscnext_sterile.analysis.postprocessing import results_parsing\n",
    "\n",
    "\n",
    "def get_result(fit_dir):\n",
    "    metadata, best_fit_result = results_parsing.parse_fit_directory(fit_dir)\n",
    "\n",
    "    return best_fit_result[\"fit_result\"]\n",
    "\n",
    "\n",
    "def plot_parameter_pulls(hypo_fit_result):\n",
    "\n",
    "    param_tex = []\n",
    "    param_pulls = []\n",
    "\n",
    "    for param in hypo_fit_result.params.free:\n",
    "        if param.prior is None:\n",
    "            continue\n",
    "        if not param.prior.kind == \"gaussian\":\n",
    "            continue\n",
    "        param_tex.append(param.tex)\n",
    "        pull = (param.value - param.prior.mean) / param.prior.stddev\n",
    "        param_pulls.append(np.abs(pull).m)\n",
    "\n",
    "    n_params = len(param_pulls)\n",
    "\n",
    "    fig, ax = plt.subplots(figsize=(n_params / 2 + 0.5, 3.5), constrained_layout=True)\n",
    "\n",
    "    ax.stem(param_pulls, basefmt=\"g-\")\n",
    "    ax.grid()\n",
    "    ax.set_xticks(range(n_params))\n",
    "    ax.set_xticklabels(labels=[f\"${pt}$\" for pt in param_tex], rotation=60)\n",
    "    ax.set_ylabel(r\"abs. pull ($\\sigma$)\")\n",
    "\n",
    "    return fig\n",
    "\n",
    "\n",
    "def plot_dists_to_boundary(hypo_fit_result):\n",
    "    param_tex = []\n",
    "    param_dist_to_bound = []\n",
    "\n",
    "    for param in hypo_fit_result.params.free:\n",
    "        if param.name in [\"theta24\", \"theta34\"]:\n",
    "            continue\n",
    "        param_tex.append(param.tex)\n",
    "\n",
    "        tot_range = param.range[1] - param.range[0]\n",
    "\n",
    "        dist_upper = np.abs(param.value - param.range[1]) / tot_range\n",
    "        dist_lower = np.abs(param.value - param.range[0]) / tot_range\n",
    "\n",
    "        min_bound_dist = np.min([dist_upper.m, dist_lower.m])\n",
    "        param_dist_to_bound.append(min_bound_dist)\n",
    "\n",
    "    n_params = len(param_dist_to_bound)\n",
    "\n",
    "    fig, ax = plt.subplots(figsize=(n_params / 2 + 0.5, 3.5), constrained_layout=True)\n",
    "\n",
    "    ax.stem(param_dist_to_bound, basefmt=\"r-\")\n",
    "    ax.grid()\n",
    "    ax.set_xticks(range(n_params))\n",
    "    ax.set_xticklabels(labels=[f\"${pt}$\" for pt in param_tex], rotation=60)\n",
    "    ax.set_ylabel(\"abs. dist. to bound / range\")\n",
    "\n",
    "    return fig\n",
    "\n",
    "\n",
    "def main(args):\n",
    "    from utils.filesys_tools import replace_file_ext\n",
    "\n",
    "    hypo_fit_result = get_result(args.fit_dir)\n",
    "\n",
    "    if args.output_file is None:\n",
    "        output_file = replace_file_ext(__file__, \".pdf\")\n",
    "    else:\n",
    "        assert isinstance(\n",
    "            args.output_file, str\n",
    "        ), \"ERROR: output file must be a valid string\"\n",
    "        output_file = args.output_file\n",
    "\n",
    "    print(\"Plotting parameter pulls...\")\n",
    "    with PdfPages(output_file) as pdf:\n",
    "        fig = plot_parameter_pulls(hypo_fit_result)\n",
    "        pdf.savefig(fig)\n",
    "\n",
    "        fig = plot_dists_to_boundary(hypo_fit_result)\n",
    "        pdf.savefig(fig)\n",
    "\n",
    "\n",
    "if __name__ == \"__main__\":\n",
    "    import argparse, os\n",
    "\n",
    "    def expandpath(string):\n",
    "        \"\"\"Expand variables and the user `~` in a path and return the absolute path.\"\"\"\n",
    "        string = os.path.expandvars(string)\n",
    "        string = os.path.expanduser(string)\n",
    "        return os.path.abspath(string)\n",
    "\n",
    "    parser = argparse.ArgumentParser(\n",
    "        description=\"Plot nuisance parameter pulls of a given fit.\"\n",
    "    )\n",
    "\n",
    "    parser.add_argument(\n",
    "        \"--fit-dir\",\n",
    "        type=expandpath,\n",
    "        required=True,\n",
    "    )\n",
    "\n",
    "    parser.add_argument(\n",
    "        \"-of\",\n",
    "        \"--output-file\",\n",
    "        help=\"Name of the output pdf file where plots are saved\",\n",
    "        required=False,\n",
    "        default=None,\n",
    "    )\n",
    "\n",
    "    main(parser.parse_args())"
   ]
  },
  {
   "cell_type": "code",
   "execution_count": 1,
   "id": "ed44f6ed-6df1-4d92-981e-7c6802e89516",
   "metadata": {},
   "outputs": [
    {
     "name": "stderr",
     "output_type": "stream",
     "text": [
      "<< PISA is running in double precision (FP64) mode; numba is running on CPU (single core) >>\n"
     ]
    }
   ],
   "source": [
    "from pisa import ureg as units"
   ]
  },
  {
   "cell_type": "markdown",
   "id": "993e50c0-35a0-4d82-8a1d-4ea6450fa6ca",
   "metadata": {},
   "source": [
    "## Fit results and metric"
   ]
  },
  {
   "cell_type": "code",
   "execution_count": 2,
   "id": "81065d27-89c8-4a09-84b3-f93c8ec68a4f",
   "metadata": {},
   "outputs": [],
   "source": [
    "import numpy as np\n",
    "from pisa.utils.log import set_verbosity\n",
    "from analysis.oscnext_sterile.analysis.postprocessing import results_parsing\n",
    "from pisa.utils.fileio import from_file\n",
    "\n",
    "def replace_sterile_reparam_values(param_set_state):\n",
    "\n",
    "    param_names = [p[\"name\"] for p in param_set_state]\n",
    "    if \"sterile_r\" not in param_names:\n",
    "        return\n",
    "\n",
    "    idx = None\n",
    "\n",
    "    for i, param in enumerate(param_set_state):\n",
    "        if param[\"name\"] == \"sterile_r\":\n",
    "            idx = i\n",
    "    sterile_r = param_set_state[idx][\"value\"].m\n",
    "    is_fixed = param_set_state[idx][\"is_fixed\"]\n",
    "\n",
    "    del param_set_state[idx]\n",
    "\n",
    "    idx = None\n",
    "\n",
    "    for i, param in enumerate(param_set_state):\n",
    "        if param[\"name\"] == \"sterile_phi\":\n",
    "            idx = i\n",
    "    sterile_phi = param_set_state[idx][\"value\"].m_as(\"rad\")\n",
    "    del param_set_state[idx]\n",
    "\n",
    "    umu4 = sterile_r * np.sin(sterile_phi)\n",
    "    utau4 = sterile_r * np.cos(sterile_phi)\n",
    "\n",
    "    theta24 = {\n",
    "        \"name\": \"theta24\",\n",
    "        \"value\": np.arcsin(umu4) * ureg[\"rad\"],\n",
    "        \"range\": (0.0 * ureg[\"deg\"], 45 * ureg[\"deg\"]),\n",
    "        \"tex\": \"\\\\theta_{24}\",\n",
    "        \"prior\": None,\n",
    "        \"is_fixed\": is_fixed\n",
    "    }\n",
    "    theta34 = {\n",
    "        \"name\": \"theta34\",\n",
    "        \"value\": np.arcsin(utau4 / np.sqrt(1 - umu4 ** 2)) * ureg[\"rad\"],\n",
    "        \"range\": (0.0 * ureg[\"deg\"], 45 * ureg[\"deg\"]),\n",
    "        \"tex\": \"\\\\theta_{34}\",\n",
    "        \"prior\": None,\n",
    "        \"is_fixed\": is_fixed\n",
    "    }\n",
    "\n",
    "    param_set_state.extend([theta24, theta34])\n",
    "\n",
    "def parse_fit_result_dict(input_dict):\n",
    "    assert input_dict[\"function_name\"] == \"fit\", \"input dict is not a fit result\"\n",
    "\n",
    "    replace_sterile_reparam_values(input_dict[\"fit_result\"][\"params\"])\n",
    "\n",
    "    input_dict[\"fit_result\"] = HypoFitResult.from_state(input_dict[\"fit_result\"])\n",
    "    input_dict[\"data_dist\"] = MapSet(**input_dict[\"data_dist\"])\n",
    "\n",
    "    if \"truth_params\" in input_dict and input_dict[\"truth_params\"] is not None:\n",
    "        replace_sterile_reparam_values(input_dict[\"truth_params\"])\n",
    "        input_dict[\"truth_params\"] = ParamSet(input_dict[\"truth_params\"])\n",
    "\n",
    "    if \"template_params\" in input_dict and input_dict[\"template_params\"] is not None:\n",
    "        replace_sterile_reparam_values(input_dict[\"template_params\"])\n",
    "        input_dict[\"template_params\"] = ParamSet(input_dict[\"template_params\"])\n",
    "\n",
    "def angles2matelem(th24, th34):\n",
    "    u_mu4 = np.sin(th24) ** 2\n",
    "    u_tau4 = np.sin(th34) ** 2 * (1 - u_mu4)\n",
    "    return u_mu4, u_tau4\n",
    "\n",
    "def print_fit_result(fit_dir):\n",
    "\n",
    "    metadata, best_fit_result = results_parsing.parse_fit_directory(\n",
    "        fit_dir, reparse=True\n",
    "    )\n",
    "    hypo_fit_result = best_fit_result[\"fit_result\"]\n",
    "    params = hypo_fit_result.params\n",
    "\n",
    "#     print(\"\")\n",
    "#     print(\"Best fit parameters:\")\n",
    "#     print(repr(params))\n",
    "#     print(\"\")\n",
    "    for param in params.free:\n",
    "        magnitude = param.value.m\n",
    "        unit_str = \"\"\n",
    "        if param.u == \"degree\":\n",
    "            unit_str = r\"^\\circ\"\n",
    "        elif param.u == \"rad\":\n",
    "            magnitude = param.value.m_as(\"deg\")\n",
    "            unit_str = r\"^\\circ\"\n",
    "        elif param.u == \"electron_volt ** 2\":\n",
    "            magnitude *= 1e3\n",
    "            unit_str = r\"\\times 10^{-3}\\,\\text{eV}^2\"\n",
    "        if param.prior is not None and param.prior.kind == \"gaussian\":\n",
    "            pull = (param.value.m - param.nominal_value.m) / param.prior.stddev.m\n",
    "            print(f\"${param.tex:>25}$  &  ${magnitude:>10.3g}{unit_str:>10}$  &  {pull:.3f} $\\\\sigma$ \\\\\\\\\")\n",
    "        else:\n",
    "            print(f\"${param.tex:>25}$  &  ${magnitude:>10.3g}{unit_str:>10}$  &  \\\\\\\\\")\n",
    "\n",
    "    if \"theta23\" in params.free.names and \"deltam31\" in params.free.names:\n",
    "        print(\"std oscillation result:\")\n",
    "        print(f\"theta23: {params.theta23.value.m_as('deg')} deg, sin(theta23)^2= {np.sin(params.theta23.value.m_as('rad')) ** 2}\")\n",
    "        print(f\"deltam31: {params.deltam31.value}, deltam32= {params.deltam31.value - params.deltam21.value}\")\n",
    "\n",
    "    if \"theta24\" in params.free.names and \"theta34\" in params.free.names:\n",
    "        print(\"Sterile mixing amplitudes:\")\n",
    "        umu4, utau4 = angles2matelem(params.theta24.m_as(\"rad\"), params.theta34.m_as(\"rad\"))\n",
    "        print(f\"|U_mu4|^2 = {umu4}, |U_tau4|^2 = {utau4}\")"
   ]
  },
  {
   "cell_type": "code",
   "execution_count": 3,
   "id": "ae7ca400-f25d-4b6f-b5c8-5ee4e0fe339c",
   "metadata": {},
   "outputs": [],
   "source": [
    "fridge_dir = '/afs/ifh.de/user/b/buchholl/scratch/software/fridge_old/analysis'\n",
    "fit_dir = 'oscnext_sterile/sterile_analysis/verification_sample_output/REAL_DATA_FIT_v12_ext_holeice/sterile_mixing_angles/contour_scan/free-fit'"
   ]
  },
  {
   "cell_type": "code",
   "execution_count": 4,
   "id": "14829212-5bff-49a5-941e-b5020f196bcb",
   "metadata": {},
   "outputs": [],
   "source": [
    "import os"
   ]
  },
  {
   "cell_type": "code",
   "execution_count": 5,
   "id": "a77456f3-4431-403d-8471-ceb446b66895",
   "metadata": {},
   "outputs": [],
   "source": [
    "path = os.path.join(fridge_dir,fit_dir)"
   ]
  },
  {
   "cell_type": "code",
   "execution_count": 6,
   "id": "0fd3e4d0-ed27-457e-8eca-57dd92d7be4b",
   "metadata": {},
   "outputs": [],
   "source": [
    "from os import listdir\n",
    "from os.path import isfile, join\n",
    "onlyfiles = [f for f in listdir(path) if isfile(join(path, f))]"
   ]
  },
  {
   "cell_type": "code",
   "execution_count": 7,
   "id": "e2d603f7-1f57-4321-8897-4f8c3c66f22d",
   "metadata": {},
   "outputs": [
    {
     "data": {
      "text/plain": [
       "['metadata.json.bz2',\n",
       " 'fit-results-000004.json.bz2',\n",
       " 'fit-results-000003.json.bz2',\n",
       " 'fit-results-000002.json.bz2',\n",
       " 'fit-results-000000.json.bz2',\n",
       " 'fit-results-000007.json.bz2',\n",
       " 'fit-results-000006.json.bz2',\n",
       " 'fit-results-000005.json.bz2',\n",
       " 'fit-results-000001.json.bz2']"
      ]
     },
     "execution_count": 7,
     "metadata": {},
     "output_type": "execute_result"
    }
   ],
   "source": [
    "onlyfiles"
   ]
  },
  {
   "cell_type": "code",
   "execution_count": 8,
   "id": "f200a611-d6b8-4a09-bb04-cba441328eb7",
   "metadata": {},
   "outputs": [],
   "source": [
    "name = '/afs/ifh.de/user/b/buchholl/scratch/software/fridge/analysis/oscnext_sterile/sterile_analysis/verification_sample_output/REAL_DATA_FIT_v12_ext_holeice/sterile_mixing_angles/contour_scan/free-fit/fit-results-000000.json.bz2'"
   ]
  },
  {
   "cell_type": "code",
   "execution_count": 9,
   "id": "5ffe3519-e9f7-41c8-8154-f2ad87c1869c",
   "metadata": {},
   "outputs": [],
   "source": [
    "metadata, best_fit_result = results_parsing.parse_fit_directory(\n",
    "    path, reparse=True\n",
    ")"
   ]
  },
  {
   "cell_type": "code",
   "execution_count": 10,
   "id": "92ed5433-d475-4c4a-8a40-50ed16426e85",
   "metadata": {},
   "outputs": [
    {
     "name": "stdout",
     "output_type": "stream",
     "text": [
      "|u24|**2= 2.8610846700918226e-08 dimensionless\n",
      "|u24|**2= 0.0028593166226852512 dimensionless\n",
      "|u24|**2= 0.0037378235334760827 dimensionless\n",
      "|u24|**2= 0.004847895345749148 dimensionless\n",
      "|u24|**2= 9.355415862875599e-07 dimensionless\n",
      "|u24|**2= 0.024046814721055403 dimensionless\n",
      "|u24|**2= 0.003745483231145726 dimensionless\n",
      "|u24|**2= 0.004545535201686347 dimensionless\n"
     ]
    }
   ],
   "source": [
    "for f in metadata[\"output_files\"]:\n",
    "    result_dict = from_file(f)\n",
    "    r=result_dict[\"fit_result\"]['params'][18]['value']\n",
    "    phi=result_dict[\"fit_result\"]['params'][17]['value']\n",
    "    print(\"|u24|**2=\",(r*np.sin(phi))**2)"
   ]
  },
  {
   "cell_type": "code",
   "execution_count": 11,
   "id": "3b472779-75d4-4d09-bff1-2c3ebda966aa",
   "metadata": {},
   "outputs": [],
   "source": [
    "hypo_fit_result_free = best_fit_result[\"fit_result\"]\n",
    "params = hypo_fit_result_free.params\n",
    "metric = hypo_fit_result_free.metric_val"
   ]
  },
  {
   "cell_type": "code",
   "execution_count": 12,
   "id": "c5a7d884-f346-4ff8-bea7-bdf4253e4e10",
   "metadata": {},
   "outputs": [],
   "source": [
    "scanfit_dir = 'oscnext_sterile/sterile_analysis/verification_sample_output/REAL_DATA_FIT_v12_ext_holeice/sterile_mixing_angles/contour_scan/scan-point-fit-000000'\n",
    "scanfit_path = os.path.join(fridge_dir,scanfit_dir)"
   ]
  },
  {
   "cell_type": "code",
   "execution_count": 13,
   "id": "8bc79809-8afb-4cfb-8339-c735a1f77d4d",
   "metadata": {},
   "outputs": [],
   "source": [
    "metadata_000000, best_fit_result_000000 = results_parsing.parse_fit_directory(\n",
    "    scanfit_path, reparse=True\n",
    ")"
   ]
  },
  {
   "cell_type": "code",
   "execution_count": 14,
   "id": "76ce7dc7-ba8f-4d85-9441-44e224a676dd",
   "metadata": {},
   "outputs": [],
   "source": [
    "hypo_fit_result_000000 = best_fit_result_000000[\"fit_result\"]\n",
    "params_000000 = hypo_fit_result_000000.params\n",
    "metric_000000 = hypo_fit_result_000000.metric_val"
   ]
  },
  {
   "cell_type": "code",
   "execution_count": 15,
   "id": "74ded3b9-3f74-4192-b8b6-ec7dd65b5b65",
   "metadata": {},
   "outputs": [
    {
     "data": {
      "text/html": [
       "0.06747176627423195 radian"
      ],
      "text/latex": [
       "$0.06747176627423195\\ \\mathrm{radian}$"
      ],
      "text/plain": [
       "0.06747176627423195 <Unit('radian')>"
      ]
     },
     "execution_count": 15,
     "metadata": {},
     "output_type": "execute_result"
    }
   ],
   "source": [
    "params.free.theta24.value"
   ]
  },
  {
   "cell_type": "code",
   "execution_count": 16,
   "id": "25718624-6f3d-4772-a260-51d699d07c2c",
   "metadata": {},
   "outputs": [],
   "source": [
    "reference_fit_result_path = '/lustre/fs22/group/icecube/trettin/oscNext/sterile_analysis/verification_sample_output/REAL_DATA_FIT_v12_ext_holeice/sterile_mixing_angles/contour_scan/free-fit'"
   ]
  },
  {
   "cell_type": "code",
   "execution_count": 17,
   "id": "92a2d4f4-5df3-4ecf-a0a8-32988be092a7",
   "metadata": {},
   "outputs": [],
   "source": [
    "metadata_reference, best_fit_result_reference = results_parsing.parse_fit_directory(\n",
    "    reference_fit_result_path, reparse=True\n",
    ")"
   ]
  },
  {
   "cell_type": "code",
   "execution_count": 18,
   "id": "d91900c9-9ff9-4df2-8820-8522e408110c",
   "metadata": {},
   "outputs": [],
   "source": [
    "hypo_fit_result_reference = best_fit_result_reference[\"fit_result\"]\n",
    "params_reference = hypo_fit_result_reference.params\n",
    "metric_reference = hypo_fit_result_reference.metric_val"
   ]
  },
  {
   "cell_type": "code",
   "execution_count": 19,
   "id": "2f8f1ab8-bd84-476c-8bd3-88c4082b42e8",
   "metadata": {},
   "outputs": [
    {
     "name": "stdout",
     "output_type": "stream",
     "text": [
      "New result: 206.63290067546046 Old result: 206.63291356864147\n",
      "New VS Result is better by 1.2893181008166721e-05\n"
     ]
    }
   ],
   "source": [
    "print('New result:',metric,'Old result:',metric_reference)\n",
    "if metric_reference < metric:\n",
    "    print('Old VS Result is better by', -metric_reference+metric)\n",
    "elif metric==metric_reference:\n",
    "    print('Results are equal')\n",
    "else:\n",
    "    print('New VS Result is better by', -metric+metric_reference)"
   ]
  },
  {
   "cell_type": "code",
   "execution_count": 20,
   "id": "93e2f71d-c78a-404f-a298-eca8c312bb70",
   "metadata": {},
   "outputs": [],
   "source": [
    "injected_old_bfp_path = '/afs/ifh.de/user/b/buchholl/scratch/software/fridge/analysis/oscnext_sterile/sterile_analysis/verification_sample_output/REAL_DATA_FIT_v12_ext_holeice_init_bfp_at_old_bfp/sterile_mixing_angles/contour_scan/free-fit'"
   ]
  },
  {
   "cell_type": "code",
   "execution_count": 21,
   "id": "a23ada49-f46c-47e2-a3de-d74e7e03e610",
   "metadata": {},
   "outputs": [],
   "source": [
    "metadata_injected, best_fit_result_injected = results_parsing.parse_fit_directory(\n",
    "    injected_old_bfp_path, reparse=True\n",
    ")"
   ]
  },
  {
   "cell_type": "code",
   "execution_count": 22,
   "id": "8612036f-a9ba-4a92-a9e1-d7b33c2fcd3b",
   "metadata": {},
   "outputs": [],
   "source": [
    "hypo_fit_result_injected = best_fit_result_injected[\"fit_result\"]\n",
    "params_injected = hypo_fit_result_injected.params\n",
    "metric_injected = hypo_fit_result_injected.metric_val"
   ]
  },
  {
   "cell_type": "code",
   "execution_count": 23,
   "id": "a1e1cc6e-fece-4139-8f33-57fad75977da",
   "metadata": {},
   "outputs": [
    {
     "data": {
      "text/plain": [
       "(0.004486011209747412 <Unit('dimensionless')>,\n",
       " 0.0031303731550072797 <Unit('dimensionless')>)"
      ]
     },
     "execution_count": 23,
     "metadata": {},
     "output_type": "execute_result"
    }
   ],
   "source": [
    "U_24_sq_reference=np.sin(params_injected.free.theta24.value)**2\n",
    "U_34_sq_reference=np.cos(params_injected.free.theta24.value)**2*np.sin(params_injected.free.theta34.value)**2\n",
    "U_24_sq_reference, U_34_sq_reference"
   ]
  },
  {
   "cell_type": "code",
   "execution_count": 24,
   "id": "01b8d036-8c1f-49af-a2c9-9c46de7b16d2",
   "metadata": {},
   "outputs": [],
   "source": [
    "injected_old_bfp_path_old_ultras = '/afs/ifh.de/user/b/buchholl/scratch/software/fridge/analysis/oscnext_sterile/sterile_analysis/verification_sample_output/REAL_DATA_FIT_v12_ext_holeice_init_bfp_at_old_bfp_old_ultras/sterile_mixing_angles/contour_scan/free-fit'"
   ]
  },
  {
   "cell_type": "code",
   "execution_count": 25,
   "id": "a5a168c0-3ef5-42e1-82f1-3729105ac83d",
   "metadata": {},
   "outputs": [],
   "source": [
    "metadata_injected_old_ultras, best_fit_result_injected_old_ultras = results_parsing.parse_fit_directory(\n",
    "    injected_old_bfp_path_old_ultras, reparse=True\n",
    ")"
   ]
  },
  {
   "cell_type": "code",
   "execution_count": 26,
   "id": "51e3a3cb-f531-4417-ba75-9aab1b7c3b8b",
   "metadata": {},
   "outputs": [],
   "source": [
    "hypo_fit_result_injected_old_ultras = best_fit_result_injected_old_ultras[\"fit_result\"]\n",
    "params_injected_old_ultras = hypo_fit_result_injected_old_ultras.params\n",
    "metric_injected_old_ultras = hypo_fit_result_injected_old_ultras.metric_val"
   ]
  },
  {
   "cell_type": "code",
   "execution_count": 27,
   "id": "a55aa074-bf77-4cbf-8782-a3361a89bfd0",
   "metadata": {},
   "outputs": [
    {
     "data": {
      "text/plain": [
       "(206.63295890924184, 206.62921771942484, 0.0037411898169921187)"
      ]
     },
     "execution_count": 27,
     "metadata": {},
     "output_type": "execute_result"
    }
   ],
   "source": [
    "metric_injected_old_ultras,metric_injected,metric_injected_old_ultras-metric_injected"
   ]
  },
  {
   "cell_type": "code",
   "execution_count": 28,
   "id": "3fe22ef7-714c-4548-a8f5-7a56073e3a6b",
   "metadata": {},
   "outputs": [
    {
     "data": {
      "text/plain": [
       "-0.003695849216626357"
      ]
     },
     "execution_count": 28,
     "metadata": {},
     "output_type": "execute_result"
    }
   ],
   "source": [
    "metric_injected-metric_reference"
   ]
  },
  {
   "cell_type": "code",
   "execution_count": 29,
   "id": "f3ecda0c-1e87-45c8-b4c2-08c881ca9faa",
   "metadata": {},
   "outputs": [
    {
     "data": {
      "text/plain": [
       "-0.00368295603561819"
      ]
     },
     "execution_count": 29,
     "metadata": {},
     "output_type": "execute_result"
    }
   ],
   "source": [
    "metric_injected-metric"
   ]
  },
  {
   "cell_type": "code",
   "execution_count": 30,
   "id": "bea24d12-6c78-4657-b819-faea51645460",
   "metadata": {},
   "outputs": [
    {
     "data": {
      "text/plain": [
       "(206.63295890924184, 206.63291356864147)"
      ]
     },
     "execution_count": 30,
     "metadata": {},
     "output_type": "execute_result"
    }
   ],
   "source": [
    "metric_injected_old_ultras,metric_reference"
   ]
  },
  {
   "cell_type": "code",
   "execution_count": 31,
   "id": "bde8271f-11fa-4990-80a4-b5806b1ffc9b",
   "metadata": {},
   "outputs": [
    {
     "data": {
      "image/png": "[encoded data removed]",
      "text/plain": [
       "<Figure size 640x480 with 1 Axes>"
      ]
     },
     "metadata": {},
     "output_type": "display_data"
    }
   ],
   "source": [
    "import matplotlib.pyplot as plt\n",
    "plt.plot(range(4),[metric,metric_injected,metric_injected_old_ultras,metric_reference],ls='',marker='x')\n",
    "plt.xticks(ticks=range(4),labels=['free fit','reference bfp injected','reference bfp injected \\n+ reference ultrasurfaces','reference result'],rotation=45,fontsize=10)\n",
    "plt.ylabel(r'$\\chi^2_{mod}$')\n",
    "plt.grid()"
   ]
  },
  {
   "cell_type": "code",
   "execution_count": 32,
   "id": "2b35ddbd-c441-48bd-8599-d5a90ac484b0",
   "metadata": {},
   "outputs": [
    {
     "data": {
      "text/plain": [
       "-2.1942583871421926e-07"
      ]
     },
     "execution_count": 32,
     "metadata": {},
     "output_type": "execute_result"
    }
   ],
   "source": [
    "(metric_reference-metric_injected_old_ultras)/metric_reference"
   ]
  },
  {
   "cell_type": "code",
   "execution_count": 33,
   "id": "929fc48f-34e1-478e-a0b2-af202e1d91ff",
   "metadata": {},
   "outputs": [
    {
     "name": "stdout",
     "output_type": "stream",
     "text": [
      "delta_index\n",
      "barr_af_Pi\n",
      "barr_i_Pi\n",
      "barr_y_K\n",
      "deltacp24\n",
      "theta23\n",
      "deltam31\n",
      "Genie_Ma_QE\n",
      "Genie_Ma_RES\n",
      "dis_csms\n",
      "aeff_scale\n",
      "nu_nc_norm\n",
      "dom_eff\n",
      "hole_ice_p0\n",
      "hole_ice_p1\n",
      "ice_abs\n",
      "ice_scatter\n",
      "weight_scale\n",
      "theta24\n",
      "theta34\n"
     ]
    }
   ],
   "source": [
    "for par in params_reference.free:\n",
    "    print(par.name)"
   ]
  },
  {
   "cell_type": "markdown",
   "id": "ae126143-7acf-452b-a201-4757250302bc",
   "metadata": {},
   "source": [
    "/afs/ifh.de/user/b/buchholl/scratch/software/fridge_old/analysis/oscnext_sterile/sterile_analysis/verification_sample_output/REAL_DATA_FIT_v12_ext_holeice/sterile_mixing_angles/contour_scan/free-fit"
   ]
  },
  {
   "cell_type": "code",
   "execution_count": 34,
   "id": "a51cab3c-3117-4f9a-ab12-8528bb37288b",
   "metadata": {},
   "outputs": [],
   "source": [
    "def template_to_nominal(template):\n",
    "    for p in template.params.free:\n",
    "        p.value = p.nominal_value\n",
    "    return template\n",
    "\n",
    "def template_params_to_reference(template,ref_params,n=np.inf):\n",
    "    n=min(n,len(ref_params.free))\n",
    "    for pi in range(n):\n",
    "        template.params.free[n].value = ref_params.free[n].value\n",
    "    return template\n",
    "\n",
    "def neuconfigToTemplate(neucfg):\n",
    "    if type(neucfg)==list:\n",
    "        return DistributionMaker(neucfg)\n",
    "    else:\n",
    "        pipe = [neucfg]\n",
    "    template = DistributionMaker(pipe)\n",
    "\n",
    "    return template"
   ]
  },
  {
   "cell_type": "code",
   "execution_count": 35,
   "id": "fb654641-9539-4fbe-8b36-7aff23cc6ea6",
   "metadata": {},
   "outputs": [],
   "source": [
    "from pisa.core.distribution_maker import DistributionMaker\n",
    "\n",
    "pipepath = '/afs/ifh.de/user/b/buchholl/scratch/software/fridge/analysis/oscnext_sterile/settings/pipeline/'\n",
    "neu_cfg = pipepath+\"neutrinos_mixing_angles_ultrasurfaces_vs.cfg\"\n",
    "muon_cfg ='/afs/ifh.de/user/b/buchholl/scratch/software/fridge/analysis/oscnext_sterile/settings/pipeline/muons_kde_vs.cfg'\n",
    "vs_cfg = [neu_cfg,muon_cfg]"
   ]
  },
  {
   "cell_type": "code",
   "execution_count": 36,
   "id": "ba6d20db-991a-4ae1-b0c2-20bad0fae94e",
   "metadata": {},
   "outputs": [],
   "source": [
    "vs_template = neuconfigToTemplate(vs_cfg)"
   ]
  },
  {
   "cell_type": "code",
   "execution_count": 37,
   "id": "2ace301b-d045-4119-b8a8-62c366a84d3e",
   "metadata": {},
   "outputs": [],
   "source": [
    "def chi2_per_freeparam(template,ref_params):\n",
    "    paramnames = []\n",
    "    chi2s = []\n",
    "    \n",
    "    #SM Osc as Chi2_mod baseline\n",
    "    template.params.free.sterile_r.value = 0\n",
    "    template_to_nominal(template)\n",
    "    nominal_template = template.get_outputs(return_sum=True)\n",
    "\n",
    "    assert 'sterile_r' in template.params.free.names and 'theta24' in ref_params.names\n",
    "    \n",
    "    theta24 = ref_params.theta24.value\n",
    "    theta34 = ref_params.theta34.value\n",
    "    \n",
    "    u24_sq = np.sin(theta24)**2\n",
    "    u34_sq = np.cos(theta24)**2*np.sin(theta34)**2\n",
    "\n",
    "    sterile_r = np.sqrt(u24_sq+u34_sq)\n",
    "    sterile_phi = np.arctan(np.sqrt(u24_sq/u34_sq))\n",
    "    \n",
    "    template.params.free.sterile_r.value = sterile_r\n",
    "    template.params.free.sterile_phi.value = sterile_phi\n",
    "\n",
    "    #Sterile Osc as first Chi2_mod difference\n",
    "    base_osc_template = template.get_outputs(return_sum=True)\n",
    "    paramnames.append('Sterile Osc.')\n",
    "    chi2s.append(base_osc_template.metric_total(nominal_template,'mod_chi2'))\n",
    "\n",
    "    #Iterate through the other free parameters and switch to result from nominal\n",
    "    for pname in ref_params.free:\n",
    "        if pname.name in template.params.free.names:\n",
    "            template.params.free[pname.name].value = ref_params[pname.name].value\n",
    "            param_template = template.get_outputs(return_sum=True)\n",
    "            paramnames.append(pname.name)\n",
    "            chi2s.append(param_template.metric_total(nominal_template,'mod_chi2'))\n",
    "\n",
    "    #Reset Template\n",
    "    template_to_nominal(template)\n",
    "\n",
    "    return [paramnames,chi2s]"
   ]
  },
  {
   "cell_type": "code",
   "execution_count": 38,
   "id": "6d256b1d-5574-4129-975a-3d41754ed951",
   "metadata": {},
   "outputs": [],
   "source": [
    "pointnum = 314\n",
    "\n",
    "scanfit_test_dir = '/afs/ifh.de/user/b/buchholl/scratch/software/fridge/analysis/oscnext_sterile/sterile_analysis/verification_sample_output/REAL_DATA_FIT_v12_ext_holeice_init_bfp_at_old_bfp_old_ultras/sterile_mixing_angles/contour_scan/scan-point-fit-%06d' % pointnum\n",
    "scanfit_test_path = os.path.join(fridge_dir,scanfit_test_dir)\n",
    "\n",
    "metadata_test_point, best_fit_result_test_point = results_parsing.parse_fit_directory(\n",
    "    scanfit_test_path, reparse=True\n",
    ")\n",
    "\n",
    "params_test_point = best_fit_result_test_point['fit_result'].params\n",
    "params_test_point_th24 = best_fit_result_test_point['fit_result'].params.theta24\n",
    "params_test_point_th34 = best_fit_result_test_point['fit_result'].params.theta34"
   ]
  },
  {
   "cell_type": "code",
   "execution_count": 39,
   "id": "48285d09-ac42-4961-8e53-605588e1f67c",
   "metadata": {},
   "outputs": [
    {
     "name": "stdout",
     "output_type": "stream",
     "text": [
      "[ WARNING] /afs/ifh.de/group/amanda/scratch/buchholl/software/snuvenv/lib/python3.10/site-packages/numpy/lib/function_base.py:2385: UnitStrippedWarning: The unit of the quantity is stripped when downcasting to ndarray.\n",
      "  inputs = [asanyarray(a, dtype=object) for a in args]\n",
      "\n"
     ]
    }
   ],
   "source": [
    "vs_chi2_per_freeparam = chi2_per_freeparam(vs_template,params_test_point)"
   ]
  },
  {
   "cell_type": "code",
   "execution_count": 40,
   "id": "c7e81c1f-e12e-405a-a1d4-9bb09258192c",
   "metadata": {},
   "outputs": [
    {
     "data": {
      "text/plain": [
       "'\\n Fit point $\\\\chi^2_{mod}$=248.33'"
      ]
     },
     "execution_count": 40,
     "metadata": {},
     "output_type": "execute_result"
    }
   ],
   "source": [
    "'\\n Fit point $\\chi^2_{mod}$=%0.2f' % best_fit_result_test_point['fit_result'].metric_val"
   ]
  },
  {
   "cell_type": "code",
   "execution_count": 41,
   "id": "00750be3-b890-4770-9d69-d24d2c511d09",
   "metadata": {},
   "outputs": [
    {
     "data": {
      "text/plain": [
       "Text(0.5, 1.0, '$\\\\chi^2_{mod}$ (vs null) change per free parameter from nominal to fit result \\nat $\\\\Theta_{24}=15.57^{\\\\circ},\\\\Theta_{34}=16.71^{\\\\circ}$, fit point $\\\\chi^2_{mod}$=248.33')"
      ]
     },
     "execution_count": 41,
     "metadata": {},
     "output_type": "execute_result"
    },
    {
     "data": {
      "image/png": "[encoded data removed]",
      "text/plain": [
       "<Figure size 800x600 with 1 Axes>"
      ]
     },
     "metadata": {},
     "output_type": "display_data"
    }
   ],
   "source": [
    "plt.figure(figsize=(8,6))\n",
    "plt.bar(vs_chi2_per_freeparam[0],vs_chi2_per_freeparam[1])\n",
    "plt.xticks(rotation=45)\n",
    "plt.ylabel(r'$\\chi^2_{mod}$')\n",
    "plt.title(r'$\\chi^2_{mod}$ (vs null) change per free parameter from nominal to fit result '+'\\nat '+'$\\Theta_{24}=%0.2f^{\\circ},\\Theta_{34}=%0.2f^{\\circ}$'%\n",
    "          (np.rad2deg(float(params_test_point_th24.value)),np.rad2deg(float(params_test_point_th34.value)))+\n",
    "          r', fit point $\\chi^2_{mod}$=%0.2f' % best_fit_result_test_point['fit_result'].metric_val)"
   ]
  },
  {
   "cell_type": "code",
   "execution_count": 42,
   "id": "0608492c-4466-45b7-a683-508aca82cbfe",
   "metadata": {
    "scrolled": true
   },
   "outputs": [
    {
     "data": {
      "text/html": [
       "<table>\n",
       "<thead>\n",
       "<tr><th style=\"text-align: right;\">        name</th><th style=\"text-align: center;\">  value   </th><th style=\"text-align: center;\"> nominal_value </th><th style=\"text-align: center;\">                   range                   </th><th style=\"text-align: center;\"> prior  </th><th style=\"text-align: center;\">      units       </th><th style=\"text-align: center;\"> is_fixed </th></tr>\n",
       "</thead>\n",
       "<tbody>\n",
       "<tr><td style=\"text-align: right;\"> delta_index</td><td style=\"text-align: center;\"> 0.131749 </td><td style=\"text-align: center;\">       0       </td><td style=\"text-align: center;\">[-0.30000000000000004, 0.30000000000000004]</td><td style=\"text-align: center;\">+/- 0.1 </td><td style=\"text-align: center;\">  dimensionless   </td><td style=\"text-align: center;\">  False   </td></tr>\n",
       "<tr><td style=\"text-align: right;\">  barr_af_Pi</td><td style=\"text-align: center;\"> 0.252721 </td><td style=\"text-align: center;\">       0       </td><td style=\"text-align: center;\"> [-1.8900000000000001, 1.8900000000000001] </td><td style=\"text-align: center;\">+/- 0.63</td><td style=\"text-align: center;\">  dimensionless   </td><td style=\"text-align: center;\">  False   </td></tr>\n",
       "<tr><td style=\"text-align: right;\">   barr_i_Pi</td><td style=\"text-align: center;\">0.00942155</td><td style=\"text-align: center;\">       0       </td><td style=\"text-align: center;\">               [-1.83, 1.83]               </td><td style=\"text-align: center;\">+/- 0.61</td><td style=\"text-align: center;\">  dimensionless   </td><td style=\"text-align: center;\">  False   </td></tr>\n",
       "<tr><td style=\"text-align: right;\">    barr_y_K</td><td style=\"text-align: center;\"> 0.406875 </td><td style=\"text-align: center;\">       0       </td><td style=\"text-align: center;\"> [-0.8999999999999999, 0.8999999999999999] </td><td style=\"text-align: center;\">+/- 0.3 </td><td style=\"text-align: center;\">  dimensionless   </td><td style=\"text-align: center;\">  False   </td></tr>\n",
       "<tr><td style=\"text-align: right;\">   deltacp24</td><td style=\"text-align: center;\">  126.01  </td><td style=\"text-align: center;\">      90       </td><td style=\"text-align: center;\">                 [0, 180]                  </td><td style=\"text-align: center;\">uniform </td><td style=\"text-align: center;\">      degree      </td><td style=\"text-align: center;\">  False   </td></tr>\n",
       "<tr><td style=\"text-align: right;\">     theta23</td><td style=\"text-align: center;\"> 45.7093  </td><td style=\"text-align: center;\">     49.7      </td><td style=\"text-align: center;\">                 [20, 70]                  </td><td style=\"text-align: center;\">        </td><td style=\"text-align: center;\">      degree      </td><td style=\"text-align: center;\">  False   </td></tr>\n",
       "<tr><td style=\"text-align: right;\">    deltam31</td><td style=\"text-align: center;\">0.00260911</td><td style=\"text-align: center;\">   0.002525    </td><td style=\"text-align: center;\">              [0.002, 0.003]               </td><td style=\"text-align: center;\">        </td><td style=\"text-align: center;\">electron_volt ** 2</td><td style=\"text-align: center;\">  False   </td></tr>\n",
       "<tr><td style=\"text-align: right;\"> Genie_Ma_QE</td><td style=\"text-align: center;\">-0.148469 </td><td style=\"text-align: center;\">       0       </td><td style=\"text-align: center;\">                [-2.0, 2.0]                </td><td style=\"text-align: center;\">+/- 1.0 </td><td style=\"text-align: center;\">  dimensionless   </td><td style=\"text-align: center;\">  False   </td></tr>\n",
       "<tr><td style=\"text-align: right;\">Genie_Ma_RES</td><td style=\"text-align: center;\">0.0567883 </td><td style=\"text-align: center;\">       0       </td><td style=\"text-align: center;\">                [-2.0, 2.0]                </td><td style=\"text-align: center;\">+/- 1.0 </td><td style=\"text-align: center;\">  dimensionless   </td><td style=\"text-align: center;\">  False   </td></tr>\n",
       "<tr><td style=\"text-align: right;\">    dis_csms</td><td style=\"text-align: center;\">-0.0157562</td><td style=\"text-align: center;\">       0       </td><td style=\"text-align: center;\">                [-3.0, 3.0]                </td><td style=\"text-align: center;\">+/- 1.0 </td><td style=\"text-align: center;\">  dimensionless   </td><td style=\"text-align: center;\">  False   </td></tr>\n",
       "<tr><td style=\"text-align: right;\">  aeff_scale</td><td style=\"text-align: center;\"> 0.835559 </td><td style=\"text-align: center;\">       1       </td><td style=\"text-align: center;\">                [0.5, 2.0]                 </td><td style=\"text-align: center;\">uniform </td><td style=\"text-align: center;\">  dimensionless   </td><td style=\"text-align: center;\">  False   </td></tr>\n",
       "<tr><td style=\"text-align: right;\">  nu_nc_norm</td><td style=\"text-align: center;\"> 0.840535 </td><td style=\"text-align: center;\">       1       </td><td style=\"text-align: center;\">                [0.5, 1.5]                 </td><td style=\"text-align: center;\">+/- 0.2 </td><td style=\"text-align: center;\">  dimensionless   </td><td style=\"text-align: center;\">  False   </td></tr>\n",
       "<tr><td style=\"text-align: right;\">     dom_eff</td><td style=\"text-align: center;\"> 1.10632  </td><td style=\"text-align: center;\">       1       </td><td style=\"text-align: center;\">               [0.85, 1.15]                </td><td style=\"text-align: center;\">+/- 0.1 </td><td style=\"text-align: center;\">  dimensionless   </td><td style=\"text-align: center;\">  False   </td></tr>\n",
       "<tr><td style=\"text-align: right;\"> hole_ice_p0</td><td style=\"text-align: center;\"> -0.58852 </td><td style=\"text-align: center;\">   0.101569    </td><td style=\"text-align: center;\">                [-1.1, 0.5]                </td><td style=\"text-align: center;\">uniform </td><td style=\"text-align: center;\">  dimensionless   </td><td style=\"text-align: center;\">  False   </td></tr>\n",
       "<tr><td style=\"text-align: right;\"> hole_ice_p1</td><td style=\"text-align: center;\">0.0272304 </td><td style=\"text-align: center;\">   -0.049344   </td><td style=\"text-align: center;\">               [-0.15, 0.1]                </td><td style=\"text-align: center;\">uniform </td><td style=\"text-align: center;\">  dimensionless   </td><td style=\"text-align: center;\">  False   </td></tr>\n",
       "<tr><td style=\"text-align: right;\">     ice_abs</td><td style=\"text-align: center;\"> 0.995904 </td><td style=\"text-align: center;\">       1       </td><td style=\"text-align: center;\">               [0.85, 1.15]                </td><td style=\"text-align: center;\">+/- 0.05</td><td style=\"text-align: center;\">  dimensionless   </td><td style=\"text-align: center;\">  False   </td></tr>\n",
       "<tr><td style=\"text-align: right;\"> ice_scatter</td><td style=\"text-align: center;\"> 0.884585 </td><td style=\"text-align: center;\">     1.05      </td><td style=\"text-align: center;\">               [0.85, 1.15]                </td><td style=\"text-align: center;\">+/- 0.1 </td><td style=\"text-align: center;\">  dimensionless   </td><td style=\"text-align: center;\">  False   </td></tr>\n",
       "<tr><td style=\"text-align: right;\">weight_scale</td><td style=\"text-align: center;\"> 1.22016  </td><td style=\"text-align: center;\">       1       </td><td style=\"text-align: center;\">                  [0, 3]                   </td><td style=\"text-align: center;\">uniform </td><td style=\"text-align: center;\">  dimensionless   </td><td style=\"text-align: center;\">  False   </td></tr>\n",
       "</tbody>\n",
       "</table>"
      ],
      "text/plain": [
       "         name |   value    |  nominal_value  |                    range                    |  prior   |       units        |  is_fixed\n",
       "--------------+------------+-----------------+---------------------------------------------+----------+--------------------+------------\n",
       "  delta_index |  0.131749  |        0        | [-0.30000000000000004, 0.30000000000000004] | +/- 0.1  |   dimensionless    |   False\n",
       "   barr_af_Pi |  0.252721  |        0        |  [-1.8900000000000001, 1.8900000000000001]  | +/- 0.63 |   dimensionless    |   False\n",
       "    barr_i_Pi | 0.00942155 |        0        |                [-1.83, 1.83]                | +/- 0.61 |   dimensionless    |   False\n",
       "     barr_y_K |  0.406875  |        0        |  [-0.8999999999999999, 0.8999999999999999]  | +/- 0.3  |   dimensionless    |   False\n",
       "    deltacp24 |   126.01   |       90        |                  [0, 180]                   | uniform  |       degree       |   False\n",
       "      theta23 |  45.7093   |      49.7       |                  [20, 70]                   |          |       degree       |   False\n",
       "     deltam31 | 0.00260911 |    0.002525     |               [0.002, 0.003]                |          | electron_volt ** 2 |   False\n",
       "  Genie_Ma_QE | -0.148469  |        0        |                 [-2.0, 2.0]                 | +/- 1.0  |   dimensionless    |   False\n",
       " Genie_Ma_RES | 0.0567883  |        0        |                 [-2.0, 2.0]                 | +/- 1.0  |   dimensionless    |   False\n",
       "     dis_csms | -0.0157562 |        0        |                 [-3.0, 3.0]                 | +/- 1.0  |   dimensionless    |   False\n",
       "   aeff_scale |  0.835559  |        1        |                 [0.5, 2.0]                  | uniform  |   dimensionless    |   False\n",
       "   nu_nc_norm |  0.840535  |        1        |                 [0.5, 1.5]                  | +/- 0.2  |   dimensionless    |   False\n",
       "      dom_eff |  1.10632   |        1        |                [0.85, 1.15]                 | +/- 0.1  |   dimensionless    |   False\n",
       "  hole_ice_p0 |  -0.58852  |    0.101569     |                 [-1.1, 0.5]                 | uniform  |   dimensionless    |   False\n",
       "  hole_ice_p1 | 0.0272304  |    -0.049344    |                [-0.15, 0.1]                 | uniform  |   dimensionless    |   False\n",
       "      ice_abs |  0.995904  |        1        |                [0.85, 1.15]                 | +/- 0.05 |   dimensionless    |   False\n",
       "  ice_scatter |  0.884585  |      1.05       |                [0.85, 1.15]                 | +/- 0.1  |   dimensionless    |   False\n",
       " weight_scale |  1.22016   |        1        |                   [0, 3]                    | uniform  |   dimensionless    |   False"
      ]
     },
     "execution_count": 42,
     "metadata": {},
     "output_type": "execute_result"
    }
   ],
   "source": [
    "params_test_point.free"
   ]
  },
  {
   "cell_type": "code",
   "execution_count": 43,
   "id": "629722dd-7068-4f80-9f2d-9c3f2dd95cc1",
   "metadata": {},
   "outputs": [
    {
     "data": {
      "text/html": [
       "<table>\n",
       "<thead>\n",
       "<tr><th style=\"text-align: right;\">         name</th><th style=\"text-align: center;\">             value             </th><th style=\"text-align: center;\">         nominal_value         </th><th style=\"text-align: center;\">                   range                   </th><th style=\"text-align: center;\"> prior  </th><th style=\"text-align: center;\">      units       </th><th style=\"text-align: center;\"> is_fixed </th></tr>\n",
       "</thead>\n",
       "<tbody>\n",
       "<tr><td style=\"text-align: right;\">   flux_table</td><td style=\"text-align: center;\">flux/honda-2015-spl-solmin-aa.d</td><td style=\"text-align: center;\">flux/honda-2015-spl-solmin-aa.d</td><td style=\"text-align: center;\">                                           </td><td style=\"text-align: center;\">        </td><td style=\"text-align: center;\">  dimensionless   </td><td style=\"text-align: center;\">   True   </td></tr>\n",
       "<tr><td style=\"text-align: right;\"> energy_pivot</td><td style=\"text-align: center;\">         24.0900951261         </td><td style=\"text-align: center;\">         24.0900951261         </td><td style=\"text-align: center;\">                                           </td><td style=\"text-align: center;\">        </td><td style=\"text-align: center;\">gigaelectron_volt </td><td style=\"text-align: center;\">   True   </td></tr>\n",
       "<tr><td style=\"text-align: right;\">  delta_index</td><td style=\"text-align: center;\">              0.0              </td><td style=\"text-align: center;\">              0.0              </td><td style=\"text-align: center;\">[-0.30000000000000004, 0.30000000000000004]</td><td style=\"text-align: center;\">+/- 0.1 </td><td style=\"text-align: center;\">  dimensionless   </td><td style=\"text-align: center;\">  False   </td></tr>\n",
       "<tr><td style=\"text-align: right;\">   pion_ratio</td><td style=\"text-align: center;\">              0.0              </td><td style=\"text-align: center;\">              0.0              </td><td style=\"text-align: center;\">[-0.15000000000000002, 0.15000000000000002]</td><td style=\"text-align: center;\">+/- 0.05</td><td style=\"text-align: center;\">  dimensionless   </td><td style=\"text-align: center;\">   True   </td></tr>\n",
       "<tr><td style=\"text-align: right;\">   barr_af_Pi</td><td style=\"text-align: center;\">              0.0              </td><td style=\"text-align: center;\">              0.0              </td><td style=\"text-align: center;\"> [-1.8900000000000001, 1.8900000000000001] </td><td style=\"text-align: center;\">+/- 0.63</td><td style=\"text-align: center;\">  dimensionless   </td><td style=\"text-align: center;\">  False   </td></tr>\n",
       "<tr><td style=\"text-align: right;\">    barr_g_Pi</td><td style=\"text-align: center;\">              0.0              </td><td style=\"text-align: center;\">              0.0              </td><td style=\"text-align: center;\"> [-0.8999999999999999, 0.8999999999999999] </td><td style=\"text-align: center;\">+/- 0.3 </td><td style=\"text-align: center;\">  dimensionless   </td><td style=\"text-align: center;\">   True   </td></tr>\n",
       "<tr><td style=\"text-align: right;\">    barr_h_Pi</td><td style=\"text-align: center;\">              0.0              </td><td style=\"text-align: center;\">              0.0              </td><td style=\"text-align: center;\">[-0.44999999999999996, 0.44999999999999996]</td><td style=\"text-align: center;\">+/- 0.15</td><td style=\"text-align: center;\">  dimensionless   </td><td style=\"text-align: center;\">   True   </td></tr>\n",
       "<tr><td style=\"text-align: right;\">    barr_i_Pi</td><td style=\"text-align: center;\">              0.0              </td><td style=\"text-align: center;\">              0.0              </td><td style=\"text-align: center;\">               [-1.83, 1.83]               </td><td style=\"text-align: center;\">+/- 0.61</td><td style=\"text-align: center;\">  dimensionless   </td><td style=\"text-align: center;\">  False   </td></tr>\n",
       "<tr><td style=\"text-align: right;\">     barr_w_K</td><td style=\"text-align: center;\">              0.0              </td><td style=\"text-align: center;\">              0.0              </td><td style=\"text-align: center;\"> [-1.2000000000000002, 1.2000000000000002] </td><td style=\"text-align: center;\">+/- 0.4 </td><td style=\"text-align: center;\">  dimensionless   </td><td style=\"text-align: center;\">   True   </td></tr>\n",
       "<tr><td style=\"text-align: right;\">     barr_x_K</td><td style=\"text-align: center;\">              0.0              </td><td style=\"text-align: center;\">              0.0              </td><td style=\"text-align: center;\">[-0.30000000000000004, 0.30000000000000004]</td><td style=\"text-align: center;\">+/- 0.1 </td><td style=\"text-align: center;\">  dimensionless   </td><td style=\"text-align: center;\">   True   </td></tr>\n",
       "<tr><td style=\"text-align: right;\">     barr_y_K</td><td style=\"text-align: center;\">              0.0              </td><td style=\"text-align: center;\">              0.0              </td><td style=\"text-align: center;\"> [-0.8999999999999999, 0.8999999999999999] </td><td style=\"text-align: center;\">+/- 0.3 </td><td style=\"text-align: center;\">  dimensionless   </td><td style=\"text-align: center;\">  False   </td></tr>\n",
       "<tr><td style=\"text-align: right;\">     barr_z_K</td><td style=\"text-align: center;\">              0.0              </td><td style=\"text-align: center;\">              0.0              </td><td style=\"text-align: center;\">               [-1.83, 1.83]               </td><td style=\"text-align: center;\">+/- 0.61</td><td style=\"text-align: center;\">  dimensionless   </td><td style=\"text-align: center;\">   True   </td></tr>\n",
       "<tr><td style=\"text-align: right;\"> barr_w_antiK</td><td style=\"text-align: center;\">              0.0              </td><td style=\"text-align: center;\">              0.0              </td><td style=\"text-align: center;\"> [-1.2000000000000002, 1.2000000000000002] </td><td style=\"text-align: center;\">+/- 0.4 </td><td style=\"text-align: center;\">  dimensionless   </td><td style=\"text-align: center;\">   True   </td></tr>\n",
       "<tr><td style=\"text-align: right;\"> barr_x_antiK</td><td style=\"text-align: center;\">              0.0              </td><td style=\"text-align: center;\">              0.0              </td><td style=\"text-align: center;\">[-0.30000000000000004, 0.30000000000000004]</td><td style=\"text-align: center;\">+/- 0.1 </td><td style=\"text-align: center;\">  dimensionless   </td><td style=\"text-align: center;\">   True   </td></tr>\n",
       "<tr><td style=\"text-align: right;\"> barr_y_antiK</td><td style=\"text-align: center;\">              0.0              </td><td style=\"text-align: center;\">              0.0              </td><td style=\"text-align: center;\"> [-0.8999999999999999, 0.8999999999999999] </td><td style=\"text-align: center;\">+/- 0.3 </td><td style=\"text-align: center;\">  dimensionless   </td><td style=\"text-align: center;\">   True   </td></tr>\n",
       "<tr><td style=\"text-align: right;\"> barr_z_antiK</td><td style=\"text-align: center;\">              0.0              </td><td style=\"text-align: center;\">              0.0              </td><td style=\"text-align: center;\">               [-1.83, 1.83]               </td><td style=\"text-align: center;\">+/- 0.61</td><td style=\"text-align: center;\">  dimensionless   </td><td style=\"text-align: center;\">   True   </td></tr>\n",
       "<tr><td style=\"text-align: right;\">      theta14</td><td style=\"text-align: center;\">              0.0              </td><td style=\"text-align: center;\">              0.0              </td><td style=\"text-align: center;\">                  [0, 4]                   </td><td style=\"text-align: center;\">        </td><td style=\"text-align: center;\">      degree      </td><td style=\"text-align: center;\">   True   </td></tr>\n",
       "<tr><td style=\"text-align: right;\">  sterile_phi</td><td style=\"text-align: center;\">             45.0              </td><td style=\"text-align: center;\">             45.0              </td><td style=\"text-align: center;\">                  [0, 90]                  </td><td style=\"text-align: center;\">        </td><td style=\"text-align: center;\">      degree      </td><td style=\"text-align: center;\">  False   </td></tr>\n",
       "<tr><td style=\"text-align: right;\">    sterile_r</td><td style=\"text-align: center;\">              0.0              </td><td style=\"text-align: center;\">              0.0              </td><td style=\"text-align: center;\">                [0.0, 0.85]                </td><td style=\"text-align: center;\">        </td><td style=\"text-align: center;\">  dimensionless   </td><td style=\"text-align: center;\">  False   </td></tr>\n",
       "<tr><td style=\"text-align: right;\">     deltam41</td><td style=\"text-align: center;\">              1.0              </td><td style=\"text-align: center;\">              1.0              </td><td style=\"text-align: center;\">                [0.01, 1.0]                </td><td style=\"text-align: center;\">        </td><td style=\"text-align: center;\">electron_volt ** 2</td><td style=\"text-align: center;\">   True   </td></tr>\n",
       "<tr><td style=\"text-align: right;\">    deltacp14</td><td style=\"text-align: center;\">              0.0              </td><td style=\"text-align: center;\">              0.0              </td><td style=\"text-align: center;\">                 [0, 360]                  </td><td style=\"text-align: center;\">        </td><td style=\"text-align: center;\">      degree      </td><td style=\"text-align: center;\">   True   </td></tr>\n",
       "<tr><td style=\"text-align: right;\">    deltacp24</td><td style=\"text-align: center;\">             90.0              </td><td style=\"text-align: center;\">             90.0              </td><td style=\"text-align: center;\">                 [0, 180]                  </td><td style=\"text-align: center;\">uniform </td><td style=\"text-align: center;\">      degree      </td><td style=\"text-align: center;\">  False   </td></tr>\n",
       "<tr><td style=\"text-align: right;\">      theta12</td><td style=\"text-align: center;\">             33.82             </td><td style=\"text-align: center;\">             33.82             </td><td style=\"text-align: center;\">                                           </td><td style=\"text-align: center;\">        </td><td style=\"text-align: center;\">      degree      </td><td style=\"text-align: center;\">   True   </td></tr>\n",
       "<tr><td style=\"text-align: right;\">      theta13</td><td style=\"text-align: center;\">             8.61              </td><td style=\"text-align: center;\">             8.61              </td><td style=\"text-align: center;\">               [8.22, 8.98]                </td><td style=\"text-align: center;\">+/- 0.13</td><td style=\"text-align: center;\">      degree      </td><td style=\"text-align: center;\">   True   </td></tr>\n",
       "<tr><td style=\"text-align: right;\">      theta23</td><td style=\"text-align: center;\">             49.7              </td><td style=\"text-align: center;\">             49.7              </td><td style=\"text-align: center;\">                 [20, 70]                  </td><td style=\"text-align: center;\">        </td><td style=\"text-align: center;\">      degree      </td><td style=\"text-align: center;\">  False   </td></tr>\n",
       "<tr><td style=\"text-align: right;\">      deltacp</td><td style=\"text-align: center;\">              0.0              </td><td style=\"text-align: center;\">              0.0              </td><td style=\"text-align: center;\">               [0.0, 360.0]                </td><td style=\"text-align: center;\">uniform </td><td style=\"text-align: center;\">      degree      </td><td style=\"text-align: center;\">   True   </td></tr>\n",
       "<tr><td style=\"text-align: right;\">     deltam21</td><td style=\"text-align: center;\">           7.39e-05            </td><td style=\"text-align: center;\">           7.39e-05            </td><td style=\"text-align: center;\">                                           </td><td style=\"text-align: center;\">        </td><td style=\"text-align: center;\">electron_volt ** 2</td><td style=\"text-align: center;\">   True   </td></tr>\n",
       "<tr><td style=\"text-align: right;\">     deltam31</td><td style=\"text-align: center;\">           0.002525            </td><td style=\"text-align: center;\">           0.002525            </td><td style=\"text-align: center;\">              [0.002, 0.003]               </td><td style=\"text-align: center;\">        </td><td style=\"text-align: center;\">electron_volt ** 2</td><td style=\"text-align: center;\">  False   </td></tr>\n",
       "<tr><td style=\"text-align: right;\">  Genie_Ma_QE</td><td style=\"text-align: center;\">              0.0              </td><td style=\"text-align: center;\">              0.0              </td><td style=\"text-align: center;\">                [-2.0, 2.0]                </td><td style=\"text-align: center;\">+/- 1.0 </td><td style=\"text-align: center;\">  dimensionless   </td><td style=\"text-align: center;\">  False   </td></tr>\n",
       "<tr><td style=\"text-align: right;\"> Genie_Ma_RES</td><td style=\"text-align: center;\">              0.0              </td><td style=\"text-align: center;\">              0.0              </td><td style=\"text-align: center;\">                [-2.0, 2.0]                </td><td style=\"text-align: center;\">+/- 1.0 </td><td style=\"text-align: center;\">  dimensionless   </td><td style=\"text-align: center;\">  False   </td></tr>\n",
       "<tr><td style=\"text-align: right;\">     dis_csms</td><td style=\"text-align: center;\">              0.0              </td><td style=\"text-align: center;\">              0.0              </td><td style=\"text-align: center;\">                [-3.0, 3.0]                </td><td style=\"text-align: center;\">+/- 1.0 </td><td style=\"text-align: center;\">  dimensionless   </td><td style=\"text-align: center;\">  False   </td></tr>\n",
       "<tr><td style=\"text-align: right;\">     livetime</td><td style=\"text-align: center;\">              7.5              </td><td style=\"text-align: center;\">              7.5              </td><td style=\"text-align: center;\">                                           </td><td style=\"text-align: center;\">        </td><td style=\"text-align: center;\">   common_year    </td><td style=\"text-align: center;\">   True   </td></tr>\n",
       "<tr><td style=\"text-align: right;\">   aeff_scale</td><td style=\"text-align: center;\">              1.0              </td><td style=\"text-align: center;\">              1.0              </td><td style=\"text-align: center;\">                [0.5, 2.0]                 </td><td style=\"text-align: center;\">uniform </td><td style=\"text-align: center;\">  dimensionless   </td><td style=\"text-align: center;\">  False   </td></tr>\n",
       "<tr><td style=\"text-align: right;\">nutau_cc_norm</td><td style=\"text-align: center;\">              1.0              </td><td style=\"text-align: center;\">              1.0              </td><td style=\"text-align: center;\">                [0.2, 2.0]                 </td><td style=\"text-align: center;\">uniform </td><td style=\"text-align: center;\">  dimensionless   </td><td style=\"text-align: center;\">   True   </td></tr>\n",
       "<tr><td style=\"text-align: right;\">   nutau_norm</td><td style=\"text-align: center;\">              1.0              </td><td style=\"text-align: center;\">              1.0              </td><td style=\"text-align: center;\">                [0.0, 3.0]                 </td><td style=\"text-align: center;\">uniform </td><td style=\"text-align: center;\">  dimensionless   </td><td style=\"text-align: center;\">   True   </td></tr>\n",
       "<tr><td style=\"text-align: right;\">   nu_nc_norm</td><td style=\"text-align: center;\">              1.0              </td><td style=\"text-align: center;\">              1.0              </td><td style=\"text-align: center;\">                [0.5, 1.5]                 </td><td style=\"text-align: center;\">+/- 0.2 </td><td style=\"text-align: center;\">  dimensionless   </td><td style=\"text-align: center;\">  False   </td></tr>\n",
       "<tr><td style=\"text-align: right;\"> weight_scale</td><td style=\"text-align: center;\">              1.0              </td><td style=\"text-align: center;\">              1.0              </td><td style=\"text-align: center;\">                  [0, 3]                   </td><td style=\"text-align: center;\">uniform </td><td style=\"text-align: center;\">  dimensionless   </td><td style=\"text-align: center;\">  False   </td></tr>\n",
       "</tbody>\n",
       "</table>"
      ],
      "text/plain": [
       "          name |              value              |          nominal_value          |                    range                    |  prior   |       units        |  is_fixed\n",
       "---------------+---------------------------------+---------------------------------+---------------------------------------------+----------+--------------------+------------\n",
       "    flux_table | flux/honda-2015-spl-solmin-aa.d | flux/honda-2015-spl-solmin-aa.d |                                             |          |   dimensionless    |    True\n",
       "  energy_pivot |          24.0900951261          |          24.0900951261          |                                             |          | gigaelectron_volt  |    True\n",
       "   delta_index |               0.0               |               0.0               | [-0.30000000000000004, 0.30000000000000004] | +/- 0.1  |   dimensionless    |   False\n",
       "    pion_ratio |               0.0               |               0.0               | [-0.15000000000000002, 0.15000000000000002] | +/- 0.05 |   dimensionless    |    True\n",
       "    barr_af_Pi |               0.0               |               0.0               |  [-1.8900000000000001, 1.8900000000000001]  | +/- 0.63 |   dimensionless    |   False\n",
       "     barr_g_Pi |               0.0               |               0.0               |  [-0.8999999999999999, 0.8999999999999999]  | +/- 0.3  |   dimensionless    |    True\n",
       "     barr_h_Pi |               0.0               |               0.0               | [-0.44999999999999996, 0.44999999999999996] | +/- 0.15 |   dimensionless    |    True\n",
       "     barr_i_Pi |               0.0               |               0.0               |                [-1.83, 1.83]                | +/- 0.61 |   dimensionless    |   False\n",
       "      barr_w_K |               0.0               |               0.0               |  [-1.2000000000000002, 1.2000000000000002]  | +/- 0.4  |   dimensionless    |    True\n",
       "      barr_x_K |               0.0               |               0.0               | [-0.30000000000000004, 0.30000000000000004] | +/- 0.1  |   dimensionless    |    True\n",
       "      barr_y_K |               0.0               |               0.0               |  [-0.8999999999999999, 0.8999999999999999]  | +/- 0.3  |   dimensionless    |   False\n",
       "      barr_z_K |               0.0               |               0.0               |                [-1.83, 1.83]                | +/- 0.61 |   dimensionless    |    True\n",
       "  barr_w_antiK |               0.0               |               0.0               |  [-1.2000000000000002, 1.2000000000000002]  | +/- 0.4  |   dimensionless    |    True\n",
       "  barr_x_antiK |               0.0               |               0.0               | [-0.30000000000000004, 0.30000000000000004] | +/- 0.1  |   dimensionless    |    True\n",
       "  barr_y_antiK |               0.0               |               0.0               |  [-0.8999999999999999, 0.8999999999999999]  | +/- 0.3  |   dimensionless    |    True\n",
       "  barr_z_antiK |               0.0               |               0.0               |                [-1.83, 1.83]                | +/- 0.61 |   dimensionless    |    True\n",
       "       theta14 |               0.0               |               0.0               |                   [0, 4]                    |          |       degree       |    True\n",
       "   sterile_phi |              45.0               |              45.0               |                   [0, 90]                   |          |       degree       |   False\n",
       "     sterile_r |               0.0               |               0.0               |                 [0.0, 0.85]                 |          |   dimensionless    |   False\n",
       "      deltam41 |               1.0               |               1.0               |                 [0.01, 1.0]                 |          | electron_volt ** 2 |    True\n",
       "     deltacp14 |               0.0               |               0.0               |                  [0, 360]                   |          |       degree       |    True\n",
       "     deltacp24 |              90.0               |              90.0               |                  [0, 180]                   | uniform  |       degree       |   False\n",
       "       theta12 |              33.82              |              33.82              |                                             |          |       degree       |    True\n",
       "       theta13 |              8.61               |              8.61               |                [8.22, 8.98]                 | +/- 0.13 |       degree       |    True\n",
       "       theta23 |              49.7               |              49.7               |                  [20, 70]                   |          |       degree       |   False\n",
       "       deltacp |               0.0               |               0.0               |                [0.0, 360.0]                 | uniform  |       degree       |    True\n",
       "      deltam21 |            7.39e-05             |            7.39e-05             |                                             |          | electron_volt ** 2 |    True\n",
       "      deltam31 |            0.002525             |            0.002525             |               [0.002, 0.003]                |          | electron_volt ** 2 |   False\n",
       "   Genie_Ma_QE |               0.0               |               0.0               |                 [-2.0, 2.0]                 | +/- 1.0  |   dimensionless    |   False\n",
       "  Genie_Ma_RES |               0.0               |               0.0               |                 [-2.0, 2.0]                 | +/- 1.0  |   dimensionless    |   False\n",
       "      dis_csms |               0.0               |               0.0               |                 [-3.0, 3.0]                 | +/- 1.0  |   dimensionless    |   False\n",
       "      livetime |               7.5               |               7.5               |                                             |          |    common_year     |    True\n",
       "    aeff_scale |               1.0               |               1.0               |                 [0.5, 2.0]                  | uniform  |   dimensionless    |   False\n",
       " nutau_cc_norm |               1.0               |               1.0               |                 [0.2, 2.0]                  | uniform  |   dimensionless    |    True\n",
       "    nutau_norm |               1.0               |               1.0               |                 [0.0, 3.0]                  | uniform  |   dimensionless    |    True\n",
       "    nu_nc_norm |               1.0               |               1.0               |                 [0.5, 1.5]                  | +/- 0.2  |   dimensionless    |   False\n",
       "  weight_scale |               1.0               |               1.0               |                   [0, 3]                    | uniform  |   dimensionless    |   False"
      ]
     },
     "execution_count": 43,
     "metadata": {},
     "output_type": "execute_result"
    }
   ],
   "source": [
    "vs_template.params"
   ]
  },
  {
   "cell_type": "markdown",
   "id": "8a2e26c9-5b80-409e-917f-86fdf0412e85",
   "metadata": {},
   "source": [
    "REAL_DATA_FIT_v12_ext_holeice           \n",
    "\n",
    "REAL_DATA_FIT_v12_ext_holeice_init_bfp_at_old_bfp \n",
    "\n",
    "REAL_DATA_FIT_v12_ext_holeice_init_bfp \n",
    "\n",
    "REAL_DATA_FIT_v12_ext_holeice_init_bfp_at_old_bfp_old_ultras \n"
   ]
  },
  {
   "cell_type": "code",
   "execution_count": 44,
   "id": "9f5356c9-9805-40d4-b1d9-bd3fa0fb38f4",
   "metadata": {},
   "outputs": [],
   "source": [
    "def get_freefitdir_path(dirname):\n",
    "    if dirname=='luster':\n",
    "        return '/lustre/fs22/group/icecube/trettin/oscNext/sterile_analysis/verification_sample_output/REAL_DATA_FIT_v12_ext_holeice/sterile_mixing_angles/contour_scan/free-fit'\n",
    "    import os\n",
    "    return os.path.join('/afs/ifh.de/user/b/buchholl/scratch/software/fridge/analysis',\n",
    "                   'oscnext_sterile/sterile_analysis/verification_sample_output',\n",
    "                   dirname,\n",
    "                   'sterile_mixing_angles/contour_scan/free-fit')"
   ]
  },
  {
   "cell_type": "code",
   "execution_count": 45,
   "id": "f2a7fd49-2af9-4449-977d-be71f52ce4e3",
   "metadata": {},
   "outputs": [
    {
     "data": {
      "text/plain": [
       "'/afs/ifh.de/user/b/buchholl/scratch/software/fridge/analysis/oscnext_sterile/sterile_analysis/verification_sample_output/REAL_DATA_FIT_v12_ext_holeice_init_bfp/sterile_mixing_angles/contour_scan/free-fit'"
      ]
     },
     "execution_count": 45,
     "metadata": {},
     "output_type": "execute_result"
    }
   ],
   "source": [
    "get_freefitdir_path('REAL_DATA_FIT_v12_ext_holeice_init_bfp')"
   ]
  },
  {
   "cell_type": "markdown",
   "id": "c1dc231c-a99f-4264-b2d0-18ce126ff132",
   "metadata": {},
   "source": [
    "python print_fit_results.py --fit-dir '/afs/ifh.de/user/b/buchholl/scratch/software/fridge/analysis/oscnext_sterile/sterile_analysis/verification_sample_output/REAL_DATA_FIT_v12_ext_holeice_init_bfp/sterile_mixing_angles/contour_scan/free-fit'"
   ]
  },
  {
   "cell_type": "markdown",
   "id": "a4465cab-5799-4573-8e53-00e260ed5f16",
   "metadata": {},
   "source": [
    "## Double check result (dis)agreement"
   ]
  },
  {
   "cell_type": "code",
   "execution_count": 46,
   "id": "66d5a2f3-cbba-44c5-a33f-f6d30f9045df",
   "metadata": {},
   "outputs": [],
   "source": [
    "old_free_fit_path_dir = '/lustre/fs22/group/icecube/trettin/oscNext/sterile_analysis/verification_sample_output/REAL_DATA_FIT_v12_ext_holeice/sterile_mixing_angles/contour_scan/free-fit'\n",
    "old_init_fit_path_dir = '/lustre/fs22/group/icecube/trettin/oscNext/sterile_analysis/verification_sample_output/REAL_DATA_FIT_v12_ext_holeice_init_bfp/sterile_mixing_angles/contour_scan/free-fit'\n",
    "\n",
    "new_free_fit_path_dir = '/afs/ifh.de/user/b/buchholl/scratch/software/fridge/analysis/oscnext_sterile/sterile_analysis/verification_sample_output/REAL_DATA_FIT_v12_ext_holeice/sterile_mixing_angles/contour_scan/free-fit'\n",
    "new_init_fit_path_dir = '/afs/ifh.de/user/b/buchholl/scratch/software/fridge/analysis/oscnext_sterile/sterile_analysis/verification_sample_output/REAL_DATA_FIT_v12_ext_holeice_init_bfp_at_old_bfp_old_ultras/sterile_mixing_angles/contour_scan/free-fit'"
   ]
  },
  {
   "cell_type": "code",
   "execution_count": 47,
   "id": "98dbc905-ae75-47c5-8b9c-40415b61b2a4",
   "metadata": {},
   "outputs": [],
   "source": [
    "metadata_old_free_fit, best_fit_result_old_free_fit = results_parsing.parse_fit_directory(\n",
    "    old_free_fit_path_dir, reparse=True\n",
    ")\n",
    "metadata_old_init_fit, best_fit_result_old_init_fit = results_parsing.parse_fit_directory(\n",
    "    old_init_fit_path_dir, reparse=True\n",
    ")\n",
    "metadata_new_free_fit, best_fit_result_new_free_fit = results_parsing.parse_fit_directory(\n",
    "    new_free_fit_path_dir, reparse=True\n",
    ")\n",
    "metadata_new_init_fit, best_fit_result_new_init_fit = results_parsing.parse_fit_directory(\n",
    "    new_init_fit_path_dir, reparse=True\n",
    ")"
   ]
  },
  {
   "cell_type": "code",
   "execution_count": 48,
   "id": "60211715-37fd-46d8-b7f0-a63c23eed0ee",
   "metadata": {},
   "outputs": [],
   "source": [
    "best_fit_old_free_fit_params = best_fit_result_old_free_fit['fit_result'].params\n",
    "best_fit_old_free_fit_metric = best_fit_result_old_free_fit['fit_result'].metric_val\n",
    "\n",
    "best_fit_old_init_fit_params = best_fit_result_old_init_fit['fit_result'].params\n",
    "best_fit_old_init_fit_metric = best_fit_result_old_init_fit['fit_result'].metric_val\n",
    "\n",
    "best_fit_new_free_fit_params = best_fit_result_new_free_fit['fit_result'].params\n",
    "best_fit_new_free_fit_metric = best_fit_result_new_free_fit['fit_result'].metric_val\n",
    "\n",
    "best_fit_new_init_fit_params = best_fit_result_new_init_fit['fit_result'].params\n",
    "best_fit_new_init_fit_metric = best_fit_result_new_init_fit['fit_result'].metric_val"
   ]
  },
  {
   "cell_type": "code",
   "execution_count": 49,
   "id": "c92a76a7-67c3-4fa2-8840-127aa9fc69ed",
   "metadata": {},
   "outputs": [
    {
     "name": "stdout",
     "output_type": "stream",
     "text": [
      "best_fit_old_free_fit_metric = 206.63291356864147\n",
      "best_fit_new_free_fit_metric = 206.63290067546046\n",
      "best_fit_old_init_fit_metric = 206.6329589092418\n",
      "best_fit_new_init_fit_metric = 206.63295890924184\n"
     ]
    }
   ],
   "source": [
    "print('best_fit_old_free_fit_metric =',best_fit_old_free_fit_metric)\n",
    "print('best_fit_new_free_fit_metric =',best_fit_new_free_fit_metric)\n",
    "print('best_fit_old_init_fit_metric =',best_fit_old_init_fit_metric)\n",
    "print('best_fit_new_init_fit_metric =',best_fit_new_init_fit_metric)"
   ]
  },
  {
   "cell_type": "code",
   "execution_count": 50,
   "id": "6d16f683-ce4d-468e-904c-5066ddf01c6e",
   "metadata": {},
   "outputs": [],
   "source": [
    "pnames = [name for name in best_fit_new_init_fit_params.free.names]\n",
    "pvals_old_init = [val for val in best_fit_old_init_fit_params.free.values]\n",
    "pvals_new_init = [val for val in best_fit_new_init_fit_params.free.values]\n",
    "pvals_rel_init = []\n",
    "for i in range(len(pvals_old_init)):\n",
    "    dimless_new = pvals_new_init[i]/pvals_new_init[i].units\n",
    "    dimless_old = pvals_old_init[i]/pvals_old_init[i].units\n",
    "    pvals_rel_init.append((dimless_new-dimless_old)/dimless_old)\n",
    "\n",
    "delta_chi2_mod = best_fit_new_init_fit_metric-best_fit_old_init_fit_metric\n",
    "rel_chi2_mod = delta_chi2_mod/best_fit_old_init_fit_metric\n",
    "\n",
    "edm_max = 2e-5\n",
    "prec = 1e-14\n",
    "rtol = edm_max/best_fit_old_init_fit_metric"
   ]
  },
  {
   "cell_type": "code",
   "execution_count": 51,
   "id": "15867cd4-96cb-46c9-801d-8e4866dca19c",
   "metadata": {},
   "outputs": [
    {
     "data": {
      "text/plain": [
       "OrderedDict([('method', 'iminuit'),\n",
       "             ('method_kwargs',\n",
       "              OrderedDict([('errors', 0.1),\n",
       "                           ('precision', 1e-14),\n",
       "                           ('tol', 0.01),\n",
       "                           ('run_simplex', False),\n",
       "                           ('run_migrad', True)])),\n",
       "             ('local_fit_kwargs', None)])"
      ]
     },
     "execution_count": 51,
     "metadata": {},
     "output_type": "execute_result"
    }
   ],
   "source": [
    "best_fit_result_old_init_fit['metadata']['minimizer_settings']"
   ]
  },
  {
   "cell_type": "code",
   "execution_count": 52,
   "id": "a3fbe7c5-f5ac-4e14-b479-9aa93798f799",
   "metadata": {},
   "outputs": [],
   "source": [
    "import great_tables as gt\n",
    "import pandas as pd"
   ]
  },
  {
   "cell_type": "code",
   "execution_count": 53,
   "id": "0dd79ef8-fdf0-4c2a-8327-5916aed02c9c",
   "metadata": {},
   "outputs": [],
   "source": [
    "data = {'Param names':pnames,'Old params':pvals_old_init,'Reproduced params':pvals_new_init,'Relative param change':pvals_rel_init}"
   ]
  },
  {
   "cell_type": "code",
   "execution_count": 54,
   "id": "26ca6299-81f8-4eed-ad58-b6fb4779e806",
   "metadata": {},
   "outputs": [],
   "source": [
    "pvals_old_init_sci = []\n",
    "for i in range(len(pvals_old_init)):\n",
    "    pvals_old_init_sci.append('%0.4e' % float(pvals_old_init[i]/pvals_old_init[i].units)*pvals_old_init[i].units)\n",
    "\n",
    "pvals_new_init_sci = []\n",
    "for i in range(len(pvals_new_init)):\n",
    "    pvals_new_init_sci.append('%0.4e' % float(pvals_new_init[i]/pvals_new_init[i].units)*pvals_new_init[i].units)\n",
    "\n",
    "pvals_rel_init_sci = []\n",
    "for i in range(len(pvals_new_init)):\n",
    "    val = (pvals_new_init[i].magnitude-pvals_old_init[i].magnitude)/pvals_old_init[i].magnitude\n",
    "    pvals_rel_init_sci.append('%0.4e' % val) "
   ]
  },
  {
   "cell_type": "code",
   "execution_count": 55,
   "id": "afc57784-6b77-4ac8-9a41-ae8ba5509594",
   "metadata": {},
   "outputs": [],
   "source": [
    "data_sci = {'Param names':pnames,'Old params':pvals_old_init_sci,'Reproduced params':pvals_new_init_sci,'Relative param change':pvals_rel_init_sci}"
   ]
  },
  {
   "cell_type": "code",
   "execution_count": 56,
   "id": "f07fc941-f97d-4b7b-bcd5-299266a4152d",
   "metadata": {},
   "outputs": [
    {
     "name": "stdout",
     "output_type": "stream",
     "text": [
      "[ WARNING] /afs/ifh.de/group/amanda/scratch/buchholl/software/snuvenv/lib/python3.10/site-packages/pandas/core/dtypes/cast.py:1598: UnitStrippedWarning: The unit of the quantity is stripped when downcasting to ndarray.\n",
      "  result[:] = values\n",
      "\n"
     ]
    },
    {
     "data": {
      "text/html": [
       "<style type=\"text/css\">\n",
       "</style>\n",
       "<table id=\"T_f6ea6\">\n",
       "  <caption>$\\Delta \\chi^2_{mod}=2.84e-14$$,\\Delta \\chi^2_{mod}/\\chi^2_{mod}=1.38e-16$$,EDM_{max}=2.00e-05$$,precision=1.00e-14$</caption>\n",
       "  <thead>\n",
       "    <tr>\n",
       "      <th class=\"blank level0\" >&nbsp;</th>\n",
       "      <th id=\"T_f6ea6_level0_col0\" class=\"col_heading level0 col0\" >Param names</th>\n",
       "      <th id=\"T_f6ea6_level0_col1\" class=\"col_heading level0 col1\" >Old params</th>\n",
       "      <th id=\"T_f6ea6_level0_col2\" class=\"col_heading level0 col2\" >Reproduced params</th>\n",
       "      <th id=\"T_f6ea6_level0_col3\" class=\"col_heading level0 col3\" >Relative param change</th>\n",
       "    </tr>\n",
       "  </thead>\n",
       "  <tbody>\n",
       "    <tr>\n",
       "      <th id=\"T_f6ea6_level0_row0\" class=\"row_heading level0 row0\" >0</th>\n",
       "      <td id=\"T_f6ea6_row0_col0\" class=\"data row0 col0\" >delta_index</td>\n",
       "      <td id=\"T_f6ea6_row0_col1\" class=\"data row0 col1\" >9.1021e-02 dimensionless</td>\n",
       "      <td id=\"T_f6ea6_row0_col2\" class=\"data row0 col2\" >9.1021e-02 dimensionless</td>\n",
       "      <td id=\"T_f6ea6_row0_col3\" class=\"data row0 col3\" >6.6262e-12</td>\n",
       "    </tr>\n",
       "    <tr>\n",
       "      <th id=\"T_f6ea6_level0_row1\" class=\"row_heading level0 row1\" >1</th>\n",
       "      <td id=\"T_f6ea6_row1_col0\" class=\"data row1 col0\" >barr_af_Pi</td>\n",
       "      <td id=\"T_f6ea6_row1_col1\" class=\"data row1 col1\" >1.0600e-01 dimensionless</td>\n",
       "      <td id=\"T_f6ea6_row1_col2\" class=\"data row1 col2\" >1.0600e-01 dimensionless</td>\n",
       "      <td id=\"T_f6ea6_row1_col3\" class=\"data row1 col3\" >5.7463e-11</td>\n",
       "    </tr>\n",
       "    <tr>\n",
       "      <th id=\"T_f6ea6_level0_row2\" class=\"row_heading level0 row2\" >2</th>\n",
       "      <td id=\"T_f6ea6_row2_col0\" class=\"data row2 col0\" >barr_i_Pi</td>\n",
       "      <td id=\"T_f6ea6_row2_col1\" class=\"data row2 col1\" >4.4698e-01 dimensionless</td>\n",
       "      <td id=\"T_f6ea6_row2_col2\" class=\"data row2 col2\" >4.4698e-01 dimensionless</td>\n",
       "      <td id=\"T_f6ea6_row2_col3\" class=\"data row2 col3\" >2.7921e-11</td>\n",
       "    </tr>\n",
       "    <tr>\n",
       "      <th id=\"T_f6ea6_level0_row3\" class=\"row_heading level0 row3\" >3</th>\n",
       "      <td id=\"T_f6ea6_row3_col0\" class=\"data row3 col0\" >barr_y_K</td>\n",
       "      <td id=\"T_f6ea6_row3_col1\" class=\"data row3 col1\" >-3.9944e-02 dimensionless</td>\n",
       "      <td id=\"T_f6ea6_row3_col2\" class=\"data row3 col2\" >-3.9944e-02 dimensionless</td>\n",
       "      <td id=\"T_f6ea6_row3_col3\" class=\"data row3 col3\" >-1.7907e-10</td>\n",
       "    </tr>\n",
       "    <tr>\n",
       "      <th id=\"T_f6ea6_level0_row4\" class=\"row_heading level0 row4\" >4</th>\n",
       "      <td id=\"T_f6ea6_row4_col0\" class=\"data row4 col0\" >deltacp24</td>\n",
       "      <td id=\"T_f6ea6_row4_col1\" class=\"data row4 col1\" >1.8000e+02 degree</td>\n",
       "      <td id=\"T_f6ea6_row4_col2\" class=\"data row4 col2\" >1.8000e+02 degree</td>\n",
       "      <td id=\"T_f6ea6_row4_col3\" class=\"data row4 col3\" >1.2332e-13</td>\n",
       "    </tr>\n",
       "    <tr>\n",
       "      <th id=\"T_f6ea6_level0_row5\" class=\"row_heading level0 row5\" >5</th>\n",
       "      <td id=\"T_f6ea6_row5_col0\" class=\"data row5 col0\" >theta23</td>\n",
       "      <td id=\"T_f6ea6_row5_col1\" class=\"data row5 col1\" >4.5111e+01 degree</td>\n",
       "      <td id=\"T_f6ea6_row5_col2\" class=\"data row5 col2\" >4.5111e+01 degree</td>\n",
       "      <td id=\"T_f6ea6_row5_col3\" class=\"data row5 col3\" >-5.4089e-13</td>\n",
       "    </tr>\n",
       "    <tr>\n",
       "      <th id=\"T_f6ea6_level0_row6\" class=\"row_heading level0 row6\" >6</th>\n",
       "      <td id=\"T_f6ea6_row6_col0\" class=\"data row6 col0\" >deltam31</td>\n",
       "      <td id=\"T_f6ea6_row6_col1\" class=\"data row6 col1\" >2.5501e-03 electron_volt ** 2</td>\n",
       "      <td id=\"T_f6ea6_row6_col2\" class=\"data row6 col2\" >2.5501e-03 electron_volt ** 2</td>\n",
       "      <td id=\"T_f6ea6_row6_col3\" class=\"data row6 col3\" >8.4966e-13</td>\n",
       "    </tr>\n",
       "    <tr>\n",
       "      <th id=\"T_f6ea6_level0_row7\" class=\"row_heading level0 row7\" >7</th>\n",
       "      <td id=\"T_f6ea6_row7_col0\" class=\"data row7 col0\" >Genie_Ma_QE</td>\n",
       "      <td id=\"T_f6ea6_row7_col1\" class=\"data row7 col1\" >-5.0821e-02 dimensionless</td>\n",
       "      <td id=\"T_f6ea6_row7_col2\" class=\"data row7 col2\" >-5.0821e-02 dimensionless</td>\n",
       "      <td id=\"T_f6ea6_row7_col3\" class=\"data row7 col3\" >1.0875e-11</td>\n",
       "    </tr>\n",
       "    <tr>\n",
       "      <th id=\"T_f6ea6_level0_row8\" class=\"row_heading level0 row8\" >8</th>\n",
       "      <td id=\"T_f6ea6_row8_col0\" class=\"data row8 col0\" >Genie_Ma_RES</td>\n",
       "      <td id=\"T_f6ea6_row8_col1\" class=\"data row8 col1\" >9.4208e-02 dimensionless</td>\n",
       "      <td id=\"T_f6ea6_row8_col2\" class=\"data row8 col2\" >9.4208e-02 dimensionless</td>\n",
       "      <td id=\"T_f6ea6_row8_col3\" class=\"data row8 col3\" >2.4898e-10</td>\n",
       "    </tr>\n",
       "    <tr>\n",
       "      <th id=\"T_f6ea6_level0_row9\" class=\"row_heading level0 row9\" >9</th>\n",
       "      <td id=\"T_f6ea6_row9_col0\" class=\"data row9 col0\" >dis_csms</td>\n",
       "      <td id=\"T_f6ea6_row9_col1\" class=\"data row9 col1\" >3.0019e-01 dimensionless</td>\n",
       "      <td id=\"T_f6ea6_row9_col2\" class=\"data row9 col2\" >3.0019e-01 dimensionless</td>\n",
       "      <td id=\"T_f6ea6_row9_col3\" class=\"data row9 col3\" >1.0975e-10</td>\n",
       "    </tr>\n",
       "    <tr>\n",
       "      <th id=\"T_f6ea6_level0_row10\" class=\"row_heading level0 row10\" >10</th>\n",
       "      <td id=\"T_f6ea6_row10_col0\" class=\"data row10 col0\" >aeff_scale</td>\n",
       "      <td id=\"T_f6ea6_row10_col1\" class=\"data row10 col1\" >7.4420e-01 dimensionless</td>\n",
       "      <td id=\"T_f6ea6_row10_col2\" class=\"data row10 col2\" >7.4420e-01 dimensionless</td>\n",
       "      <td id=\"T_f6ea6_row10_col3\" class=\"data row10 col3\" >1.5799e-13</td>\n",
       "    </tr>\n",
       "    <tr>\n",
       "      <th id=\"T_f6ea6_level0_row11\" class=\"row_heading level0 row11\" >11</th>\n",
       "      <td id=\"T_f6ea6_row11_col0\" class=\"data row11 col0\" >nu_nc_norm</td>\n",
       "      <td id=\"T_f6ea6_row11_col1\" class=\"data row11 col1\" >1.0053e+00 dimensionless</td>\n",
       "      <td id=\"T_f6ea6_row11_col2\" class=\"data row11 col2\" >1.0053e+00 dimensionless</td>\n",
       "      <td id=\"T_f6ea6_row11_col3\" class=\"data row11 col3\" >6.0293e-12</td>\n",
       "    </tr>\n",
       "    <tr>\n",
       "      <th id=\"T_f6ea6_level0_row12\" class=\"row_heading level0 row12\" >12</th>\n",
       "      <td id=\"T_f6ea6_row12_col0\" class=\"data row12 col0\" >dom_eff</td>\n",
       "      <td id=\"T_f6ea6_row12_col1\" class=\"data row12 col1\" >1.0812e+00 dimensionless</td>\n",
       "      <td id=\"T_f6ea6_row12_col2\" class=\"data row12 col2\" >1.0812e+00 dimensionless</td>\n",
       "      <td id=\"T_f6ea6_row12_col3\" class=\"data row12 col3\" >-2.0168e-13</td>\n",
       "    </tr>\n",
       "    <tr>\n",
       "      <th id=\"T_f6ea6_level0_row13\" class=\"row_heading level0 row13\" >13</th>\n",
       "      <td id=\"T_f6ea6_row13_col0\" class=\"data row13 col0\" >hole_ice_p0</td>\n",
       "      <td id=\"T_f6ea6_row13_col1\" class=\"data row13 col1\" >-5.8944e-01 dimensionless</td>\n",
       "      <td id=\"T_f6ea6_row13_col2\" class=\"data row13 col2\" >-5.8944e-01 dimensionless</td>\n",
       "      <td id=\"T_f6ea6_row13_col3\" class=\"data row13 col3\" >7.4338e-12</td>\n",
       "    </tr>\n",
       "    <tr>\n",
       "      <th id=\"T_f6ea6_level0_row14\" class=\"row_heading level0 row14\" >14</th>\n",
       "      <td id=\"T_f6ea6_row14_col0\" class=\"data row14 col0\" >hole_ice_p1</td>\n",
       "      <td id=\"T_f6ea6_row14_col1\" class=\"data row14 col1\" >4.0747e-02 dimensionless</td>\n",
       "      <td id=\"T_f6ea6_row14_col2\" class=\"data row14 col2\" >4.0747e-02 dimensionless</td>\n",
       "      <td id=\"T_f6ea6_row14_col3\" class=\"data row14 col3\" >-6.5774e-12</td>\n",
       "    </tr>\n",
       "    <tr>\n",
       "      <th id=\"T_f6ea6_level0_row15\" class=\"row_heading level0 row15\" >15</th>\n",
       "      <td id=\"T_f6ea6_row15_col0\" class=\"data row15 col0\" >ice_abs</td>\n",
       "      <td id=\"T_f6ea6_row15_col1\" class=\"data row15 col1\" >9.8791e-01 dimensionless</td>\n",
       "      <td id=\"T_f6ea6_row15_col2\" class=\"data row15 col2\" >9.8791e-01 dimensionless</td>\n",
       "      <td id=\"T_f6ea6_row15_col3\" class=\"data row15 col3\" >3.2804e-13</td>\n",
       "    </tr>\n",
       "    <tr>\n",
       "      <th id=\"T_f6ea6_level0_row16\" class=\"row_heading level0 row16\" >16</th>\n",
       "      <td id=\"T_f6ea6_row16_col0\" class=\"data row16 col0\" >ice_scatter</td>\n",
       "      <td id=\"T_f6ea6_row16_col1\" class=\"data row16 col1\" >8.9532e-01 dimensionless</td>\n",
       "      <td id=\"T_f6ea6_row16_col2\" class=\"data row16 col2\" >8.9532e-01 dimensionless</td>\n",
       "      <td id=\"T_f6ea6_row16_col3\" class=\"data row16 col3\" >-1.1578e-12</td>\n",
       "    </tr>\n",
       "    <tr>\n",
       "      <th id=\"T_f6ea6_level0_row17\" class=\"row_heading level0 row17\" >17</th>\n",
       "      <td id=\"T_f6ea6_row17_col0\" class=\"data row17 col0\" >weight_scale</td>\n",
       "      <td id=\"T_f6ea6_row17_col1\" class=\"data row17 col1\" >1.9285e+00 dimensionless</td>\n",
       "      <td id=\"T_f6ea6_row17_col2\" class=\"data row17 col2\" >1.9285e+00 dimensionless</td>\n",
       "      <td id=\"T_f6ea6_row17_col3\" class=\"data row17 col3\" >4.5241e-12</td>\n",
       "    </tr>\n",
       "    <tr>\n",
       "      <th id=\"T_f6ea6_level0_row18\" class=\"row_heading level0 row18\" >18</th>\n",
       "      <td id=\"T_f6ea6_row18_col0\" class=\"data row18 col0\" >theta24</td>\n",
       "      <td id=\"T_f6ea6_row18_col1\" class=\"data row18 col1\" >6.6962e-02 radian</td>\n",
       "      <td id=\"T_f6ea6_row18_col2\" class=\"data row18 col2\" >6.6962e-02 radian</td>\n",
       "      <td id=\"T_f6ea6_row18_col3\" class=\"data row18 col3\" >2.8368e-10</td>\n",
       "    </tr>\n",
       "    <tr>\n",
       "      <th id=\"T_f6ea6_level0_row19\" class=\"row_heading level0 row19\" >19</th>\n",
       "      <td id=\"T_f6ea6_row19_col0\" class=\"data row19 col0\" >theta34</td>\n",
       "      <td id=\"T_f6ea6_row19_col1\" class=\"data row19 col1\" >5.6069e-02 radian</td>\n",
       "      <td id=\"T_f6ea6_row19_col2\" class=\"data row19 col2\" >5.6069e-02 radian</td>\n",
       "      <td id=\"T_f6ea6_row19_col3\" class=\"data row19 col3\" >-2.0310e-10</td>\n",
       "    </tr>\n",
       "  </tbody>\n",
       "</table>\n"
      ],
      "text/plain": [
       "<pandas.io.formats.style.Styler at 0x7fc3fb0d7010>"
      ]
     },
     "execution_count": 56,
     "metadata": {},
     "output_type": "execute_result"
    }
   ],
   "source": [
    "dataframe = pd.DataFrame(data=data_sci)\n",
    "dataframe.style.set_caption(r\"$\\Delta \\chi^2_{mod}=%0.2e$\" % delta_chi2_mod +\n",
    "                            r\"$,\\Delta \\chi^2_{mod}/\\chi^2_{mod}=%0.2e$\" % rel_chi2_mod +\n",
    "                            r\"$,EDM_{max}=%0.2e$\" % edm_max +\n",
    "                            r\"$,precision=%0.2e$\" % prec)"
   ]
  },
  {
   "cell_type": "code",
   "execution_count": 57,
   "id": "9a5ef5f5-f1ca-4db0-b778-90ef3e4a0a92",
   "metadata": {},
   "outputs": [
    {
     "data": {
      "image/png": "[encoded data removed]",
      "text/plain": [
       "<Figure size 900x600 with 1 Axes>"
      ]
     },
     "metadata": {},
     "output_type": "display_data"
    }
   ],
   "source": [
    "fig, ax = plt.subplots(figsize=(9,6))\n",
    "\n",
    "# hide axes\n",
    "fig.patch.set_visible(False)\n",
    "ax.axis('off')\n",
    "ax.axis('tight')\n",
    "\n",
    "ax.table(cellText=dataframe.values, colLabels=dataframe.columns, loc='center')\n",
    "plt.rcParams['axes.titley'] = 0.9\n",
    "ax.set_title(r\"$\\Delta \\chi^2_{mod}=%0.2e$\" % delta_chi2_mod +\n",
    "                            r\"$,\\Delta \\chi^2_{mod}/\\chi^2_{mod}=%0.2e$\" % rel_chi2_mod +\n",
    "                            r\"$,EDM_{max}=%0.2e$\" % edm_max +\n",
    "                            r\"$,precision=%0.2e$\" % prec)\n",
    "\n",
    "plt.show()"
   ]
  },
  {
   "cell_type": "code",
   "execution_count": 58,
   "id": "bc306c3e-f8d3-4200-8963-d0a08d61d4c8",
   "metadata": {},
   "outputs": [],
   "source": [
    "pvals_old_free = [val for val in best_fit_old_free_fit_params.free.values]\n",
    "pvals_new_free = [val for val in best_fit_new_free_fit_params.free.values]\n",
    "pvals_rel_free = []\n",
    "for i in range(len(pvals_old_free)):\n",
    "    dimless_new = pvals_new_free[i]/pvals_new_free[i].units\n",
    "    dimless_old = pvals_old_free[i]/pvals_old_free[i].units\n",
    "    pvals_rel_free.append((dimless_new-dimless_old)/dimless_old)\n",
    "\n",
    "delta_chi2_mod = best_fit_new_free_fit_metric-best_fit_old_free_fit_metric\n",
    "rel_chi2_mod = delta_chi2_mod/best_fit_old_free_fit_metric\n",
    "\n",
    "edm_max = 2e-5\n",
    "prec = 1e-14\n",
    "rtol = edm_max/best_fit_old_free_fit_metric\n",
    "\n",
    "pvals_old_free_sci = []\n",
    "for i in range(len(pvals_old_free)):\n",
    "    pvals_old_free_sci.append('%0.4e' % float(pvals_old_free[i]/pvals_old_free[i].units)*pvals_old_free[i].units)\n",
    "\n",
    "pvals_new_free_sci = []\n",
    "for i in range(len(pvals_new_free)):\n",
    "    pvals_new_free_sci.append('%0.4e' % float(pvals_new_free[i]/pvals_new_free[i].units)*pvals_new_free[i].units)\n",
    "\n",
    "pvals_rel_free_sci = []\n",
    "for i in range(len(pvals_new_free)):\n",
    "    val = (pvals_new_free[i].magnitude-pvals_old_free[i].magnitude)/pvals_old_free[i].magnitude\n",
    "    pvals_rel_free_sci.append('%0.4e' % val) "
   ]
  },
  {
   "cell_type": "code",
   "execution_count": 59,
   "id": "c9ee79b5-c050-4aad-8a07-af9a430e8d32",
   "metadata": {},
   "outputs": [
    {
     "name": "stdout",
     "output_type": "stream",
     "text": [
      "[ WARNING] /afs/ifh.de/group/amanda/scratch/buchholl/software/snuvenv/lib/python3.10/site-packages/pandas/core/dtypes/cast.py:1598: UnitStrippedWarning: The unit of the quantity is stripped when downcasting to ndarray.\n",
      "  result[:] = values\n",
      "\n"
     ]
    },
    {
     "data": {
      "text/html": [
       "<style type=\"text/css\">\n",
       "</style>\n",
       "<table id=\"T_5b133\">\n",
       "  <caption>$\\Delta \\chi^2_{mod}=-1.29e-05$$,\\Delta \\chi^2_{mod}/\\chi^2_{mod}=-6.24e-08$$,EDM_{max}=2.00e-05$$,precision=1.00e-14$</caption>\n",
       "  <thead>\n",
       "    <tr>\n",
       "      <th class=\"blank level0\" >&nbsp;</th>\n",
       "      <th id=\"T_5b133_level0_col0\" class=\"col_heading level0 col0\" >Param names</th>\n",
       "      <th id=\"T_5b133_level0_col1\" class=\"col_heading level0 col1\" >Old params</th>\n",
       "      <th id=\"T_5b133_level0_col2\" class=\"col_heading level0 col2\" >Reproduced params</th>\n",
       "      <th id=\"T_5b133_level0_col3\" class=\"col_heading level0 col3\" >Relative param change</th>\n",
       "    </tr>\n",
       "  </thead>\n",
       "  <tbody>\n",
       "    <tr>\n",
       "      <th id=\"T_5b133_level0_row0\" class=\"row_heading level0 row0\" >0</th>\n",
       "      <td id=\"T_5b133_row0_col0\" class=\"data row0 col0\" >delta_index</td>\n",
       "      <td id=\"T_5b133_row0_col1\" class=\"data row0 col1\" >9.1001e-02 dimensionless</td>\n",
       "      <td id=\"T_5b133_row0_col2\" class=\"data row0 col2\" >9.0993e-02 dimensionless</td>\n",
       "      <td id=\"T_5b133_row0_col3\" class=\"data row0 col3\" >-7.8103e-05</td>\n",
       "    </tr>\n",
       "    <tr>\n",
       "      <th id=\"T_5b133_level0_row1\" class=\"row_heading level0 row1\" >1</th>\n",
       "      <td id=\"T_5b133_row1_col0\" class=\"data row1 col0\" >barr_af_Pi</td>\n",
       "      <td id=\"T_5b133_row1_col1\" class=\"data row1 col1\" >1.0617e-01 dimensionless</td>\n",
       "      <td id=\"T_5b133_row1_col2\" class=\"data row1 col2\" >1.0616e-01 dimensionless</td>\n",
       "      <td id=\"T_5b133_row1_col3\" class=\"data row1 col3\" >-1.7525e-04</td>\n",
       "    </tr>\n",
       "    <tr>\n",
       "      <th id=\"T_5b133_level0_row2\" class=\"row_heading level0 row2\" >2</th>\n",
       "      <td id=\"T_5b133_row2_col0\" class=\"data row2 col0\" >barr_i_Pi</td>\n",
       "      <td id=\"T_5b133_row2_col1\" class=\"data row2 col1\" >4.4618e-01 dimensionless</td>\n",
       "      <td id=\"T_5b133_row2_col2\" class=\"data row2 col2\" >4.4601e-01 dimensionless</td>\n",
       "      <td id=\"T_5b133_row2_col3\" class=\"data row2 col3\" >-3.9388e-04</td>\n",
       "    </tr>\n",
       "    <tr>\n",
       "      <th id=\"T_5b133_level0_row3\" class=\"row_heading level0 row3\" >3</th>\n",
       "      <td id=\"T_5b133_row3_col0\" class=\"data row3 col0\" >barr_y_K</td>\n",
       "      <td id=\"T_5b133_row3_col1\" class=\"data row3 col1\" >-4.0089e-02 dimensionless</td>\n",
       "      <td id=\"T_5b133_row3_col2\" class=\"data row3 col2\" >-4.0368e-02 dimensionless</td>\n",
       "      <td id=\"T_5b133_row3_col3\" class=\"data row3 col3\" >6.9632e-03</td>\n",
       "    </tr>\n",
       "    <tr>\n",
       "      <th id=\"T_5b133_level0_row4\" class=\"row_heading level0 row4\" >4</th>\n",
       "      <td id=\"T_5b133_row4_col0\" class=\"data row4 col0\" >deltacp24</td>\n",
       "      <td id=\"T_5b133_row4_col1\" class=\"data row4 col1\" >1.7999e+02 degree</td>\n",
       "      <td id=\"T_5b133_row4_col2\" class=\"data row4 col2\" >1.8000e+02 degree</td>\n",
       "      <td id=\"T_5b133_row4_col3\" class=\"data row4 col3\" >4.5453e-05</td>\n",
       "    </tr>\n",
       "    <tr>\n",
       "      <th id=\"T_5b133_level0_row5\" class=\"row_heading level0 row5\" >5</th>\n",
       "      <td id=\"T_5b133_row5_col0\" class=\"data row5 col0\" >theta23</td>\n",
       "      <td id=\"T_5b133_row5_col1\" class=\"data row5 col1\" >4.5105e+01 degree</td>\n",
       "      <td id=\"T_5b133_row5_col2\" class=\"data row5 col2\" >4.5104e+01 degree</td>\n",
       "      <td id=\"T_5b133_row5_col3\" class=\"data row5 col3\" >-2.3348e-05</td>\n",
       "    </tr>\n",
       "    <tr>\n",
       "      <th id=\"T_5b133_level0_row6\" class=\"row_heading level0 row6\" >6</th>\n",
       "      <td id=\"T_5b133_row6_col0\" class=\"data row6 col0\" >deltam31</td>\n",
       "      <td id=\"T_5b133_row6_col1\" class=\"data row6 col1\" >2.5498e-03 electron_volt ** 2</td>\n",
       "      <td id=\"T_5b133_row6_col2\" class=\"data row6 col2\" >2.5499e-03 electron_volt ** 2</td>\n",
       "      <td id=\"T_5b133_row6_col3\" class=\"data row6 col3\" >2.8204e-05</td>\n",
       "    </tr>\n",
       "    <tr>\n",
       "      <th id=\"T_5b133_level0_row7\" class=\"row_heading level0 row7\" >7</th>\n",
       "      <td id=\"T_5b133_row7_col0\" class=\"data row7 col0\" >Genie_Ma_QE</td>\n",
       "      <td id=\"T_5b133_row7_col1\" class=\"data row7 col1\" >-5.0045e-02 dimensionless</td>\n",
       "      <td id=\"T_5b133_row7_col2\" class=\"data row7 col2\" >-5.0408e-02 dimensionless</td>\n",
       "      <td id=\"T_5b133_row7_col3\" class=\"data row7 col3\" >7.2469e-03</td>\n",
       "    </tr>\n",
       "    <tr>\n",
       "      <th id=\"T_5b133_level0_row8\" class=\"row_heading level0 row8\" >8</th>\n",
       "      <td id=\"T_5b133_row8_col0\" class=\"data row8 col0\" >Genie_Ma_RES</td>\n",
       "      <td id=\"T_5b133_row8_col1\" class=\"data row8 col1\" >9.4689e-02 dimensionless</td>\n",
       "      <td id=\"T_5b133_row8_col2\" class=\"data row8 col2\" >9.3931e-02 dimensionless</td>\n",
       "      <td id=\"T_5b133_row8_col3\" class=\"data row8 col3\" >-8.0070e-03</td>\n",
       "    </tr>\n",
       "    <tr>\n",
       "      <th id=\"T_5b133_level0_row9\" class=\"row_heading level0 row9\" >9</th>\n",
       "      <td id=\"T_5b133_row9_col0\" class=\"data row9 col0\" >dis_csms</td>\n",
       "      <td id=\"T_5b133_row9_col1\" class=\"data row9 col1\" >3.0106e-01 dimensionless</td>\n",
       "      <td id=\"T_5b133_row9_col2\" class=\"data row9 col2\" >3.0093e-01 dimensionless</td>\n",
       "      <td id=\"T_5b133_row9_col3\" class=\"data row9 col3\" >-4.2548e-04</td>\n",
       "    </tr>\n",
       "    <tr>\n",
       "      <th id=\"T_5b133_level0_row10\" class=\"row_heading level0 row10\" >10</th>\n",
       "      <td id=\"T_5b133_row10_col0\" class=\"data row10 col0\" >aeff_scale</td>\n",
       "      <td id=\"T_5b133_row10_col1\" class=\"data row10 col1\" >7.4431e-01 dimensionless</td>\n",
       "      <td id=\"T_5b133_row10_col2\" class=\"data row10 col2\" >7.4446e-01 dimensionless</td>\n",
       "      <td id=\"T_5b133_row10_col3\" class=\"data row10 col3\" >2.0418e-04</td>\n",
       "    </tr>\n",
       "    <tr>\n",
       "      <th id=\"T_5b133_level0_row11\" class=\"row_heading level0 row11\" >11</th>\n",
       "      <td id=\"T_5b133_row11_col0\" class=\"data row11 col0\" >nu_nc_norm</td>\n",
       "      <td id=\"T_5b133_row11_col1\" class=\"data row11 col1\" >1.0049e+00 dimensionless</td>\n",
       "      <td id=\"T_5b133_row11_col2\" class=\"data row11 col2\" >1.0048e+00 dimensionless</td>\n",
       "      <td id=\"T_5b133_row11_col3\" class=\"data row11 col3\" >-7.8021e-05</td>\n",
       "    </tr>\n",
       "    <tr>\n",
       "      <th id=\"T_5b133_level0_row12\" class=\"row_heading level0 row12\" >12</th>\n",
       "      <td id=\"T_5b133_row12_col0\" class=\"data row12 col0\" >dom_eff</td>\n",
       "      <td id=\"T_5b133_row12_col1\" class=\"data row12 col1\" >1.0812e+00 dimensionless</td>\n",
       "      <td id=\"T_5b133_row12_col2\" class=\"data row12 col2\" >1.0811e+00 dimensionless</td>\n",
       "      <td id=\"T_5b133_row12_col3\" class=\"data row12 col3\" >-2.8488e-05</td>\n",
       "    </tr>\n",
       "    <tr>\n",
       "      <th id=\"T_5b133_level0_row13\" class=\"row_heading level0 row13\" >13</th>\n",
       "      <td id=\"T_5b133_row13_col0\" class=\"data row13 col0\" >hole_ice_p0</td>\n",
       "      <td id=\"T_5b133_row13_col1\" class=\"data row13 col1\" >-5.8946e-01 dimensionless</td>\n",
       "      <td id=\"T_5b133_row13_col2\" class=\"data row13 col2\" >-5.8951e-01 dimensionless</td>\n",
       "      <td id=\"T_5b133_row13_col3\" class=\"data row13 col3\" >8.2925e-05</td>\n",
       "    </tr>\n",
       "    <tr>\n",
       "      <th id=\"T_5b133_level0_row14\" class=\"row_heading level0 row14\" >14</th>\n",
       "      <td id=\"T_5b133_row14_col0\" class=\"data row14 col0\" >hole_ice_p1</td>\n",
       "      <td id=\"T_5b133_row14_col1\" class=\"data row14 col1\" >4.0758e-02 dimensionless</td>\n",
       "      <td id=\"T_5b133_row14_col2\" class=\"data row14 col2\" >4.0757e-02 dimensionless</td>\n",
       "      <td id=\"T_5b133_row14_col3\" class=\"data row14 col3\" >-3.1884e-05</td>\n",
       "    </tr>\n",
       "    <tr>\n",
       "      <th id=\"T_5b133_level0_row15\" class=\"row_heading level0 row15\" >15</th>\n",
       "      <td id=\"T_5b133_row15_col0\" class=\"data row15 col0\" >ice_abs</td>\n",
       "      <td id=\"T_5b133_row15_col1\" class=\"data row15 col1\" >9.8787e-01 dimensionless</td>\n",
       "      <td id=\"T_5b133_row15_col2\" class=\"data row15 col2\" >9.8784e-01 dimensionless</td>\n",
       "      <td id=\"T_5b133_row15_col3\" class=\"data row15 col3\" >-3.2608e-05</td>\n",
       "    </tr>\n",
       "    <tr>\n",
       "      <th id=\"T_5b133_level0_row16\" class=\"row_heading level0 row16\" >16</th>\n",
       "      <td id=\"T_5b133_row16_col0\" class=\"data row16 col0\" >ice_scatter</td>\n",
       "      <td id=\"T_5b133_row16_col1\" class=\"data row16 col1\" >8.9541e-01 dimensionless</td>\n",
       "      <td id=\"T_5b133_row16_col2\" class=\"data row16 col2\" >8.9541e-01 dimensionless</td>\n",
       "      <td id=\"T_5b133_row16_col3\" class=\"data row16 col3\" >-6.5100e-07</td>\n",
       "    </tr>\n",
       "    <tr>\n",
       "      <th id=\"T_5b133_level0_row17\" class=\"row_heading level0 row17\" >17</th>\n",
       "      <td id=\"T_5b133_row17_col0\" class=\"data row17 col0\" >weight_scale</td>\n",
       "      <td id=\"T_5b133_row17_col1\" class=\"data row17 col1\" >1.9281e+00 dimensionless</td>\n",
       "      <td id=\"T_5b133_row17_col2\" class=\"data row17 col2\" >1.9278e+00 dimensionless</td>\n",
       "      <td id=\"T_5b133_row17_col3\" class=\"data row17 col3\" >-1.5032e-04</td>\n",
       "    </tr>\n",
       "    <tr>\n",
       "      <th id=\"T_5b133_level0_row18\" class=\"row_heading level0 row18\" >18</th>\n",
       "      <td id=\"T_5b133_row18_col0\" class=\"data row18 col0\" >theta24</td>\n",
       "      <td id=\"T_5b133_row18_col1\" class=\"data row18 col1\" >6.7091e-02 radian</td>\n",
       "      <td id=\"T_5b133_row18_col2\" class=\"data row18 col2\" >6.7472e-02 radian</td>\n",
       "      <td id=\"T_5b133_row18_col3\" class=\"data row18 col3\" >5.6794e-03</td>\n",
       "    </tr>\n",
       "    <tr>\n",
       "      <th id=\"T_5b133_level0_row19\" class=\"row_heading level0 row19\" >19</th>\n",
       "      <td id=\"T_5b133_row19_col0\" class=\"data row19 col0\" >theta34</td>\n",
       "      <td id=\"T_5b133_row19_col1\" class=\"data row19 col1\" >5.5590e-02 radian</td>\n",
       "      <td id=\"T_5b133_row19_col2\" class=\"data row19 col2\" >5.5432e-02 radian</td>\n",
       "      <td id=\"T_5b133_row19_col3\" class=\"data row19 col3\" >-2.8387e-03</td>\n",
       "    </tr>\n",
       "  </tbody>\n",
       "</table>\n"
      ],
      "text/plain": [
       "<pandas.io.formats.style.Styler at 0x7fc3fb0a9780>"
      ]
     },
     "execution_count": 59,
     "metadata": {},
     "output_type": "execute_result"
    }
   ],
   "source": [
    "data_sci_free = {'Param names':pnames,'Old params':pvals_old_free_sci,'Reproduced params':pvals_new_free_sci,'Relative param change':pvals_rel_free_sci}\n",
    "dataframe_free = pd.DataFrame(data=data_sci_free)\n",
    "dataframe_free.style.set_caption(r\"$\\Delta \\chi^2_{mod}=%0.2e$\" % delta_chi2_mod +\n",
    "                            r\"$,\\Delta \\chi^2_{mod}/\\chi^2_{mod}=%0.2e$\" % rel_chi2_mod +\n",
    "                            r\"$,EDM_{max}=%0.2e$\" % edm_max +\n",
    "                            r\"$,precision=%0.2e$\" % prec)"
   ]
  },
  {
   "cell_type": "code",
   "execution_count": 60,
   "id": "17b28f08-c174-45ca-aacc-ca3e8aecf994",
   "metadata": {},
   "outputs": [
    {
     "data": {
      "text/plain": [
       "(0.0044944166451917475 <Unit('dimensionless')>,\n",
       " 0.004545535201686347 <Unit('dimensionless')>)"
      ]
     },
     "execution_count": 60,
     "metadata": {},
     "output_type": "execute_result"
    }
   ],
   "source": [
    "np.sin(pvals_old_free[-2])**2,np.sin(pvals_new_free[-2])**2"
   ]
  },
  {
   "cell_type": "markdown",
   "id": "6bf1957c-c680-4569-8c60-c9b596dc83e3",
   "metadata": {},
   "source": [
    "## Inject Reference BFP parameters for chi2_mod comparison"
   ]
  },
  {
   "cell_type": "code",
   "execution_count": 61,
   "id": "8205494e-fc3b-4e54-8d9d-8a15413357e9",
   "metadata": {},
   "outputs": [],
   "source": [
    "vs_ref_template = neuconfigToTemplate(vs_cfg)"
   ]
  },
  {
   "cell_type": "code",
   "execution_count": 62,
   "id": "77f4a992-ede0-4bce-ab79-76277daf007e",
   "metadata": {},
   "outputs": [
    {
     "name": "stdout",
     "output_type": "stream",
     "text": [
      "[ WARNING] /afs/ifh.de/group/amanda/scratch/buchholl/software/snuvenv/lib/python3.10/site-packages/numpy/lib/function_base.py:2385: UnitStrippedWarning: The unit of the quantity is stripped when downcasting to ndarray.\n",
      "  inputs = [asanyarray(a, dtype=object) for a in args]\n",
      "\n"
     ]
    }
   ],
   "source": [
    "names, chi2_ref = chi2_per_freeparam(vs_ref_template,params_reference)"
   ]
  },
  {
   "cell_type": "code",
   "execution_count": 63,
   "id": "d652e183-79d2-4b4c-818a-b28ac22b044c",
   "metadata": {},
   "outputs": [
    {
     "name": "stdout",
     "output_type": "stream",
     "text": [
      "0.06704041053865756 dimensionless 0.05543630058754629 dimensionless\n",
      "791.387427031916 206.63291356864147\n"
     ]
    }
   ],
   "source": [
    "theta24_ref = params_reference.theta24.value\n",
    "theta34_ref = params_reference.theta34.value\n",
    "\n",
    "u24_sq_ref = np.sin(theta24_ref)**2\n",
    "u34_sq_ref = np.cos(theta24_ref)**2*np.sin(theta34_ref)**2\n",
    "\n",
    "sterile_r_ref = np.sqrt(u24_sq_ref+u34_sq_ref)\n",
    "sterile_phi_ref = np.arctan(np.sqrt(u24_sq_ref/u34_sq_ref))\n",
    "\n",
    "print(sterile_r_ref*np.sin(sterile_phi_ref),sterile_r_ref*np.cos(sterile_phi_ref))\n",
    "print(chi2_ref[-1],metric_reference)"
   ]
  },
  {
   "cell_type": "markdown",
   "id": "dd6d7cc7-18e8-4450-ae7d-df5c82ff79a9",
   "metadata": {},
   "source": [
    "## Compare scanfitpoint chi2_mod"
   ]
  },
  {
   "cell_type": "code",
   "execution_count": 64,
   "id": "97d21b1a-be46-4fb6-8f35-cc6c215476eb",
   "metadata": {},
   "outputs": [],
   "source": [
    "old_scan_pt_dir = '/lustre/fs22/group/icecube/trettin/oscNext/sterile_analysis/verification_sample_output/REAL_DATA_FIT_v12_ext_holeice/sterile_mixing_angles/contour_scan/'\n",
    "new_scan_pt_dir = '/afs/ifh.de/user/b/buchholl/scratch/software/fridge/analysis/oscnext_sterile/sterile_analysis/verification_sample_output/REAL_DATA_FIT_v12_ext_holeice/sterile_mixing_angles/contour_scan/'"
   ]
  },
  {
   "cell_type": "code",
   "execution_count": 65,
   "id": "f9720fc3-2d2a-4fb2-945c-8a87cbd286b5",
   "metadata": {},
   "outputs": [],
   "source": [
    "chi2_old_scan_pts = []\n",
    "chi2_new_scan_pts = []\n",
    "\n",
    "th24_scanpt = []\n",
    "th34_scanpt = []\n",
    "\n",
    "for num in range(420):\n",
    "    scanpt_str = 'scan-point-fit-%06d' % num\n",
    "\n",
    "    _, bfp_old = results_parsing.parse_fit_directory(\n",
    "    old_scan_pt_dir+scanpt_str, reparse=True\n",
    "    )\n",
    "    \n",
    "    chi2_old_scan_pts.append(bfp_old['fit_result'].metric_val)\n",
    "\n",
    "    _, bfp_new = results_parsing.parse_fit_directory(\n",
    "    new_scan_pt_dir+scanpt_str, reparse=True\n",
    "    )\n",
    "    chi2_new_scan_pts.append(bfp_new['fit_result'].metric_val)\n",
    "\n",
    "    th24_scanpt.append(bfp_new['fit_result'].params.theta24.value)\n",
    "    th34_scanpt.append(bfp_new['fit_result'].params.theta24.value)"
   ]
  },
  {
   "cell_type": "code",
   "execution_count": 66,
   "id": "bcc76c11-2b61-42c3-b24e-2f1c72409714",
   "metadata": {},
   "outputs": [
    {
     "data": {
      "text/plain": [
       "<matplotlib.legend.Legend at 0x7fc3fa490e50>"
      ]
     },
     "execution_count": 66,
     "metadata": {},
     "output_type": "execute_result"
    },
    {
     "data": {
      "image/png": "[encoded data removed]",
      "text/plain": [
       "<Figure size 640x480 with 1 Axes>"
      ]
     },
     "metadata": {},
     "output_type": "display_data"
    }
   ],
   "source": [
    "delta_chi2_mod_scan_pts = np.array(chi2_new_scan_pts)-np.array(chi2_old_scan_pts)\n",
    "rel_delta_chi2_mod_scan_pts = delta_chi2_mod_scan_pts/np.array(chi2_old_scan_pts)\n",
    "\n",
    "plt.plot(range(420),delta_chi2_mod_scan_pts,ls='',marker='+')\n",
    "plt.yscale('log')\n",
    "plt.axhline(y=2e-5,label='EDM_max=2e-5',ls=':')\n",
    "plt.xlabel('scan point number')\n",
    "plt.ylabel(r'$\\Delta \\chi^2_{mod}$ (repro - reference)')\n",
    "plt.legend()"
   ]
  },
  {
   "cell_type": "code",
   "execution_count": 67,
   "id": "0404b7d8-2300-4179-81c6-7a6c91ed03ab",
   "metadata": {},
   "outputs": [
    {
     "data": {
      "text/plain": [
       "<matplotlib.legend.Legend at 0x7fc3f8218f70>"
      ]
     },
     "execution_count": 67,
     "metadata": {},
     "output_type": "execute_result"
    },
    {
     "data": {
      "image/png": "[encoded data removed]",
      "text/plain": [
       "<Figure size 640x480 with 1 Axes>"
      ]
     },
     "metadata": {},
     "output_type": "display_data"
    }
   ],
   "source": [
    "plt.plot(range(420),rel_delta_chi2_mod_scan_pts,ls='',marker='+')\n",
    "plt.yscale('log')\n",
    "plt.axhline(y=2e-5,label='EDM_max=2e-5',ls=':')\n",
    "plt.xlabel('scan point number')\n",
    "plt.ylabel(r'$\\Delta \\chi^2_{mod}/\\chi^2_{mod}$ (repro - reference)')\n",
    "plt.legend()"
   ]
  },
  {
   "cell_type": "code",
   "execution_count": 68,
   "id": "9a0217c8-e714-42ae-a0a9-84ea93106acb",
   "metadata": {},
   "outputs": [],
   "source": [
    "old_scan_pt_dir_init = '/lustre/fs22/group/icecube/trettin/oscNext/sterile_analysis/verification_sample_output/REAL_DATA_FIT_v12_ext_holeice_init_bfp/sterile_mixing_angles/contour_scan/'\n",
    "new_scan_pt_dir_init = '/afs/ifh.de/user/b/buchholl/scratch/software/fridge/analysis/oscnext_sterile/sterile_analysis/verification_sample_output/REAL_DATA_FIT_v12_ext_holeice_init_bfp_at_old_bfp_old_ultras/sterile_mixing_angles/contour_scan/'"
   ]
  },
  {
   "cell_type": "code",
   "execution_count": 69,
   "id": "f8ab01bd-81e0-48d9-a44d-6bfa07269f0e",
   "metadata": {},
   "outputs": [],
   "source": [
    "chi2_old_scan_pts_init = []\n",
    "chi2_new_scan_pts_init = []\n",
    "\n",
    "for num in range(420):\n",
    "    scanpt_str = 'scan-point-fit-%06d' % num\n",
    "\n",
    "    _, bfp_old_init = results_parsing.parse_fit_directory(\n",
    "    old_scan_pt_dir_init+scanpt_str, reparse=True\n",
    "    )\n",
    "    chi2_old_scan_pts_init.append(bfp_old_init['fit_result'].metric_val)\n",
    "\n",
    "    _, bfp_new_init = results_parsing.parse_fit_directory(\n",
    "    new_scan_pt_dir_init+scanpt_str, reparse=True\n",
    "    )\n",
    "    chi2_new_scan_pts_init.append(bfp_new_init['fit_result'].metric_val)"
   ]
  },
  {
   "cell_type": "code",
   "execution_count": 70,
   "id": "e3e9a770-0083-4c97-a43e-333de0add731",
   "metadata": {},
   "outputs": [
    {
     "data": {
      "image/png": "[encoded data removed]",
      "text/plain": [
       "<Figure size 640x480 with 1 Axes>"
      ]
     },
     "metadata": {},
     "output_type": "display_data"
    },
    {
     "data": {
      "text/plain": [
       "<matplotlib.legend.Legend at 0x7fc3fa66b040>"
      ]
     },
     "execution_count": 70,
     "metadata": {},
     "output_type": "execute_result"
    },
    {
     "data": {
      "image/png": "[encoded data removed]",
      "text/plain": [
       "<Figure size 640x480 with 1 Axes>"
      ]
     },
     "metadata": {},
     "output_type": "display_data"
    }
   ],
   "source": [
    "delta_chi2_mod_scan_pts_init = np.array(chi2_new_scan_pts_init)-np.array(chi2_old_scan_pts_init)\n",
    "rel_delta_chi2_mod_scan_pts_init = delta_chi2_mod_scan_pts_init/np.array(chi2_old_scan_pts_init)\n",
    "\n",
    "plt.plot(range(420),delta_chi2_mod_scan_pts_init,ls='',marker='+')\n",
    "plt.yscale('log')\n",
    "plt.axhline(y=2e-5,label='EDM_max=2e-5',ls=':')\n",
    "plt.xlabel('scan point number')\n",
    "plt.ylabel(r'$\\Delta \\chi^2_{mod}$ (repro - reference)')\n",
    "plt.legend()\n",
    "plt.show()\n",
    "\n",
    "plt.plot(range(420),rel_delta_chi2_mod_scan_pts_init,ls='',marker='+')\n",
    "plt.yscale('log')\n",
    "plt.axhline(y=2e-5,label='EDM_max=2e-5',ls=':')\n",
    "plt.xlabel('scan point number')\n",
    "plt.ylabel(r'$\\Delta \\chi^2_{mod}/\\chi^2_{mod}$ (repro - reference)')\n",
    "plt.legend()"
   ]
  },
  {
   "cell_type": "code",
   "execution_count": 71,
   "id": "478b48c1-ca7c-4880-bb48-f75d7f088ece",
   "metadata": {},
   "outputs": [],
   "source": [
    "import scipy.stats as stats"
   ]
  },
  {
   "cell_type": "code",
   "execution_count": 72,
   "id": "00d32dfb-9354-4852-96e2-bf11c74ca82d",
   "metadata": {},
   "outputs": [],
   "source": [
    "level_68 = stats.chi2.ppf(0.68, df=2)\n",
    "level_90 = stats.chi2.ppf(0.90, df=2)\n",
    "level_99 = stats.chi2.ppf(0.99, df=2)"
   ]
  },
  {
   "cell_type": "code",
   "execution_count": 73,
   "id": "ee414a2f-8ecf-4d00-8e54-dab85497bbcf",
   "metadata": {},
   "outputs": [],
   "source": [
    "flercnn_scan_test_pt_path = '/afs/ifh.de/user/b/buchholl/scratch/software/fridge/analysis/oscnext_sterile/sterile_analysis/verification_sample_output/FLERCNN_v12_ext_holeice_rd_test/sterile_mixing_angles/contour_scan/free-fit'\n",
    "flercnn_scan_test_pt_path_init_bfp = '/afs/ifh.de/user/b/buchholl/scratch/software/fridge/analysis/oscnext_sterile/sterile_analysis/verification_sample_output/FLERCNN_v12_ext_holeice_rd_test_init_bfp/sterile_mixing_angles/contour_scan/free-fit/'"
   ]
  },
  {
   "cell_type": "code",
   "execution_count": 74,
   "id": "bc28465c-ebed-4025-8ffb-01f345a9ebf3",
   "metadata": {},
   "outputs": [],
   "source": [
    "metadata_flercnn_rd, best_fit_result_flercnn_rd = results_parsing.parse_fit_directory(\n",
    "    flercnn_scan_test_pt_path, reparse=True\n",
    ")\n",
    "\n",
    "metadata_flercnn_rd_init_bfp, best_fit_result_flercnn_rd_init_bfp = results_parsing.parse_fit_directory(\n",
    "    flercnn_scan_test_pt_path_init_bfp, reparse=True\n",
    ")"
   ]
  },
  {
   "cell_type": "code",
   "execution_count": 75,
   "id": "41ea5585-f515-448f-a11d-b0f129521be6",
   "metadata": {},
   "outputs": [],
   "source": [
    "hypo_fit_result_flercnn_rd = best_fit_result_flercnn_rd[\"fit_result\"]\n",
    "params_flercnn_rd = hypo_fit_result_flercnn_rd.params\n",
    "metric_flercnn_rd = hypo_fit_result_flercnn_rd.metric_val\n",
    "\n",
    "hypo_fit_result_flercnn_rd_init_bfp = best_fit_result_flercnn_rd_init_bfp[\"fit_result\"]\n",
    "params_flercnn_rd_init_bfp = hypo_fit_result_flercnn_rd_init_bfp.params\n",
    "metric_flercnn_rd_init_bfp = hypo_fit_result_flercnn_rd_init_bfp.metric_val"
   ]
  },
  {
   "cell_type": "code",
   "execution_count": 76,
   "id": "a8d91a1b-098a-4d1d-ab5d-4bca4be08f94",
   "metadata": {},
   "outputs": [
    {
     "data": {
      "text/html": [
       "<table>\n",
       "<thead>\n",
       "<tr><th style=\"text-align: right;\">        name</th><th style=\"text-align: center;\">   value   </th><th style=\"text-align: center;\"> nominal_value </th><th style=\"text-align: center;\">          range           </th><th style=\"text-align: center;\"> prior  </th><th style=\"text-align: center;\">      units       </th><th style=\"text-align: center;\"> is_fixed </th></tr>\n",
       "</thead>\n",
       "<tbody>\n",
       "<tr><td style=\"text-align: right;\"> delta_index</td><td style=\"text-align: center;\">0.00578069 </td><td style=\"text-align: center;\">       0       </td><td style=\"text-align: center;\">       [-0.5, 0.5]        </td><td style=\"text-align: center;\">+/- 0.1 </td><td style=\"text-align: center;\">  dimensionless   </td><td style=\"text-align: center;\">  False   </td></tr>\n",
       "<tr><td style=\"text-align: right;\">   barr_g_Pi</td><td style=\"text-align: center;\">-0.0133266 </td><td style=\"text-align: center;\">       0       </td><td style=\"text-align: center;\">       [-1.5, 1.5]        </td><td style=\"text-align: center;\">+/- 0.3 </td><td style=\"text-align: center;\">  dimensionless   </td><td style=\"text-align: center;\">  False   </td></tr>\n",
       "<tr><td style=\"text-align: right;\">   barr_h_Pi</td><td style=\"text-align: center;\">-0.0108939 </td><td style=\"text-align: center;\">       0       </td><td style=\"text-align: center;\">      [-0.75, 0.75]       </td><td style=\"text-align: center;\">+/- 0.15</td><td style=\"text-align: center;\">  dimensionless   </td><td style=\"text-align: center;\">  False   </td></tr>\n",
       "<tr><td style=\"text-align: right;\">   barr_i_Pi</td><td style=\"text-align: center;\">0.00916899 </td><td style=\"text-align: center;\">       0       </td><td style=\"text-align: center;\">      [-3.05, 3.05]       </td><td style=\"text-align: center;\">+/- 0.61</td><td style=\"text-align: center;\">  dimensionless   </td><td style=\"text-align: center;\">  False   </td></tr>\n",
       "<tr><td style=\"text-align: right;\">    barr_w_K</td><td style=\"text-align: center;\">-0.0108586 </td><td style=\"text-align: center;\">       0       </td><td style=\"text-align: center;\">       [-2.0, 2.0]        </td><td style=\"text-align: center;\">+/- 0.4 </td><td style=\"text-align: center;\">  dimensionless   </td><td style=\"text-align: center;\">  False   </td></tr>\n",
       "<tr><td style=\"text-align: right;\">    barr_y_K</td><td style=\"text-align: center;\">-0.0101611 </td><td style=\"text-align: center;\">       0       </td><td style=\"text-align: center;\">       [-1.5, 1.5]        </td><td style=\"text-align: center;\">+/- 0.3 </td><td style=\"text-align: center;\">  dimensionless   </td><td style=\"text-align: center;\">  False   </td></tr>\n",
       "<tr><td style=\"text-align: right;\">   deltacp24</td><td style=\"text-align: center;\">7.68951e-06</td><td style=\"text-align: center;\">      90       </td><td style=\"text-align: center;\">         [0, 180]         </td><td style=\"text-align: center;\">uniform </td><td style=\"text-align: center;\">      degree      </td><td style=\"text-align: center;\">  False   </td></tr>\n",
       "<tr><td style=\"text-align: right;\">     theta23</td><td style=\"text-align: center;\">  44.6433  </td><td style=\"text-align: center;\">     49.7      </td><td style=\"text-align: center;\">         [20, 70]         </td><td style=\"text-align: center;\">        </td><td style=\"text-align: center;\">      degree      </td><td style=\"text-align: center;\">  False   </td></tr>\n",
       "<tr><td style=\"text-align: right;\">    deltam31</td><td style=\"text-align: center;\">0.00247066 </td><td style=\"text-align: center;\">   0.002525    </td><td style=\"text-align: center;\">      [0.002, 0.003]      </td><td style=\"text-align: center;\">        </td><td style=\"text-align: center;\">electron_volt ** 2</td><td style=\"text-align: center;\">  False   </td></tr>\n",
       "<tr><td style=\"text-align: right;\"> Genie_Ma_QE</td><td style=\"text-align: center;\"> 0.0660948 </td><td style=\"text-align: center;\">       0       </td><td style=\"text-align: center;\">       [-2.0, 2.0]        </td><td style=\"text-align: center;\">+/- 1.0 </td><td style=\"text-align: center;\">  dimensionless   </td><td style=\"text-align: center;\">  False   </td></tr>\n",
       "<tr><td style=\"text-align: right;\">Genie_Ma_RES</td><td style=\"text-align: center;\"> 0.199292  </td><td style=\"text-align: center;\">       0       </td><td style=\"text-align: center;\">       [-2.0, 2.0]        </td><td style=\"text-align: center;\">+/- 1.0 </td><td style=\"text-align: center;\">  dimensionless   </td><td style=\"text-align: center;\">  False   </td></tr>\n",
       "<tr><td style=\"text-align: right;\">    dis_csms</td><td style=\"text-align: center;\"> -0.164527 </td><td style=\"text-align: center;\">       0       </td><td style=\"text-align: center;\">       [-3.0, 3.0]        </td><td style=\"text-align: center;\">+/- 1.0 </td><td style=\"text-align: center;\">  dimensionless   </td><td style=\"text-align: center;\">  False   </td></tr>\n",
       "<tr><td style=\"text-align: right;\">  aeff_scale</td><td style=\"text-align: center;\">  1.00151  </td><td style=\"text-align: center;\">       1       </td><td style=\"text-align: center;\">        [0.1, 2.0]        </td><td style=\"text-align: center;\">uniform </td><td style=\"text-align: center;\">  dimensionless   </td><td style=\"text-align: center;\">  False   </td></tr>\n",
       "<tr><td style=\"text-align: right;\">weight_scale</td><td style=\"text-align: center;\"> 0.897398  </td><td style=\"text-align: center;\">       1       </td><td style=\"text-align: center;\">[0.09999999999999998, 3.0]</td><td style=\"text-align: center;\">+/- 0.4 </td><td style=\"text-align: center;\">  dimensionless   </td><td style=\"text-align: center;\">  False   </td></tr>\n",
       "<tr><td style=\"text-align: right;\">     theta24</td><td style=\"text-align: center;\"> 0.0113858 </td><td style=\"text-align: center;\">   0.0113858   </td><td style=\"text-align: center;\">        [0.0, 45]         </td><td style=\"text-align: center;\">        </td><td style=\"text-align: center;\">      radian      </td><td style=\"text-align: center;\">  False   </td></tr>\n",
       "<tr><td style=\"text-align: right;\">     theta34</td><td style=\"text-align: center;\"> 0.080123  </td><td style=\"text-align: center;\">   0.080123    </td><td style=\"text-align: center;\">        [0.0, 45]         </td><td style=\"text-align: center;\">        </td><td style=\"text-align: center;\">      radian      </td><td style=\"text-align: center;\">  False   </td></tr>\n",
       "</tbody>\n",
       "</table>"
      ],
      "text/plain": [
       "         name |    value    |  nominal_value  |           range            |  prior   |       units        |  is_fixed\n",
       "--------------+-------------+-----------------+----------------------------+----------+--------------------+------------\n",
       "  delta_index | 0.00578069  |        0        |        [-0.5, 0.5]         | +/- 0.1  |   dimensionless    |   False\n",
       "    barr_g_Pi | -0.0133266  |        0        |        [-1.5, 1.5]         | +/- 0.3  |   dimensionless    |   False\n",
       "    barr_h_Pi | -0.0108939  |        0        |       [-0.75, 0.75]        | +/- 0.15 |   dimensionless    |   False\n",
       "    barr_i_Pi | 0.00916899  |        0        |       [-3.05, 3.05]        | +/- 0.61 |   dimensionless    |   False\n",
       "     barr_w_K | -0.0108586  |        0        |        [-2.0, 2.0]         | +/- 0.4  |   dimensionless    |   False\n",
       "     barr_y_K | -0.0101611  |        0        |        [-1.5, 1.5]         | +/- 0.3  |   dimensionless    |   False\n",
       "    deltacp24 | 7.68951e-06 |       90        |          [0, 180]          | uniform  |       degree       |   False\n",
       "      theta23 |   44.6433   |      49.7       |          [20, 70]          |          |       degree       |   False\n",
       "     deltam31 | 0.00247066  |    0.002525     |       [0.002, 0.003]       |          | electron_volt ** 2 |   False\n",
       "  Genie_Ma_QE |  0.0660948  |        0        |        [-2.0, 2.0]         | +/- 1.0  |   dimensionless    |   False\n",
       " Genie_Ma_RES |  0.199292   |        0        |        [-2.0, 2.0]         | +/- 1.0  |   dimensionless    |   False\n",
       "     dis_csms |  -0.164527  |        0        |        [-3.0, 3.0]         | +/- 1.0  |   dimensionless    |   False\n",
       "   aeff_scale |   1.00151   |        1        |         [0.1, 2.0]         | uniform  |   dimensionless    |   False\n",
       " weight_scale |  0.897398   |        1        | [0.09999999999999998, 3.0] | +/- 0.4  |   dimensionless    |   False\n",
       "      theta24 |  0.0113858  |    0.0113858    |         [0.0, 45]          |          |       radian       |   False\n",
       "      theta34 |  0.080123   |    0.080123     |         [0.0, 45]          |          |       radian       |   False"
      ]
     },
     "execution_count": 76,
     "metadata": {},
     "output_type": "execute_result"
    }
   ],
   "source": [
    "params_flercnn_rd.free"
   ]
  },
  {
   "cell_type": "code",
   "execution_count": 77,
   "id": "0426db91-6242-47eb-8414-634d3d5674be",
   "metadata": {},
   "outputs": [],
   "source": [
    "chi2_flercnn_pts = []\n",
    "th24_flercnn_pts = []\n",
    "th34_flercnn_pts = []\n",
    "th24_nominal_flercnn_pts = []\n",
    "th34_nominal_flercnn_pts = []\n",
    "\n",
    "scan_path = '/afs/ifh.de/user/b/buchholl/scratch/software/fridge/analysis/oscnext_sterile/sterile_analysis/verification_sample_output/FLERCNN_v12_ext_holeice_rd_test_init_bfp/sterile_mixing_angles/contour_scan/'\n",
    "\n",
    "for num in range(420):\n",
    "    scanpt_str = 'scan-point-fit-%06d' % num\n",
    "    if num in []:\n",
    "        continue\n",
    "\n",
    "    _, bfp = results_parsing.parse_fit_directory(\n",
    "    scan_path+scanpt_str, reparse=True\n",
    "    )\n",
    "    \n",
    "    chi2_flercnn_pts.append(bfp['fit_result'].metric_val)\n",
    "    th24_flercnn_pts.append(bfp['fit_result'].params.theta24.value)\n",
    "    th34_flercnn_pts.append(bfp['fit_result'].params.theta34.value)\n",
    "    th24_nominal_flercnn_pts.append(bfp['fit_result'].params.theta24.nominal_value)\n",
    "    th34_nominal_flercnn_pts.append(bfp['fit_result'].params.theta34.nominal_value)"
   ]
  },
  {
   "cell_type": "code",
   "execution_count": 78,
   "id": "dbef01f1-e69f-45b2-bbbf-45a4a7d25586",
   "metadata": {},
   "outputs": [
    {
     "data": {
      "text/plain": [
       "theta34, value: 0.08012297848429634 radian, nominal_value: 0.08012297848429634 radian, range: (<Quantity(0.0, 'degree')>, <Quantity(45, 'degree')>), prior: None, is_fixed: False"
      ]
     },
     "execution_count": 78,
     "metadata": {},
     "output_type": "execute_result"
    }
   ],
   "source": [
    "params_flercnn_rd.theta34"
   ]
  },
  {
   "cell_type": "code",
   "execution_count": 79,
   "id": "b6fac3a4-59de-4596-9d8c-bb554d800d19",
   "metadata": {},
   "outputs": [
    {
     "name": "stdout",
     "output_type": "stream",
     "text": [
      "[ WARNING] /tmp/ipykernel_3166226/4277230118.py:1: UnitStrippedWarning: The unit of the quantity is stripped when downcasting to ndarray.\n",
      "  u_mu4_sq_flercnn=np.sin(np.array(th24_flercnn_pts))**2\n",
      "\n",
      "[ WARNING] /tmp/ipykernel_3166226/4277230118.py:2: UnitStrippedWarning: The unit of the quantity is stripped when downcasting to ndarray.\n",
      "  u_tau4_sq_flercnn=np.sin(np.array(th34_flercnn_pts))**2*np.cos(np.array(th24_flercnn_pts))**2\n",
      "\n",
      "[ WARNING] /tmp/ipykernel_3166226/4277230118.py:4: UnitStrippedWarning: The unit of the quantity is stripped when downcasting to ndarray.\n",
      "  u_mu4_sq_nominal_flercnn=np.sin(np.array(th24_nominal_flercnn_pts))**2\n",
      "\n",
      "[ WARNING] /tmp/ipykernel_3166226/4277230118.py:5: UnitStrippedWarning: The unit of the quantity is stripped when downcasting to ndarray.\n",
      "  u_tau4_sq_nominal_flercnn=np.sin(np.array(th34_nominal_flercnn_pts))**2*np.cos(np.array(th24_nominal_flercnn_pts))**2\n",
      "\n"
     ]
    }
   ],
   "source": [
    "u_mu4_sq_flercnn=np.sin(np.array(th24_flercnn_pts))**2\n",
    "u_tau4_sq_flercnn=np.sin(np.array(th34_flercnn_pts))**2*np.cos(np.array(th24_flercnn_pts))**2\n",
    "\n",
    "u_mu4_sq_nominal_flercnn=np.sin(np.array(th24_nominal_flercnn_pts))**2\n",
    "u_tau4_sq_nominal_flercnn=np.sin(np.array(th34_nominal_flercnn_pts))**2*np.cos(np.array(th24_nominal_flercnn_pts))**2"
   ]
  },
  {
   "cell_type": "code",
   "execution_count": 80,
   "id": "1a1594e5-d7aa-47b2-b350-8a00206a0062",
   "metadata": {},
   "outputs": [
    {
     "data": {
      "image/png": "[encoded data removed]",
      "text/plain": [
       "<Figure size 900x600 with 1 Axes>"
      ]
     },
     "metadata": {},
     "output_type": "display_data"
    }
   ],
   "source": [
    "plt.figure(figsize=(9,6))\n",
    "plt.plot(u_mu4_sq_nominal_flercnn,u_tau4_sq_nominal_flercnn, linestyle = '',color='blue',marker='+',lw=2.,markersize=10,\n",
    "        label='nominal injected')\n",
    "plt.plot(u_mu4_sq_flercnn,u_tau4_sq_flercnn, linestyle = '',color='red',marker='x',lw=2.,markersize=10,\n",
    "        label='Fitted')\n",
    "#plt.plot(flercnn_pd_no_detsys_contours[:, 0],flercnn_pd_no_detsys_contours[:, 1], linestyle = \"dotted\",color='red',\n",
    "#        label='FLERCNN adjusted PID-binning pseudodata Contours without det. sys.')\n",
    "plt.legend(\n",
    "    fontsize=9,\n",
    "    loc=\"upper center\",\n",
    ")\n",
    "plt.xlim((1e-3, 0.2))\n",
    "plt.ylim((3e-3, 1))            \n",
    "plt.ylabel(r\"$|U_{\\tau 4}|^2 = \\sin^2\\theta_{34}\\cdot\\cos^2\\theta_{24}$\")\n",
    "plt.xlabel(r\"$|U_{\\mu 4}|^2 = \\sin^2\\theta_{24}$\")\n",
    "plt.yscale('log')\n",
    "plt.xscale('log')"
   ]
  },
  {
   "cell_type": "code",
   "execution_count": 85,
   "id": "96ec9e70-1c65-4339-9a62-9e4da4217d7b",
   "metadata": {},
   "outputs": [],
   "source": [
    "vs_no_detsys_path = '/afs/ifh.de/user/b/buchholl/scratch/software/fridge/analysis/oscnext_sterile/sterile_analysis/verification_sample_output/REAL_DATA_FIT_v12_ext_holeice_no_detsys/sterile_mixing_angles/contour_scan/'"
   ]
  },
  {
   "cell_type": "code",
   "execution_count": 86,
   "id": "b4a4b3f4-08c9-4e3c-a033-3f756232aad7",
   "metadata": {},
   "outputs": [
    {
     "name": "stdout",
     "output_type": "stream",
     "text": [
      "0 0.00019587696585954267\n",
      "1 0.00018686242414236903\n",
      "2 0.0001921961064423692\n",
      "3 0.00017544901360553675\n",
      "4 0.0001667060299319634\n",
      "5 0.00020826078833428003\n",
      "6 0.00033403341671785284\n",
      "7 0.0008484987811726689\n",
      "8 0.002541682762629587\n",
      "9 0.00832089993843802\n",
      "10 0.028576624574091977\n",
      "11 0.10421697639985411\n",
      "12 0.40708086130106425\n",
      "13 1.624872253993532\n",
      "14 6.090729818998922\n",
      "15 20.29624562244275\n",
      "16 57.28915827683649\n",
      "17 117.68522521312826\n",
      "18 182.61580521682\n",
      "19 287.8354213991124\n",
      "20 0.0003549948645809869\n",
      "21 0.0003432735691975602\n",
      "22 0.00033478986851779376\n",
      "23 0.0003210258981684908\n",
      "24 0.0003142262098840079\n",
      "25 0.0003244521430213334\n",
      "26 0.0004359567224329416\n",
      "27 0.0008974705834898509\n",
      "28 0.0027361245404066556\n",
      "29 0.008129691648791546\n",
      "30 0.027819816318272655\n",
      "31 0.10110825514960822\n",
      "32 0.39362425478336543\n",
      "33 1.576375907608034\n",
      "34 5.948489567602207\n",
      "35 19.945597824322714\n",
      "36 56.65861960028908\n",
      "37 116.74813084141965\n",
      "38 180.4739081496713\n",
      "39 284.17196998907235\n",
      "40 0.0006291376344632727\n",
      "41 0.0006242165926222023\n",
      "42 0.0006137028869824144\n",
      "43 0.0005996979602198326\n",
      "44 0.0005857809318311716\n",
      "45 0.0005897948887204953\n",
      "46 0.000685787718643851\n",
      "47 0.0011134218788612167\n",
      "48 0.0026869115091828644\n",
      "49 0.008112682662645865\n",
      "50 0.02721058971818855\n",
      "51 0.09780827927885438\n",
      "52 0.37768698683287777\n",
      "53 1.513698623576317\n",
      "54 5.759479556289529\n",
      "55 19.49247888177525\n",
      "56 55.82153557472871\n",
      "57 115.7946310490171\n",
      "58 178.19243243607468\n",
      "59 280.035370631996\n",
      "60 0.0011363079139257567\n",
      "61 0.0011334863659047847\n",
      "62 0.0011554877568736546\n",
      "63 0.0011116705656310393\n",
      "64 0.0010959859317445212\n",
      "65 0.001103001743135953\n",
      "66 0.0011973147097921516\n",
      "67 0.0016185886196440956\n",
      "68 0.003159505580220577\n",
      "69 0.008487860641334237\n",
      "70 0.02706204776322035\n",
      "71 0.09481182923153497\n",
      "72 0.35998238440046354\n",
      "73 1.4377882536002025\n",
      "74 5.520615496570002\n",
      "75 18.907538517903447\n",
      "76 54.722169903288886\n",
      "77 114.7763907778585\n",
      "78 175.82823253363196\n",
      "79 275.3925487175833\n",
      "80 0.002000038969760801\n",
      "81 0.0020035317306795015\n",
      "82 0.0020653352887234815\n",
      "83 0.0020173819761092953\n",
      "84 0.0020260310392911903\n",
      "85 0.0020589788954779153\n",
      "86 0.002189103628322071\n",
      "87 0.0026602363560571897\n",
      "88 0.004270207000200498\n",
      "89 0.009658971945137165\n",
      "90 0.0279721459441972\n",
      "91 0.09312717458791642\n",
      "92 0.3423418651580111\n",
      "93 1.3504062902203182\n",
      "94 5.227114331465097\n",
      "95 18.164716209855914\n",
      "96 53.29433061732489\n",
      "97 114.06381432953637\n",
      "98 173.4822251270567\n",
      "99 270.2248243968704\n",
      "100 0.0035285997238287637\n",
      "101 0.003564568365252644\n",
      "102 0.0035986058833357075\n",
      "103 0.003640770279864426\n",
      "104 0.003700606595811547\n",
      "105 0.003803369720551526\n",
      "106 0.00404121951711135\n",
      "107 0.004681522125816405\n",
      "108 0.006561821673672597\n",
      "109 0.012360532608269043\n",
      "110 0.03104279498446522\n",
      "111 0.09464873636664517\n",
      "112 0.3285470749340037\n",
      "113 1.257732841680395\n",
      "114 4.8804401345017405\n",
      "115 17.241857586929573\n",
      "116 51.46496381257927\n",
      "117 111.27313144518028\n",
      "118 171.32440755033954\n",
      "119 264.53702460206097\n",
      "120 0.0062400923114845986\n",
      "121 0.006330433597305345\n",
      "122 0.006415785167238947\n",
      "123 0.006527308081986346\n",
      "124 0.006711127689977753\n",
      "125 0.006952486944965003\n",
      "126 0.007435095682015118\n",
      "127 0.008471856441996963\n",
      "128 0.011013670987920072\n",
      "129 0.01793975624927887\n",
      "130 0.038264276155005356\n",
      "131 0.10277995463690386\n",
      "132 0.32551890961463187\n",
      "133 1.1739544098392927\n",
      "134 4.496484256767767\n",
      "135 16.13249456060181\n",
      "136 49.16831197792343\n",
      "137 108.71264973468608\n",
      "138 169.63232189412312\n",
      "139 258.38103457514205\n",
      "140 0.011055849495315406\n",
      "141 0.011211899159831135\n",
      "142 0.011408263420508068\n",
      "143 0.01166949246418828\n",
      "144 0.012036292314780754\n",
      "145 0.012610387786235928\n",
      "146 0.01359046557567392\n",
      "147 0.015448055601186676\n",
      "148 0.01938861108842829\n",
      "149 0.028729036816629246\n",
      "150 0.05321823158646041\n",
      "151 0.12352515921944587\n",
      "152 0.3450619709107242\n",
      "153 1.1260516409036334\n",
      "154 4.11937845663757\n",
      "155 14.868514362645485\n",
      "156 46.36751068691847\n",
      "157 105.49357768825054\n",
      "158 166.69362472840152\n",
      "159 251.8879127597785\n",
      "160 0.019696324021866492\n",
      "161 0.019989612224693913\n",
      "162 0.02037004054722008\n",
      "163 0.020886174328148547\n",
      "164 0.021636782180044382\n",
      "165 0.02280098377138292\n",
      "166 0.024734834131002574\n",
      "167 0.02819060224004384\n",
      "168 0.03489310032506546\n",
      "169 0.04913139806911597\n",
      "170 0.08237858067355214\n",
      "171 0.16751536370717907\n",
      "172 0.4068328195799584\n",
      "173 1.1589507060362516\n",
      "174 3.842635989990359\n",
      "175 13.562995809539883\n",
      "176 43.10941273539477\n",
      "177 101.57551664546881\n",
      "178 163.2587293684595\n",
      "179 245.31720369915553\n",
      "180 0.035521376824788106\n",
      "181 0.036045644885656786\n",
      "182 0.036829652227509765\n",
      "183 0.03770583574078055\n",
      "184 0.03913105395773237\n",
      "185 0.04136657584205536\n",
      "186 0.04509367519403289\n",
      "187 0.05152822524747276\n",
      "188 0.06349027002044506\n",
      "189 0.08716518661417935\n",
      "190 0.13763694386143968\n",
      "191 0.25393430168807923\n",
      "192 0.5443601523218252\n",
      "193 1.3415152768975525\n",
      "194 3.8335405507197695\n",
      "195 12.484322266289237\n",
      "196 39.63174938568496\n",
      "197 97.05404500403883\n",
      "198 159.16050824918003\n",
      "199 239.13152558258062\n",
      "200 0.06560928883098005\n",
      "201 0.06654956535746574\n",
      "202 0.06766827151933863\n",
      "203 0.06935356776219548\n",
      "204 0.07191321535476446\n",
      "205 0.0760238895851684\n",
      "206 0.08288832390838377\n",
      "207 0.09487814246699101\n",
      "208 0.11665350826486333\n",
      "209 0.15810891360914364\n",
      "210 0.24132923722636218\n",
      "211 0.41823612119582937\n",
      "212 0.817492615307307\n",
      "213 1.7818725062876721\n",
      "214 4.345657537135585\n",
      "215 12.16383353620993\n",
      "216 36.564617924009525\n",
      "217 92.28294684590443\n",
      "218 154.5857313137895\n",
      "219 235.58444513157065\n",
      "220 0.1267105918259715\n",
      "221 0.12797886650509968\n",
      "222 0.12970060227710478\n",
      "223 0.13228058934213305\n",
      "224 0.13644517158394073\n",
      "225 0.1434919133706104\n",
      "226 0.15577982126109793\n",
      "227 0.17765836388352518\n",
      "228 0.21748038225724242\n",
      "229 0.29203056577701825\n",
      "230 0.4365221746920592\n",
      "231 0.7275163979108723\n",
      "232 1.3370438412690762\n",
      "233 2.6679525991211386\n",
      "234 5.73395106480426\n",
      "235 13.477944147207673\n",
      "236 35.27162608104498\n",
      "237 87.56600389805838\n",
      "238 150.01795568134744\n",
      "239 229.8417255120267\n",
      "240 0.2652658209390757\n",
      "241 0.2661030185991606\n",
      "242 0.2672028875677681\n",
      "243 0.2694361084509542\n",
      "244 0.2742759148746047\n",
      "245 0.28443225702958885\n",
      "246 0.30457557335067237\n",
      "247 0.3430339204695827\n",
      "248 0.4151550510069981\n",
      "249 0.5505598920868207\n",
      "250 0.808613859958683\n",
      "251 1.3111437063600508\n",
      "252 2.312023257544613\n",
      "253 4.3471716415561765\n",
      "254 8.5707351211455\n",
      "255 17.601639809515195\n",
      "256 38.24842761500911\n",
      "257 85.37310517622048\n",
      "258 146.54956343211197\n",
      "259 224.78677421119895\n",
      "260 0.628175818870574\n",
      "261 0.6280419558276332\n",
      "262 0.6208669184606079\n",
      "263 0.6132425070198064\n",
      "264 0.608551305018362\n",
      "265 0.6128637239630857\n",
      "266 0.6364880138570552\n",
      "267 0.6964866185433731\n",
      "268 0.8219461420220973\n",
      "269 1.0661305048557685\n",
      "270 1.5320139248958031\n",
      "271 2.422783169988776\n",
      "272 4.139721437862416\n",
      "273 7.467368494669669\n",
      "274 13.903200991960277\n",
      "275 26.17410679783012\n",
      "276 49.01243260754219\n",
      "277 91.01683053368023\n",
      "278 146.68989333231193\n",
      "279 220.25998735398323\n",
      "280 1.7393995555563915\n",
      "281 1.7129127896938516\n",
      "282 1.6694030834729747\n",
      "283 1.6143745043764073\n",
      "284 1.554070706026676\n",
      "285 1.5009977973636939\n",
      "286 1.4796977152700501\n",
      "287 1.531509452557348\n",
      "288 1.7189293841159063\n",
      "289 2.1404933442972016\n",
      "290 2.9750582118816733\n",
      "291 4.567391248018003\n",
      "292 7.576598535231819\n",
      "293 13.223567364053954\n",
      "294 23.633571390256826\n",
      "295 42.0096814680602\n",
      "296 71.56302780754554\n",
      "297 112.02075019229575\n",
      "298 154.668739405401\n",
      "299 217.96559715666316\n",
      "300 5.137234493268985\n",
      "301 5.038531551140819\n",
      "302 4.888202184507837\n",
      "303 4.692656895619215\n",
      "304 4.4544436322679095\n",
      "305 4.188298441122783\n",
      "306 3.9363155022683904\n",
      "307 3.7897248850342367\n",
      "308 3.9086971812365388\n",
      "309 4.521098357838895\n",
      "310 5.948344562452396\n",
      "311 8.763060991153797\n",
      "312 14.052214973883824\n",
      "313 23.763561256660996\n",
      "314 41.02837824806968\n",
      "315 69.6781705202915\n",
      "316 110.47962795161803\n",
      "317 151.9418405864414\n",
      "318 176.27200175555492\n",
      "319 221.25313418149602\n",
      "320 14.87875987185516\n",
      "321 14.615118336963855\n",
      "322 14.50589166190031\n",
      "323 13.71172695409167\n",
      "324 13.05675635342077\n",
      "325 12.259117799548125\n",
      "326 11.359142693837834\n",
      "327 10.487860353492719\n",
      "328 9.948651530536313\n",
      "329 10.30528950302809\n",
      "330 12.349808802851168\n",
      "331 17.077178523114366\n",
      "332 26.18817703190977\n",
      "333 42.70906350236089\n",
      "334 71.05066396199771\n",
      "335 114.46489211106484\n",
      "336 166.58724906714832\n",
      "337 212.73954670555287\n",
      "338 222.60349327798605\n",
      "339 235.78455340518892\n",
      "340 40.08815748160893\n",
      "341 39.485460744700944\n",
      "342 38.66371496807689\n",
      "343 37.5667052488632\n",
      "344 36.13185720188771\n",
      "345 34.30645255519764\n",
      "346 32.08242613883983\n",
      "347 29.57054775701972\n",
      "348 27.14882497534158\n",
      "349 25.729272234122938\n",
      "350 27.08930117607708\n",
      "351 33.72818794460012\n",
      "352 48.40656756589818\n",
      "353 75.2212525923528\n",
      "354 118.96410652422392\n",
      "355 178.08949059587593\n",
      "356 253.36165083261315\n",
      "357 322.9545027410318\n",
      "358 306.09773488102877\n",
      "359 272.2248360918105\n",
      "360 96.13454370066225\n",
      "361 95.11138805625006\n",
      "362 93.71060108230603\n",
      "363 91.81876782164387\n",
      "364 89.2988745707633\n",
      "365 86.00279262728252\n",
      "366 81.8059813867132\n",
      "367 76.69156665295996\n",
      "368 70.93722201120373\n",
      "369 65.50640253929949\n",
      "370 62.79721340581244\n",
      "371 67.67009864065764\n",
      "372 86.85289273881975\n",
      "373 125.84065521575505\n",
      "374 186.04733243168155\n",
      "375 267.2061625370319\n",
      "376 391.3848798576933\n",
      "377 490.80210936257777\n",
      "378 425.22700186266326\n",
      "379 341.1149136591748\n",
      "380 192.25074136517412\n",
      "381 191.28945870249441\n",
      "382 189.9387162989495\n",
      "383 187.85296212418154\n",
      "384 184.95319470843233\n",
      "385 180.991455209391\n",
      "386 175.67973607455127\n",
      "387 168.74938957917345\n",
      "388 160.10422420300773\n",
      "389 150.23353140313344\n",
      "390 141.03480129598634\n",
      "391 137.32131881243714\n",
      "392 149.48908595851546\n",
      "393 192.06944668064492\n",
      "394 260.79413432780797\n",
      "395 365.5858210751605\n",
      "396 522.1932574311571\n",
      "397 622.2388610446544\n",
      "398 540.059041069591\n",
      "399 446.84407725907994\n",
      "400 312.4725892980277\n",
      "401 311.1718212794925\n",
      "402 309.85791887088783\n",
      "403 308.50560812429876\n",
      "404 306.7563997796644\n",
      "405 303.8476970621619\n",
      "406 299.90283745010123\n",
      "407 294.71916875213327\n",
      "408 288.1303122141993\n",
      "409 279.95581278031733\n",
      "410 270.4245612667482\n",
      "411 260.830936023417\n",
      "412 256.51538861438763\n",
      "413 270.21401742572516\n",
      "414 319.39410854181824\n",
      "415 394.9350866847532\n",
      "416 499.60454532859325\n",
      "417 585.124183415\n",
      "418 595.220179320814\n",
      "419 570.498153179073\n"
     ]
    }
   ],
   "source": [
    "for num in range(420):\n",
    "    scanpt_str = 'scan-point-fit-%06d' % num\n",
    "    if num in []:\n",
    "        continue\n",
    "\n",
    "    _, bfp = results_parsing.parse_fit_directory(\n",
    "    vs_no_detsys_path+scanpt_str, reparse=True\n",
    "    )\n",
    "    chi2_pt = bfp['fit_result'].metric_val\n",
    "    print(num,chi2_pt)"
   ]
  },
  {
   "cell_type": "code",
   "execution_count": null,
   "id": "a9b1d9f3-e0f6-4684-a017-e8302c886340",
   "metadata": {},
   "outputs": [],
   "source": []
  }
 ],
 "metadata": {
  "kernelspec": {
   "display_name": "Python 3 (ipykernel)",
   "language": "python",
   "name": "python3"
  },
  "language_info": {
   "codemirror_mode": {
    "name": "ipython",
    "version": 3
   },
   "file_extension": ".py",
   "mimetype": "text/x-python",
   "name": "python",
   "nbconvert_exporter": "python",
   "pygments_lexer": "ipython3",
   "version": "3.10.2"
  }
 },
 "nbformat": 4,
 "nbformat_minor": 5
}
