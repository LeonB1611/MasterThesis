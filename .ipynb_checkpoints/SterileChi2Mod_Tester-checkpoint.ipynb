{
 "cells": [
  {
   "cell_type": "code",
   "execution_count": 1,
   "id": "e6be5430-a7e2-4571-a771-7cd741c7a92d",
   "metadata": {},
   "outputs": [
    {
     "name": "stderr",
     "output_type": "stream",
     "text": [
      "<< PISA is running in double precision (FP64) mode; numba is running on CPU (single core) >>\n"
     ]
    }
   ],
   "source": [
    "import os,sys\n",
    "import numpy as np\n",
    "import matplotlib.pyplot as plt\n",
    "import math as m\n",
    "import nuSQUIDSpy as nsq\n",
    "import pisa\n",
    "import h5py as hdf"
   ]
  },
  {
   "cell_type": "code",
   "execution_count": 2,
   "id": "c1c6371c-15af-4be9-9dbd-8126c75d0b81",
   "metadata": {},
   "outputs": [],
   "source": [
    "from pisa.core.distribution_maker import DistributionMaker\n",
    "from pisa import ureg as units"
   ]
  },
  {
   "cell_type": "code",
   "execution_count": 3,
   "id": "5694a238-0e89-4f13-833c-2fa94953c2ea",
   "metadata": {},
   "outputs": [],
   "source": [
    "U_24_bestfit = 0.16\n",
    "deltam14sq_bestfit = 3.5 * units.eV**2\n",
    "th24_bestfit = 0.5*(np.arcsin(np.sqrt(U_24_bestfit)) * units.rad).to('degree')\n",
    "\n",
    "pipepath = '/afs/ifh.de/user/b/buchholl/scratch/software/fridge/analysis/oscNext_flercnn_sterile/settings/pipeline/'"
   ]
  },
  {
   "cell_type": "code",
   "execution_count": 4,
   "id": "adf49a9f-56eb-468c-8a63-b555a61e24bf",
   "metadata": {},
   "outputs": [],
   "source": [
    "def neuconfigToTemplate(neucfg):\n",
    "    pipe = [neucfg]\n",
    "    template = DistributionMaker(pipe)\n",
    "\n",
    "    return template"
   ]
  },
  {
   "cell_type": "code",
   "execution_count": 5,
   "id": "20aeca40-afcd-44c5-9604-a6d4e9fb4806",
   "metadata": {},
   "outputs": [],
   "source": [
    "def calculateChi2ModOsc(self_template,th24,th34,metric='mod_chi2'):\n",
    "    self_template.params.theta24.value = 0.0*units.degree\n",
    "    self_template.params.theta34.value = 0.0*units.degree    \n",
    "    self = self_template.get_outputs(return_sum=True)[0]\n",
    "\n",
    "    self_template.params.theta24.value = float(th24)*units.degree\n",
    "    self_template.params.theta34.value = float(th34)*units.degree\n",
    "    self_template.params.deltam41.value = 1.0 * units.eV**2\n",
    "\n",
    "    oscillated_template = self_template.get_outputs(return_sum=True)[0]\n",
    "    \n",
    "    return oscillated_template.metric_total(self,metric)"
   ]
  },
  {
   "cell_type": "code",
   "execution_count": 6,
   "id": "70f30c84-811b-4751-b373-b5c63f3c5b5a",
   "metadata": {},
   "outputs": [],
   "source": [
    "vs_cfg = pipepath+\"neutrinos_mixing_angles_vs.cfg\"\n",
    "flercnn_std_cfg = pipepath+'pipeline_oscNext_neutrinos_2std_osc_nh_flercnn.cfg'\n",
    "flercnn_cfg = pipepath+'pipeline_oscNext_neutrinos_nsq_test.cfg'\n",
    "y_cfg = [pipepath+'pipeline_oscNext_neutrinos_std_osc_nh_noysplit_mixed.cfg',\n",
    "         pipepath+'pipeline_oscNext_neutrinos_std_osc_nh_ysplit_mixed.cfg',\n",
    "         pipepath+'pipeline_oscNext_neutrinos_std_osc_nh_noysplit_tracks.cfg',\n",
    "         pipepath+'pipeline_oscNext_neutrinos_std_osc_nh_ysplit_tracks.cfg']"
   ]
  },
  {
   "cell_type": "code",
   "execution_count": 7,
   "id": "bd3a0b90-214d-4302-aa4c-602624a54e4d",
   "metadata": {},
   "outputs": [],
   "source": [
    "vs_chi2mod = []\n",
    "flercnn_chi2mod = []\n",
    "flercnn_std_chi2mod = []\n",
    "y_chi2mod = []"
   ]
  },
  {
   "cell_type": "code",
   "execution_count": 8,
   "id": "1f4048d8-4035-4b8f-ac43-a90671c1f109",
   "metadata": {},
   "outputs": [],
   "source": [
    "th24range = np.linspace(5,25,3)\n",
    "th34range = np.linspace(5,25,3)\n",
    "\n",
    "th24_th34_grid = []\n",
    "\n",
    "for i in th24range:\n",
    "    for j in th34range:\n",
    "        th24_th34_grid.append((i,j))"
   ]
  },
  {
   "cell_type": "code",
   "execution_count": 9,
   "id": "c4022496-fa49-45aa-8192-f8c51a948be8",
   "metadata": {},
   "outputs": [],
   "source": [
    "for th24,th34 in th24_th34_grid:\n",
    "    continue\n",
    "    th24=th24\n",
    "    th34=th34\n",
    "    \n",
    "    flercnn_chi2mod.append(calculateChi2ModOsc(neuconfigToTemplate(flercnn_cfg),th24,th34))\n",
    "    flercnn_std_chi2mod.append(calculateChi2ModOsc(neuconfigToTemplate(flercnn_std_cfg),th24,th34))\n",
    "    vs_chi2mod.append(calculateChi2ModOsc(neuconfigToTemplate(vs_cfg),th24,th34))\n",
    "    \n",
    "    ystorage = 0\n",
    "    for cfg in y_cfg:\n",
    "        ystorage+=calculateChi2ModOsc(neuconfigToTemplate(cfg),th24,th34)\n",
    "        \n",
    "    y_chi2mod.append(ystorage)"
   ]
  },
  {
   "cell_type": "code",
   "execution_count": 10,
   "id": "73648fae-120e-4858-9c39-6527d234e868",
   "metadata": {},
   "outputs": [
    {
     "ename": "ValueError",
     "evalue": "x and y must have same first dimension, but have shapes (9,) and (0,)",
     "output_type": "error",
     "traceback": [
      "\u001b[0;31m---------------------------------------------------------------------------\u001b[0m",
      "\u001b[0;31mValueError\u001b[0m                                Traceback (most recent call last)",
      "Cell \u001b[0;32mIn[10], line 1\u001b[0m\n\u001b[0;32m----> 1\u001b[0m \u001b[43mplt\u001b[49m\u001b[38;5;241;43m.\u001b[39;49m\u001b[43mplot\u001b[49m\u001b[43m(\u001b[49m\u001b[38;5;28;43mrange\u001b[39;49m\u001b[43m(\u001b[49m\u001b[38;5;28;43mlen\u001b[39;49m\u001b[43m(\u001b[49m\u001b[43mth24_th34_grid\u001b[49m\u001b[43m)\u001b[49m\u001b[43m)\u001b[49m\u001b[43m,\u001b[49m\u001b[43mnp\u001b[49m\u001b[38;5;241;43m.\u001b[39;49m\u001b[43marray\u001b[49m\u001b[43m(\u001b[49m\u001b[43mflercnn_chi2mod\u001b[49m\u001b[43m)\u001b[49m\u001b[38;5;241;43m/\u001b[39;49m\u001b[43m(\u001b[49m\u001b[38;5;241;43m180\u001b[39;49m\u001b[38;5;241;43m/\u001b[39;49m\u001b[43mnp\u001b[49m\u001b[38;5;241;43m.\u001b[39;49m\u001b[43mpi\u001b[49m\u001b[43m)\u001b[49m\u001b[43m,\u001b[49m\u001b[43mlabel\u001b[49m\u001b[38;5;241;43m=\u001b[39;49m\u001b[38;5;124;43m'\u001b[39;49m\u001b[38;5;124;43mFLERCNN Adjusted PID\u001b[39;49m\u001b[38;5;124;43m'\u001b[39;49m\u001b[43m,\u001b[49m\u001b[43mls\u001b[49m\u001b[38;5;241;43m=\u001b[39;49m\u001b[38;5;124;43m'\u001b[39;49m\u001b[38;5;124;43m'\u001b[39;49m\u001b[43m,\u001b[49m\u001b[43mmarker\u001b[49m\u001b[38;5;241;43m=\u001b[39;49m\u001b[38;5;124;43m'\u001b[39;49m\u001b[38;5;124;43m+\u001b[39;49m\u001b[38;5;124;43m'\u001b[39;49m\u001b[43m,\u001b[49m\u001b[43mlw\u001b[49m\u001b[38;5;241;43m=\u001b[39;49m\u001b[38;5;241;43m1.7\u001b[39;49m\u001b[43m)\u001b[49m\n\u001b[1;32m      2\u001b[0m plt\u001b[38;5;241m.\u001b[39mplot(\u001b[38;5;28mrange\u001b[39m(\u001b[38;5;28mlen\u001b[39m(th24_th34_grid)),np\u001b[38;5;241m.\u001b[39marray(flercnn_std_chi2mod)\u001b[38;5;241m/\u001b[39m(\u001b[38;5;241m180\u001b[39m\u001b[38;5;241m/\u001b[39mnp\u001b[38;5;241m.\u001b[39mpi),label\u001b[38;5;241m=\u001b[39m\u001b[38;5;124m'\u001b[39m\u001b[38;5;124mFLERCNN Standard\u001b[39m\u001b[38;5;124m'\u001b[39m,ls\u001b[38;5;241m=\u001b[39m\u001b[38;5;124m'\u001b[39m\u001b[38;5;124m'\u001b[39m,marker\u001b[38;5;241m=\u001b[39m\u001b[38;5;124m'\u001b[39m\u001b[38;5;124mo\u001b[39m\u001b[38;5;124m'\u001b[39m,lw\u001b[38;5;241m=\u001b[39m\u001b[38;5;241m0.7\u001b[39m)\n\u001b[1;32m      3\u001b[0m plt\u001b[38;5;241m.\u001b[39mplot(\u001b[38;5;28mrange\u001b[39m(\u001b[38;5;28mlen\u001b[39m(th24_th34_grid)),np\u001b[38;5;241m.\u001b[39marray(vs_chi2mod)\u001b[38;5;241m/\u001b[39m(\u001b[38;5;241m180\u001b[39m\u001b[38;5;241m/\u001b[39mnp\u001b[38;5;241m.\u001b[39mpi),label\u001b[38;5;241m=\u001b[39m\u001b[38;5;124m'\u001b[39m\u001b[38;5;124mVerification Sample\u001b[39m\u001b[38;5;124m'\u001b[39m,ls\u001b[38;5;241m=\u001b[39m\u001b[38;5;124m'\u001b[39m\u001b[38;5;124m'\u001b[39m,marker\u001b[38;5;241m=\u001b[39m\u001b[38;5;124m'\u001b[39m\u001b[38;5;124mo\u001b[39m\u001b[38;5;124m'\u001b[39m,lw\u001b[38;5;241m=\u001b[39m\u001b[38;5;241m0.7\u001b[39m)\n",
      "File \u001b[0;32m/afs/ifh.de/group/amanda/scratch/buchholl/software/snuvenv/lib/python3.10/site-packages/matplotlib/pyplot.py:3575\u001b[0m, in \u001b[0;36mplot\u001b[0;34m(scalex, scaley, data, *args, **kwargs)\u001b[0m\n\u001b[1;32m   3567\u001b[0m \u001b[38;5;129m@_copy_docstring_and_deprecators\u001b[39m(Axes\u001b[38;5;241m.\u001b[39mplot)\n\u001b[1;32m   3568\u001b[0m \u001b[38;5;28;01mdef\u001b[39;00m \u001b[38;5;21mplot\u001b[39m(\n\u001b[1;32m   3569\u001b[0m     \u001b[38;5;241m*\u001b[39margs: \u001b[38;5;28mfloat\u001b[39m \u001b[38;5;241m|\u001b[39m ArrayLike \u001b[38;5;241m|\u001b[39m \u001b[38;5;28mstr\u001b[39m,\n\u001b[0;32m   (...)\u001b[0m\n\u001b[1;32m   3573\u001b[0m     \u001b[38;5;241m*\u001b[39m\u001b[38;5;241m*\u001b[39mkwargs,\n\u001b[1;32m   3574\u001b[0m ) \u001b[38;5;241m-\u001b[39m\u001b[38;5;241m>\u001b[39m \u001b[38;5;28mlist\u001b[39m[Line2D]:\n\u001b[0;32m-> 3575\u001b[0m     \u001b[38;5;28;01mreturn\u001b[39;00m \u001b[43mgca\u001b[49m\u001b[43m(\u001b[49m\u001b[43m)\u001b[49m\u001b[38;5;241;43m.\u001b[39;49m\u001b[43mplot\u001b[49m\u001b[43m(\u001b[49m\n\u001b[1;32m   3576\u001b[0m \u001b[43m        \u001b[49m\u001b[38;5;241;43m*\u001b[39;49m\u001b[43margs\u001b[49m\u001b[43m,\u001b[49m\n\u001b[1;32m   3577\u001b[0m \u001b[43m        \u001b[49m\u001b[43mscalex\u001b[49m\u001b[38;5;241;43m=\u001b[39;49m\u001b[43mscalex\u001b[49m\u001b[43m,\u001b[49m\n\u001b[1;32m   3578\u001b[0m \u001b[43m        \u001b[49m\u001b[43mscaley\u001b[49m\u001b[38;5;241;43m=\u001b[39;49m\u001b[43mscaley\u001b[49m\u001b[43m,\u001b[49m\n\u001b[1;32m   3579\u001b[0m \u001b[43m        \u001b[49m\u001b[38;5;241;43m*\u001b[39;49m\u001b[38;5;241;43m*\u001b[39;49m\u001b[43m(\u001b[49m\u001b[43m{\u001b[49m\u001b[38;5;124;43m\"\u001b[39;49m\u001b[38;5;124;43mdata\u001b[39;49m\u001b[38;5;124;43m\"\u001b[39;49m\u001b[43m:\u001b[49m\u001b[43m \u001b[49m\u001b[43mdata\u001b[49m\u001b[43m}\u001b[49m\u001b[43m \u001b[49m\u001b[38;5;28;43;01mif\u001b[39;49;00m\u001b[43m \u001b[49m\u001b[43mdata\u001b[49m\u001b[43m \u001b[49m\u001b[38;5;129;43;01mis\u001b[39;49;00m\u001b[43m \u001b[49m\u001b[38;5;129;43;01mnot\u001b[39;49;00m\u001b[43m \u001b[49m\u001b[38;5;28;43;01mNone\u001b[39;49;00m\u001b[43m \u001b[49m\u001b[38;5;28;43;01melse\u001b[39;49;00m\u001b[43m \u001b[49m\u001b[43m{\u001b[49m\u001b[43m}\u001b[49m\u001b[43m)\u001b[49m\u001b[43m,\u001b[49m\n\u001b[1;32m   3580\u001b[0m \u001b[43m        \u001b[49m\u001b[38;5;241;43m*\u001b[39;49m\u001b[38;5;241;43m*\u001b[39;49m\u001b[43mkwargs\u001b[49m\u001b[43m,\u001b[49m\n\u001b[1;32m   3581\u001b[0m \u001b[43m    \u001b[49m\u001b[43m)\u001b[49m\n",
      "File \u001b[0;32m/afs/ifh.de/group/amanda/scratch/buchholl/software/snuvenv/lib/python3.10/site-packages/matplotlib/axes/_axes.py:1721\u001b[0m, in \u001b[0;36mAxes.plot\u001b[0;34m(self, scalex, scaley, data, *args, **kwargs)\u001b[0m\n\u001b[1;32m   1478\u001b[0m \u001b[38;5;250m\u001b[39m\u001b[38;5;124;03m\"\"\"\u001b[39;00m\n\u001b[1;32m   1479\u001b[0m \u001b[38;5;124;03mPlot y versus x as lines and/or markers.\u001b[39;00m\n\u001b[1;32m   1480\u001b[0m \n\u001b[0;32m   (...)\u001b[0m\n\u001b[1;32m   1718\u001b[0m \u001b[38;5;124;03m(``'green'``) or hex strings (``'#008000'``).\u001b[39;00m\n\u001b[1;32m   1719\u001b[0m \u001b[38;5;124;03m\"\"\"\u001b[39;00m\n\u001b[1;32m   1720\u001b[0m kwargs \u001b[38;5;241m=\u001b[39m cbook\u001b[38;5;241m.\u001b[39mnormalize_kwargs(kwargs, mlines\u001b[38;5;241m.\u001b[39mLine2D)\n\u001b[0;32m-> 1721\u001b[0m lines \u001b[38;5;241m=\u001b[39m [\u001b[38;5;241m*\u001b[39m\u001b[38;5;28mself\u001b[39m\u001b[38;5;241m.\u001b[39m_get_lines(\u001b[38;5;28mself\u001b[39m, \u001b[38;5;241m*\u001b[39margs, data\u001b[38;5;241m=\u001b[39mdata, \u001b[38;5;241m*\u001b[39m\u001b[38;5;241m*\u001b[39mkwargs)]\n\u001b[1;32m   1722\u001b[0m \u001b[38;5;28;01mfor\u001b[39;00m line \u001b[38;5;129;01min\u001b[39;00m lines:\n\u001b[1;32m   1723\u001b[0m     \u001b[38;5;28mself\u001b[39m\u001b[38;5;241m.\u001b[39madd_line(line)\n",
      "File \u001b[0;32m/afs/ifh.de/group/amanda/scratch/buchholl/software/snuvenv/lib/python3.10/site-packages/matplotlib/axes/_base.py:303\u001b[0m, in \u001b[0;36m_process_plot_var_args.__call__\u001b[0;34m(self, axes, data, *args, **kwargs)\u001b[0m\n\u001b[1;32m    301\u001b[0m     this \u001b[38;5;241m+\u001b[39m\u001b[38;5;241m=\u001b[39m args[\u001b[38;5;241m0\u001b[39m],\n\u001b[1;32m    302\u001b[0m     args \u001b[38;5;241m=\u001b[39m args[\u001b[38;5;241m1\u001b[39m:]\n\u001b[0;32m--> 303\u001b[0m \u001b[38;5;28;01myield from\u001b[39;00m \u001b[38;5;28;43mself\u001b[39;49m\u001b[38;5;241;43m.\u001b[39;49m\u001b[43m_plot_args\u001b[49m\u001b[43m(\u001b[49m\n\u001b[1;32m    304\u001b[0m \u001b[43m    \u001b[49m\u001b[43maxes\u001b[49m\u001b[43m,\u001b[49m\u001b[43m \u001b[49m\u001b[43mthis\u001b[49m\u001b[43m,\u001b[49m\u001b[43m \u001b[49m\u001b[43mkwargs\u001b[49m\u001b[43m,\u001b[49m\u001b[43m \u001b[49m\u001b[43mambiguous_fmt_datakey\u001b[49m\u001b[38;5;241;43m=\u001b[39;49m\u001b[43mambiguous_fmt_datakey\u001b[49m\u001b[43m)\u001b[49m\n",
      "File \u001b[0;32m/afs/ifh.de/group/amanda/scratch/buchholl/software/snuvenv/lib/python3.10/site-packages/matplotlib/axes/_base.py:499\u001b[0m, in \u001b[0;36m_process_plot_var_args._plot_args\u001b[0;34m(self, axes, tup, kwargs, return_kwargs, ambiguous_fmt_datakey)\u001b[0m\n\u001b[1;32m    496\u001b[0m     axes\u001b[38;5;241m.\u001b[39myaxis\u001b[38;5;241m.\u001b[39mupdate_units(y)\n\u001b[1;32m    498\u001b[0m \u001b[38;5;28;01mif\u001b[39;00m x\u001b[38;5;241m.\u001b[39mshape[\u001b[38;5;241m0\u001b[39m] \u001b[38;5;241m!=\u001b[39m y\u001b[38;5;241m.\u001b[39mshape[\u001b[38;5;241m0\u001b[39m]:\n\u001b[0;32m--> 499\u001b[0m     \u001b[38;5;28;01mraise\u001b[39;00m \u001b[38;5;167;01mValueError\u001b[39;00m(\u001b[38;5;124mf\u001b[39m\u001b[38;5;124m\"\u001b[39m\u001b[38;5;124mx and y must have same first dimension, but \u001b[39m\u001b[38;5;124m\"\u001b[39m\n\u001b[1;32m    500\u001b[0m                      \u001b[38;5;124mf\u001b[39m\u001b[38;5;124m\"\u001b[39m\u001b[38;5;124mhave shapes \u001b[39m\u001b[38;5;132;01m{\u001b[39;00mx\u001b[38;5;241m.\u001b[39mshape\u001b[38;5;132;01m}\u001b[39;00m\u001b[38;5;124m and \u001b[39m\u001b[38;5;132;01m{\u001b[39;00my\u001b[38;5;241m.\u001b[39mshape\u001b[38;5;132;01m}\u001b[39;00m\u001b[38;5;124m\"\u001b[39m)\n\u001b[1;32m    501\u001b[0m \u001b[38;5;28;01mif\u001b[39;00m x\u001b[38;5;241m.\u001b[39mndim \u001b[38;5;241m>\u001b[39m \u001b[38;5;241m2\u001b[39m \u001b[38;5;129;01mor\u001b[39;00m y\u001b[38;5;241m.\u001b[39mndim \u001b[38;5;241m>\u001b[39m \u001b[38;5;241m2\u001b[39m:\n\u001b[1;32m    502\u001b[0m     \u001b[38;5;28;01mraise\u001b[39;00m \u001b[38;5;167;01mValueError\u001b[39;00m(\u001b[38;5;124mf\u001b[39m\u001b[38;5;124m\"\u001b[39m\u001b[38;5;124mx and y can be no greater than 2D, but have \u001b[39m\u001b[38;5;124m\"\u001b[39m\n\u001b[1;32m    503\u001b[0m                      \u001b[38;5;124mf\u001b[39m\u001b[38;5;124m\"\u001b[39m\u001b[38;5;124mshapes \u001b[39m\u001b[38;5;132;01m{\u001b[39;00mx\u001b[38;5;241m.\u001b[39mshape\u001b[38;5;132;01m}\u001b[39;00m\u001b[38;5;124m and \u001b[39m\u001b[38;5;132;01m{\u001b[39;00my\u001b[38;5;241m.\u001b[39mshape\u001b[38;5;132;01m}\u001b[39;00m\u001b[38;5;124m\"\u001b[39m)\n",
      "\u001b[0;31mValueError\u001b[0m: x and y must have same first dimension, but have shapes (9,) and (0,)"
     ]
    },
    {
     "data": {
      "image/png": "[encoded data removed]",
      "text/plain": [
       "<Figure size 640x480 with 1 Axes>"
      ]
     },
     "metadata": {},
     "output_type": "display_data"
    }
   ],
   "source": [
    "plt.plot(range(len(th24_th34_grid)),np.array(flercnn_chi2mod)/(180/np.pi),label='FLERCNN Adjusted PID',ls='',marker='+',lw=1.7)\n",
    "plt.plot(range(len(th24_th34_grid)),np.array(flercnn_std_chi2mod)/(180/np.pi),label='FLERCNN Standard',ls='',marker='o',lw=0.7)\n",
    "plt.plot(range(len(th24_th34_grid)),np.array(vs_chi2mod)/(180/np.pi),label='Verification Sample',ls='',marker='o',lw=0.7)\n",
    "plt.plot(range(len(th24_th34_grid)),np.array(y_chi2mod)/(180/np.pi),label='Inelasticity Binning',ls='',marker='x',lw=1.7)\n",
    "plt.xticks(ticks=range(len(th24_th34_grid)),labels=([(th24,th34) for (th24,th34) in th24_th34_grid]),rotation=45);\n",
    "plt.xlabel('(th24,th34)')\n",
    "plt.ylabel(r'$\\Delta \\chi$$^{2}_{mod}/%s$' % (180/np.pi))\n",
    "plt.yscale('log')\n",
    "plt.legend()"
   ]
  },
  {
   "cell_type": "code",
   "execution_count": null,
   "id": "562803ff-d984-41d5-9d22-3731e2aac54a",
   "metadata": {},
   "outputs": [],
   "source": [
    "plt.plot(range(len(th24_th34_grid)),\n",
    "         (-np.array(flercnn_chi2mod)+np.array(y_chi2mod))/np.array(flercnn_chi2mod),ls='--',marker='+')\n",
    "plt.xticks(ticks=range(len(th24_th34_grid)),labels=([(th24,th34) for (th24,th34) in th24_th34_grid]),rotation=45);\n",
    "plt.xlabel('(th24,th34)')\n",
    "plt.ylabel(r'($\\chi$$^{2}_{mod, y}$ - $\\chi$$^{2}_{mod, FLERCNN}$)/$\\chi$$^{2}_{mod, FLERCNN}$')"
   ]
  },
  {
   "cell_type": "code",
   "execution_count": null,
   "id": "6353a29d-e7d7-4183-8279-8dff29aeccf9",
   "metadata": {},
   "outputs": [],
   "source": [
    "events purtiy fraction chi^2 per bin category per pipeline for SM and sterile"
   ]
  },
  {
   "cell_type": "code",
   "execution_count": null,
   "id": "8ae776d9-cf85-48fa-8da3-1fb165c6d839",
   "metadata": {},
   "outputs": [],
   "source": [
    "vs_template = neuconfigToTemplate(vs_cfg)"
   ]
  },
  {
   "cell_type": "code",
   "execution_count": null,
   "id": "d245d058-f24a-4cd4-88b2-c037060af19a",
   "metadata": {},
   "outputs": [],
   "source": [
    "vs_template.params.theta24.value = float(0)*units.degree\n",
    "vs_template.params.theta34.value = float(0)*units.degree\n",
    "\n",
    "vs_total = vs_template.get_outputs(return_sum=True)\n",
    "vs_indiv = vs_template.get_outputs(return_sum=False)\n",
    "\n",
    "vs_template.params.theta24.value = float(15)*units.degree\n",
    "vs_template.params.theta34.value = float(15)*units.degree\n",
    "vs_template.params.deltam41.value = 1.0 * units.eV**2\n",
    "\n",
    "vs_total_oscillated = vs_template.get_outputs(return_sum=True)[0]\n",
    "vs_indiv_oscillated = vs_template.get_outputs(return_sum=False)[0]"
   ]
  },
  {
   "cell_type": "code",
   "execution_count": null,
   "id": "9c3c054c-5d9c-44b1-97d6-cfad2e9cb76e",
   "metadata": {},
   "outputs": [],
   "source": [
    "vs_total_oscillated.metric_total(vs_total,'mod_chi2')"
   ]
  },
  {
   "cell_type": "code",
   "execution_count": null,
   "id": "b0d66d2c-008d-4917-8e91-9751b617641c",
   "metadata": {},
   "outputs": [],
   "source": []
  },
  {
   "cell_type": "code",
   "execution_count": null,
   "id": "0683bc5e-a87f-46d4-a15b-fca837711a5d",
   "metadata": {},
   "outputs": [],
   "source": [
    "vs_total_oscillated.slice(pid='mixed').metric_total(vs_total.slice(pid='mixed'),'mod_chi2')"
   ]
  },
  {
   "cell_type": "code",
   "execution_count": null,
   "id": "0873c7dc-6881-4550-b168-925a0efec072",
   "metadata": {},
   "outputs": [],
   "source": [
    "vs_total.chi2_per_map.plot()"
   ]
  },
  {
   "cell_type": "code",
   "execution_count": null,
   "id": "e15cb843-a571-4de8-b26d-839512c3d6a8",
   "metadata": {},
   "outputs": [],
   "source": []
  }
 ],
 "metadata": {
  "kernelspec": {
   "display_name": "Python 3 (ipykernel)",
   "language": "python",
   "name": "python3"
  },
  "language_info": {
   "codemirror_mode": {
    "name": "ipython",
    "version": 3
   },
   "file_extension": ".py",
   "mimetype": "text/x-python",
   "name": "python",
   "nbconvert_exporter": "python",
   "pygments_lexer": "ipython3",
   "version": "3.10.2"
  }
 },
 "nbformat": 4,
 "nbformat_minor": 5
}
