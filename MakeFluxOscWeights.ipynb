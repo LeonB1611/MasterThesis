{
 "cells": [
  {
   "cell_type": "code",
   "execution_count": 1,
   "id": "dfb35483-7b5c-4fa3-b66e-ae782edaa121",
   "metadata": {},
   "outputs": [],
   "source": [
    "import h5py as hdf"
   ]
  },
  {
   "cell_type": "code",
   "execution_count": 2,
   "id": "8104e58c-d6e6-408f-9257-797928d2a8f2",
   "metadata": {},
   "outputs": [],
   "source": [
    "FLERCNN_vars = {'reco_coszen':'FLERCNN_coszen',\n",
    "                'reco_energy':'FLERCNN_energy',\n",
    "                'BDT_PID':'FLERCNN_plus_bdt_PID',\n",
    "                'PID':'FLERCNN_prob_track',\n",
    "                'weighted_aeff':'weighted_aeff',\n",
    "                'livetime':'data_livetime',\n",
    "                'ReferenceWeight':'ReferenceWeight',\n",
    "                'true_energy':'MCInIcePrimary.energy',\n",
    "                'pdg_code':'MCInIcePrimary.pdg_encoding',\n",
    "                'BDT_y':'FLERCNN_plus_bdt_y',\n",
    "                'bjorken_y':'I3GENIEResultDict.y',\n",
    "                'true_rho36':'MCExtraTruthInfo.vertex_rho36',\n",
    "                'true_coszen':'MCInIcePrimary.dir.coszen',\n",
    "                'is_cc':'I3GENIEResultDict.cc',\n",
    "                'is_nc':'I3GENIEResultDict.nc',\n",
    "                'dis':'I3GENIEResultDict.dis',\n",
    "                'interaction':'I3MCWeightDict.InteractionType',\n",
    "}"
   ]
  },
  {
   "cell_type": "code",
   "execution_count": 3,
   "id": "d51bb3eb-f454-4c69-a24e-b2126c450a40",
   "metadata": {},
   "outputs": [],
   "source": [
    "folder = '/afs/ifh.de/user/a/akumar/lustre/data/oscNext/flercnn_sample_inelasticity/'"
   ]
  },
  {
   "cell_type": "code",
   "execution_count": 4,
   "id": "25393617-c0de-4e97-a2b0-d43a388bc3f5",
   "metadata": {},
   "outputs": [],
   "source": [
    "pisahdf_filenames ={'0000':'oscNext_pisa_genie_0000_flercnn_plus.hdf5',\n",
    "                    '1122':'oscNext_pisa_genie_1122_flercnn_plus.hdf5',\n",
    "                    '1151':'oscNext_pisa_genie_1151_flercnn_plus.hdf5',\n",
    "                    '1154':'oscNext_pisa_genie_1154_flercnn_plus.hdf5',\n",
    "                    '121151':'FLERCNN_plus_121151.h5',\n",
    "                    '141154':'FLERCNN_plus_141154.h5',\n",
    "                    '161151':'FLERCNN_plus_161151.h5'\n",
    "                   }\n",
    "\n",
    "#1151 contains muons neutrinos\n",
    "#1154 muon neutrinos + GEANT4\n",
    "#FLERCNN_plus = old\n",
    "#oscNext_pisa_genie = new"
   ]
  },
  {
   "cell_type": "code",
   "execution_count": 5,
   "id": "4875fb19-80b3-4056-9b46-920f1805a34a",
   "metadata": {},
   "outputs": [],
   "source": [
    "filename = '0000'"
   ]
  },
  {
   "cell_type": "code",
   "execution_count": 6,
   "id": "aca5c2f1-a886-4767-876f-bdf64ab9417e",
   "metadata": {},
   "outputs": [],
   "source": [
    "file = hdf.File(folder+pisahdf_filenames[filename],'r')"
   ]
  },
  {
   "cell_type": "code",
   "execution_count": 7,
   "id": "af61cf5a-5224-4717-996e-2a6b6bc6f934",
   "metadata": {},
   "outputs": [
    {
     "name": "stderr",
     "output_type": "stream",
     "text": [
      "<< PISA is running in double precision (FP64) mode; numba is running on CPU (single core) >>\n"
     ]
    }
   ],
   "source": [
    "from neutrino_weighter_new_PISA import GENIENeutrinoWeighter_Backup"
   ]
  },
  {
   "cell_type": "code",
   "execution_count": 8,
   "id": "49f7a3b1-ef56-4bfe-8a74-99af95182ae7",
   "metadata": {},
   "outputs": [],
   "source": [
    "nutypes = {}\n",
    "for flavor in file.keys():\n",
    "    if 'bar' in flavor:\n",
    "        nutypes.update({flavor:0})\n",
    "    else:\n",
    "        nutypes.update({flavor:1})\n",
    "\n",
    "flavinds = {}\n",
    "for flavor in file.keys():\n",
    "    if 'mu' in flavor:\n",
    "        flavinds.update({flavor:1})\n",
    "    elif 'tau' in flavor:\n",
    "        flavinds.update({flavor:2})\n",
    "    else:\n",
    "        flavinds.update({flavor:0})"
   ]
  },
  {
   "cell_type": "code",
   "execution_count": 9,
   "id": "ead51c54-682b-46a5-a40e-993ab2af9b75",
   "metadata": {},
   "outputs": [],
   "source": [
    "def skipNflavors(flavor,N):\n",
    "    for i,fl in enumerate(file.keys()):\n",
    "        if fl==flavor and i+1<=N:\n",
    "            return 'skip'\n",
    "        else:\n",
    "            continue\n",
    "    return 'next'"
   ]
  },
  {
   "cell_type": "code",
   "execution_count": 10,
   "id": "42783ee2-89c6-4daf-bed2-51ca24be65c3",
   "metadata": {},
   "outputs": [],
   "source": [
    "Nskip=0"
   ]
  },
  {
   "cell_type": "code",
   "execution_count": 11,
   "id": "890eb6c5-3d3d-4a46-9233-c9e257bccd15",
   "metadata": {},
   "outputs": [
    {
     "name": "stdout",
     "output_type": "stream",
     "text": [
      "\n",
      "Calculating: nue_cc osc.+flux weights\n",
      "Calculating nominal nue flux\n",
      "Calculating nominal numu flux\n",
      "Calculating nominal nuebar flux\n",
      "Calculating nominal numubar flux\n",
      "Calculating oscillation probabilities...\n",
      "\n",
      "Calculating: nue_nc osc.+flux weights\n",
      "Calculating nominal nue flux\n",
      "Calculating nominal numu flux\n",
      "Calculating nominal nuebar flux\n",
      "Calculating nominal numubar flux\n",
      "Calculating oscillation probabilities...\n",
      "\n",
      "Calculating: nuebar_cc osc.+flux weights\n",
      "Calculating nominal nue flux\n",
      "Calculating nominal numu flux\n",
      "Calculating nominal nuebar flux\n",
      "Calculating nominal numubar flux\n",
      "Calculating oscillation probabilities...\n",
      "\n",
      "Calculating: nuebar_nc osc.+flux weights\n",
      "Calculating nominal nue flux\n",
      "Calculating nominal numu flux\n",
      "Calculating nominal nuebar flux\n",
      "Calculating nominal numubar flux\n",
      "Calculating oscillation probabilities...\n",
      "\n",
      "Calculating: numu_cc osc.+flux weights\n",
      "Calculating nominal nue flux\n",
      "Calculating nominal numu flux\n",
      "Calculating nominal nuebar flux\n",
      "Calculating nominal numubar flux\n",
      "Calculating oscillation probabilities...\n",
      "\n",
      "Calculating: numu_nc osc.+flux weights\n",
      "Calculating nominal nue flux\n",
      "Calculating nominal numu flux\n",
      "Calculating nominal nuebar flux\n",
      "Calculating nominal numubar flux\n",
      "Calculating oscillation probabilities...\n",
      "\n",
      "Calculating: numubar_cc osc.+flux weights\n",
      "Calculating nominal nue flux\n",
      "Calculating nominal numu flux\n",
      "Calculating nominal nuebar flux\n",
      "Calculating nominal numubar flux\n",
      "Calculating oscillation probabilities...\n",
      "\n",
      "Calculating: numubar_nc osc.+flux weights\n",
      "Calculating nominal nue flux\n",
      "Calculating nominal numu flux\n",
      "Calculating nominal nuebar flux\n",
      "Calculating nominal numubar flux\n",
      "Calculating oscillation probabilities...\n",
      "\n",
      "Calculating: nutau_cc osc.+flux weights\n",
      "Calculating nominal nue flux\n",
      "Calculating nominal numu flux\n",
      "Calculating nominal nuebar flux\n",
      "Calculating nominal numubar flux\n",
      "Calculating oscillation probabilities...\n",
      "\n",
      "Calculating: nutau_nc osc.+flux weights\n",
      "Calculating nominal nue flux\n",
      "Calculating nominal numu flux\n",
      "Calculating nominal nuebar flux\n",
      "Calculating nominal numubar flux\n",
      "Calculating oscillation probabilities...\n",
      "\n",
      "Calculating: nutaubar_cc osc.+flux weights\n",
      "Calculating nominal nue flux\n",
      "Calculating nominal numu flux\n",
      "Calculating nominal nuebar flux\n",
      "Calculating nominal numubar flux\n",
      "Calculating oscillation probabilities...\n",
      "\n",
      "Calculating: nutaubar_nc osc.+flux weights\n",
      "Calculating nominal nue flux\n",
      "Calculating nominal numu flux\n",
      "Calculating nominal nuebar flux\n",
      "Calculating nominal numubar flux\n",
      "Calculating oscillation probabilities...\n"
     ]
    }
   ],
   "source": [
    "#hf0 = hdf.File('FluxOscWeights/fluxoscweights_0000.h5', 'w')\n",
    "\n",
    "for flavor in file.keys():\n",
    "    #comment this out if you want it to run\n",
    "    #continue\n",
    "    if skipNflavors(flavor,Nskip)=='skip':\n",
    "        continue\n",
    "    else:\n",
    "        pass\n",
    "        \n",
    "    print('\\nCalculating: '+flavor+' osc.+flux weights')\n",
    "    \n",
    "    fluxweights = GENIENeutrinoWeighter_Backup()\n",
    "    \n",
    "    en = file[flavor][FLERCNN_vars['true_energy']][:]\n",
    "    cos = file[flavor][FLERCNN_vars['true_coszen']][:]\n",
    "    ws = file[flavor][FLERCNN_vars['weighted_aeff']][:]\n",
    "    \n",
    "    flav_weights = fluxweights(en,cos,flavinds[flavor],nutypes[flavor],ws)\n",
    "    \n",
    "    #hf0.create_dataset(flavor+'_osc_flux_weights', data = flav_weights)\n",
    "\n",
    "#hf0.close()"
   ]
  },
  {
   "cell_type": "code",
   "execution_count": 12,
   "id": "f78d4f84-a3cf-4449-b005-deb26cffc3af",
   "metadata": {},
   "outputs": [],
   "source": [
    "#hf.close()"
   ]
  },
  {
   "cell_type": "code",
   "execution_count": 13,
   "id": "e7e47d91-f7e3-41f6-a3bd-111099603730",
   "metadata": {},
   "outputs": [],
   "source": [
    "from neutrino_weighter_new_PISA import GENIENeutrinoWeighter_split"
   ]
  },
  {
   "cell_type": "code",
   "execution_count": 14,
   "id": "ef666fea-fcd4-4bea-842f-49280c6a4c0f",
   "metadata": {},
   "outputs": [],
   "source": [
    "#hf_split = hdf.File('FluxOscWeights/weights_splitfactors.h5', 'w')\n",
    "\n",
    "for flavor in file.keys():\n",
    "    #comment this out if you want it to run\n",
    "    continue\n",
    "    if flavor=='numu_cc' or flavor=='numubar_cc':\n",
    "        continue\n",
    "    else:\n",
    "        pass\n",
    "        \n",
    "    print('\\nCalculating: '+flavor+' osc.+flux weights')\n",
    "    \n",
    "    fluxweights = GENIENeutrinoWeighter_split()\n",
    "    \n",
    "    en = file[flavor][FLERCNN_vars['true_energy']][:]\n",
    "    cos = file[flavor][FLERCNN_vars['true_coszen']][:]\n",
    "    ws = file[flavor][FLERCNN_vars['weighted_aeff']][:]\n",
    "    \n",
    "    splits = fluxweights(en,cos,flavinds[flavor],nutypes[flavor],ws)\n",
    "    \n",
    "    #hf_split.create_dataset(flavor+'_fluxfactor', data = splits[0])\n",
    "    #hf_split.create_dataset(flavor+'_probfactor', data = splits[1])\n",
    "    #hf_split.create_dataset(flavor+'_aefffactor', data = splits[2])\n",
    "\n",
    "#hf_split.close()"
   ]
  },
  {
   "cell_type": "code",
   "execution_count": 15,
   "id": "f7df4fe7-ea38-48d8-86b6-8bd9e285442b",
   "metadata": {},
   "outputs": [
    {
     "data": {
      "text/plain": [
       "<KeysViewHDF5 ['nue_cc_aefffactor', 'nue_cc_fluxfactor', 'nue_cc_probfactor', 'nue_nc_aefffactor', 'nue_nc_fluxfactor', 'nue_nc_probfactor', 'nuebar_cc_aefffactor', 'nuebar_cc_fluxfactor', 'nuebar_cc_probfactor', 'nuebar_nc_aefffactor', 'nuebar_nc_fluxfactor', 'nuebar_nc_probfactor', 'numu_nc_aefffactor', 'numu_nc_fluxfactor', 'numu_nc_probfactor', 'numubar_nc_aefffactor', 'numubar_nc_fluxfactor', 'numubar_nc_probfactor', 'nutau_cc_aefffactor', 'nutau_cc_fluxfactor', 'nutau_cc_probfactor', 'nutau_nc_aefffactor', 'nutau_nc_fluxfactor', 'nutau_nc_probfactor', 'nutaubar_cc_aefffactor', 'nutaubar_cc_fluxfactor', 'nutaubar_cc_probfactor', 'nutaubar_nc_aefffactor', 'nutaubar_nc_fluxfactor', 'nutaubar_nc_probfactor']>"
      ]
     },
     "execution_count": 15,
     "metadata": {},
     "output_type": "execute_result"
    }
   ],
   "source": [
    "hf_split_done = hdf.File('FluxOscWeights/weights_splitfactors.h5', 'r')\n",
    "hf_split_done.keys()"
   ]
  },
  {
   "cell_type": "code",
   "execution_count": null,
   "id": "b150e0cf-78c9-4335-802f-ba0c9130f7d1",
   "metadata": {},
   "outputs": [],
   "source": []
  }
 ],
 "metadata": {
  "kernelspec": {
   "display_name": "Python 3 (ipykernel)",
   "language": "python",
   "name": "python3"
  },
  "language_info": {
   "codemirror_mode": {
    "name": "ipython",
    "version": 3
   },
   "file_extension": ".py",
   "mimetype": "text/x-python",
   "name": "python",
   "nbconvert_exporter": "python",
   "pygments_lexer": "ipython3",
   "version": "3.10.2"
  }
 },
 "nbformat": 4,
 "nbformat_minor": 5
}
