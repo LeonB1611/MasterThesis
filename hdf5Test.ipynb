{
 "cells": [
  {
   "cell_type": "code",
   "execution_count": 1,
   "id": "c5ba934a",
   "metadata": {},
   "outputs": [],
   "source": [
    "%matplotlib inline\n",
    "import matplotlib as mpl\n",
    "import nuSQUIDSpy as nsq\n",
    "import matplotlib.pyplot as plt\n",
    "\n",
    "import nuSQUIDSTools\n",
    "import numpy as np\n",
    "import time as t\n",
    "import h5py as hdf"
   ]
  },
  {
   "cell_type": "code",
   "execution_count": 12,
   "id": "7f503535",
   "metadata": {},
   "outputs": [],
   "source": [
    "inelast_filenames ={'e':'FLERCNN_plus_121151.h5'\n",
    "            ,'mu':'FLERCNN_plus_141154.h5'\n",
    "            ,'tau':'FLERCNN_plus_161151.h5'}"
   ]
  },
  {
   "cell_type": "code",
   "execution_count": 15,
   "id": "2003f226",
   "metadata": {},
   "outputs": [],
   "source": [
    "folder = '/afs/ifh.de/user/a/akumar/lustre/data/oscNext/flercnn_sample_inelasticity/'\n",
    "hdf_inel_mu = hdf.File(folder+inelast_filenames['mu'],'r')"
   ]
  },
  {
   "cell_type": "code",
   "execution_count": 17,
   "id": "e8b09756",
   "metadata": {},
   "outputs": [
    {
     "data": {
      "text/plain": [
       "<KeysViewHDF5 ['CNN2D_PID_prob_t', 'CNN2D_y_lvl3_30gev_100rho36', 'CNN2D_y_lvl3_5gev_100rho36', 'CNN2D_y_lvl6_30gev_200rho36', 'CNN2D_y_lvl6_5gev_200rho36', 'L4_NoiseClassifier_ProbNu', 'bjorken_y', 'dis', 'interaction', 'pdg_code', 'reco_PID', 'reco_coszen', 'reco_energy', 'true_coszen', 'true_energy', 'weighted_aeff']>"
      ]
     },
     "execution_count": 17,
     "metadata": {},
     "output_type": "execute_result"
    }
   ],
   "source": [
    "hdf_inel_mu.keys()"
   ]
  },
  {
   "cell_type": "code",
   "execution_count": 29,
   "id": "657db0cd",
   "metadata": {},
   "outputs": [],
   "source": [
    "y_inel = hdf_inel_mu['bjorken_y'][1:]\n",
    "true_E = hdf_inel_mu['true_energy'][1:]\n",
    "reco_E = hdf_inel_mu['reco_energy'][1:]\n",
    "reco_PID = hdf_inel_mu['reco_PID'][1:]"
   ]
  },
  {
   "cell_type": "code",
   "execution_count": 26,
   "id": "f501598d",
   "metadata": {},
   "outputs": [],
   "source": [
    "a=hdf_inel_mu['pdg_code'][:]"
   ]
  },
  {
   "cell_type": "code",
   "execution_count": 45,
   "id": "8776c1f4",
   "metadata": {},
   "outputs": [],
   "source": [
    "for k in hdf_inel_mu.keys():\n",
    "    plt.hist(hdf_inel_mu[k][1:],histtype='step')\n",
    "    plt.title('{}'.format(k))\n",
    "    plt.yscale('log')\n",
    "    plt.savefig('Inelast_Plots/hdfkeys_hist/{}_hist.png'.format(k))\n",
    "    plt.close()"
   ]
  },
  {
   "cell_type": "code",
   "execution_count": null,
   "id": "1ab47934",
   "metadata": {},
   "outputs": [],
   "source": []
  }
 ],
 "metadata": {
  "kernelspec": {
   "display_name": "Python 3 (ipykernel)",
   "language": "python",
   "name": "python3"
  },
  "language_info": {
   "codemirror_mode": {
    "name": "ipython",
    "version": 3
   },
   "file_extension": ".py",
   "mimetype": "text/x-python",
   "name": "python",
   "nbconvert_exporter": "python",
   "pygments_lexer": "ipython3",
   "version": "3.10.2"
  }
 },
 "nbformat": 4,
 "nbformat_minor": 5
}
